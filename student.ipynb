{
 "cells": [
  {
   "cell_type": "markdown",
   "metadata": {},
   "source": [
    "# Northwind Tests\n",
    "\n",
    "## Table of Contents\n",
    "### [0. Introduction](#0)\n",
    "### [1. Discount Effect](#1)\n",
    "1. [Get Data](#1.1)\n",
    "2. [Explore and Clean](#1.2)\n",
    "3. [Experimental Design](#1.3)\n",
    "  - [Get Samples](#1.3.1)\n",
    "  - [T Test](#1.3.2)\n",
    "  - [Analyze Results](#1.3.3)\n",
    "  - [ANOVA](#1.3.4)\n",
    "4. [Conclusion](#1.4)\n",
    "  \n",
    "### [2. Seasonality](#2)\n",
    "1. [Hypothesis](#2.1)\n",
    "2. [Obtain](#2.2)\n",
    "3. [Data Exploration](#2.3)\n",
    "4. [Scrubbing](#2.4)\n",
    "5. [Experiment](#2.5)\n",
    "6. [Analyze](#2.6)\n",
    "\n",
    "### [3. Supply Region and Reorder Rates](#3)\n",
    "1. [Hypothesis](#3.1)\n",
    "2. [Obtain](#3.2)\n",
    "3. [Explore and Scrub](#3.3)\n",
    "4. [Experiment](#3.4)\n",
    "5. [Analyze](#3.5)\n",
    "\n",
    "### [4. High Yield Customers](#4)\n",
    "1. [Hypothesis](#4.1)\n",
    "2. [Obtain](#4.2)\n",
    "3. [Explore and Scrub](#4.3)\n",
    "4. [Experiment](#4.4)\n",
    "5. [Analyze](#4.5)\n",
    "\n",
    "### [5. Conclusion](#5)\n",
    "### [6. Future Work](#6)\n",
    "### [7. Recap](#7)\n",
    "\n",
    "<a id=\"0\"></a>\n",
    "## 0. Introduction\n",
    "For this project, we'll be working with the Northwind database--a free, open-source dataset created by Microsoft containing data from a fictional company. The goal of this project is to gather information from a real-world database and use our knowledge of statistical analysis and hypothesis testing to generate analytical insights that can be of value to the company.\n",
    "\n",
    "The goal of your project is to answer the following question:\n",
    "\n",
    "Do discounts have a statistically significant effect on the number of products customers order? If so, at what level(s) of discount?\n",
    "\n",
    "In addition to answering this question, we came up with 3 other hypotheses to test that provides essential information for the company."
   ]
  },
  {
   "cell_type": "code",
   "execution_count": 54,
   "metadata": {
    "ExecuteTime": {
     "end_time": "2019-06-25T22:11:20.953073Z",
     "start_time": "2019-06-25T22:11:20.938643Z"
    },
    "collapsed": true
   },
   "outputs": [],
   "source": [
    "# Imports\n",
    "import sqlalchemy\n",
    "from sqlalchemy import create_engine\n",
    "from sqlalchemy.orm import Session, sessionmaker\n",
    "from sqlalchemy import inspect\n",
    "import pandas as pd\n",
    "import numpy as np\n",
    "import scipy.stats as stats\n",
    "import random\n",
    "import seaborn as sns\n",
    "import matplotlib.pyplot as plt\n",
    "\n",
    "%matplotlib inline\n",
    "\n",
    "# Connect to database\n",
    "engine = create_engine(\"sqlite:///Northwind_small.sqlite\", echo=True)\n",
    "Session = sessionmaker(bind=engine)\n",
    "session = Session()"
   ]
  },
  {
   "cell_type": "code",
   "execution_count": 55,
   "metadata": {
    "ExecuteTime": {
     "end_time": "2019-06-25T22:11:20.970429Z",
     "start_time": "2019-06-25T22:11:20.955210Z"
    }
   },
   "outputs": [
    {
     "name": "stdout",
     "output_type": "stream",
     "text": [
      "2019-06-25 17:11:20,957 INFO sqlalchemy.engine.base.Engine SELECT CAST('test plain returns' AS VARCHAR(60)) AS anon_1\n",
      "2019-06-25 17:11:20,959 INFO sqlalchemy.engine.base.Engine ()\n",
      "2019-06-25 17:11:20,961 INFO sqlalchemy.engine.base.Engine SELECT CAST('test unicode returns' AS VARCHAR(60)) AS anon_1\n",
      "2019-06-25 17:11:20,962 INFO sqlalchemy.engine.base.Engine ()\n",
      "2019-06-25 17:11:20,964 INFO sqlalchemy.engine.base.Engine SELECT name FROM sqlite_master WHERE type='table' ORDER BY name\n",
      "2019-06-25 17:11:20,965 INFO sqlalchemy.engine.base.Engine ()\n",
      "['Category', 'Customer', 'CustomerCustomerDemo', 'CustomerDemographic', 'Employee', 'EmployeeTerritory', 'Order', 'OrderDetail', 'Product', 'Region', 'Shipper', 'Supplier', 'Territory']\n"
     ]
    }
   ],
   "source": [
    "# Use inspect to check database metadata against the ERD we have of the database\n",
    "inspector = inspect(engine)\n",
    "table_names = inspector.get_table_names()\n",
    "print(table_names)"
   ]
  },
  {
   "cell_type": "markdown",
   "metadata": {},
   "source": [
    "<a id=\"1\"></a>\n",
    "## 1. Discount Effect\n",
    "Do discounts have a statistically significant effect on the number of products customers order? If so, at what level(s) of discount?\n",
    "\n",
    "<a id=\"1.1\"></a>\n",
    "### 1.1 Get Data\n",
    "\n",
    "Our first step is to query our database for the tables we might need and save the data into a pandas.DataFrame to work with. At this point, we see which of the tables are necessary for us to gather the data we need to answer our business questions."
   ]
  },
  {
   "cell_type": "code",
   "execution_count": 56,
   "metadata": {
    "ExecuteTime": {
     "end_time": "2019-06-25T22:11:21.027870Z",
     "start_time": "2019-06-25T22:11:21.002245Z"
    }
   },
   "outputs": [
    {
     "name": "stdout",
     "output_type": "stream",
     "text": [
      "2019-06-25 17:11:21,016 INFO sqlalchemy.engine.base.Engine PRAGMA table_info(\"Employee\")\n",
      "2019-06-25 17:11:21,017 INFO sqlalchemy.engine.base.Engine ()\n",
      "Table Name: Employee\n",
      "\n",
      "Name: Id, \t INTEGER\n",
      "Name: LastName, \t VARCHAR(8000)\n",
      "Name: FirstName, \t VARCHAR(8000)\n",
      "Name: Title, \t VARCHAR(8000)\n",
      "Name: TitleOfCourtesy, \t VARCHAR(8000)\n",
      "Name: BirthDate, \t VARCHAR(8000)\n",
      "Name: HireDate, \t VARCHAR(8000)\n",
      "Name: Address, \t VARCHAR(8000)\n",
      "Name: City, \t VARCHAR(8000)\n",
      "Name: Region, \t VARCHAR(8000)\n",
      "Name: PostalCode, \t VARCHAR(8000)\n",
      "Name: Country, \t VARCHAR(8000)\n",
      "Name: HomePhone, \t VARCHAR(8000)\n",
      "Name: Extension, \t VARCHAR(8000)\n",
      "Name: Photo, \t BLOB\n",
      "Name: Notes, \t VARCHAR(8000)\n",
      "Name: ReportsTo, \t INTEGER\n",
      "Name: PhotoPath, \t VARCHAR(8000)\n"
     ]
    }
   ],
   "source": [
    "# I created a couple of functions to make it easier to inspect and retreive necessary data\n",
    "\n",
    "def get_columns_info(table_name):\n",
    "    \"\"\" Print the name and type of each column in the given table.\n",
    "    \n",
    "    Args:\n",
    "        table_name: Name of the table (string)\n",
    "    \"\"\"\n",
    "    cols_list = inspector.get_columns(table_name)\n",
    "    \n",
    "    print(\"Table Name: {}\".format(table_name))\n",
    "    print(\"\")\n",
    "    for column in cols_list:\n",
    "        print(\"Name: {}, \\t {}\".format(column['name'], column['type']))\n",
    "\n",
    "\n",
    "def get_column_names(table_name):\n",
    "    \"\"\" Get the name of each column in the given table.\n",
    "    \n",
    "    Args:\n",
    "        table_name: Name of the table (string)\n",
    "    \n",
    "    Returns:\n",
    "        A list of column names\n",
    "    \"\"\"\n",
    "    cols_list = inspector.get_columns(table_name)\n",
    "    col_names = []\n",
    "    for column in cols_list:\n",
    "        col_names.append(column['name'])\n",
    "    return col_names\n",
    "\n",
    "get_columns_info('Employee')"
   ]
  },
  {
   "cell_type": "code",
   "execution_count": 57,
   "metadata": {
    "ExecuteTime": {
     "end_time": "2019-06-25T22:11:21.033547Z",
     "start_time": "2019-06-25T22:11:21.029932Z"
    },
    "collapsed": true
   },
   "outputs": [],
   "source": [
    "con = engine.connect()"
   ]
  },
  {
   "cell_type": "markdown",
   "metadata": {},
   "source": [
    "<a id=\"1.2\"></a>\n",
    "### 1.2 Explore and Clean"
   ]
  },
  {
   "cell_type": "code",
   "execution_count": 58,
   "metadata": {
    "ExecuteTime": {
     "end_time": "2019-06-25T22:11:21.120246Z",
     "start_time": "2019-06-25T22:11:21.064889Z"
    }
   },
   "outputs": [
    {
     "name": "stdout",
     "output_type": "stream",
     "text": [
      "2019-06-25 17:11:21,074 INFO sqlalchemy.engine.base.Engine SELECT * FROM 'Product'\n",
      "2019-06-25 17:11:21,075 INFO sqlalchemy.engine.base.Engine ()\n",
      "2019-06-25 17:11:21,079 INFO sqlalchemy.engine.base.Engine PRAGMA table_info(\"Product\")\n",
      "2019-06-25 17:11:21,080 INFO sqlalchemy.engine.base.Engine ()\n",
      "2019-06-25 17:11:21,083 INFO sqlalchemy.engine.base.Engine SELECT * FROM 'OrderDetail'\n",
      "2019-06-25 17:11:21,084 INFO sqlalchemy.engine.base.Engine ()\n",
      "2019-06-25 17:11:21,093 INFO sqlalchemy.engine.base.Engine PRAGMA table_info(\"OrderDetail\")\n",
      "2019-06-25 17:11:21,094 INFO sqlalchemy.engine.base.Engine ()\n",
      "2019-06-25 17:11:21,097 INFO sqlalchemy.engine.base.Engine SELECT * FROM 'Order'\n",
      "2019-06-25 17:11:21,098 INFO sqlalchemy.engine.base.Engine ()\n",
      "2019-06-25 17:11:21,105 INFO sqlalchemy.engine.base.Engine PRAGMA table_info(\"Order\")\n",
      "2019-06-25 17:11:21,106 INFO sqlalchemy.engine.base.Engine ()\n"
     ]
    },
    {
     "data": {
      "text/html": [
       "<div>\n",
       "<style>\n",
       "    .dataframe thead tr:only-child th {\n",
       "        text-align: right;\n",
       "    }\n",
       "\n",
       "    .dataframe thead th {\n",
       "        text-align: left;\n",
       "    }\n",
       "\n",
       "    .dataframe tbody tr th {\n",
       "        vertical-align: top;\n",
       "    }\n",
       "</style>\n",
       "<table border=\"1\" class=\"dataframe\">\n",
       "  <thead>\n",
       "    <tr style=\"text-align: right;\">\n",
       "      <th></th>\n",
       "      <th>Id</th>\n",
       "      <th>ProductName</th>\n",
       "      <th>SupplierId</th>\n",
       "      <th>CategoryId</th>\n",
       "      <th>QuantityPerUnit</th>\n",
       "      <th>UnitPrice</th>\n",
       "      <th>UnitsInStock</th>\n",
       "      <th>UnitsOnOrder</th>\n",
       "      <th>ReorderLevel</th>\n",
       "      <th>Discontinued</th>\n",
       "    </tr>\n",
       "  </thead>\n",
       "  <tbody>\n",
       "    <tr>\n",
       "      <th>0</th>\n",
       "      <td>1</td>\n",
       "      <td>Chai</td>\n",
       "      <td>1</td>\n",
       "      <td>1</td>\n",
       "      <td>10 boxes x 20 bags</td>\n",
       "      <td>18.00</td>\n",
       "      <td>39</td>\n",
       "      <td>0</td>\n",
       "      <td>10</td>\n",
       "      <td>0</td>\n",
       "    </tr>\n",
       "    <tr>\n",
       "      <th>1</th>\n",
       "      <td>2</td>\n",
       "      <td>Chang</td>\n",
       "      <td>1</td>\n",
       "      <td>1</td>\n",
       "      <td>24 - 12 oz bottles</td>\n",
       "      <td>19.00</td>\n",
       "      <td>17</td>\n",
       "      <td>40</td>\n",
       "      <td>25</td>\n",
       "      <td>0</td>\n",
       "    </tr>\n",
       "    <tr>\n",
       "      <th>2</th>\n",
       "      <td>3</td>\n",
       "      <td>Aniseed Syrup</td>\n",
       "      <td>1</td>\n",
       "      <td>2</td>\n",
       "      <td>12 - 550 ml bottles</td>\n",
       "      <td>10.00</td>\n",
       "      <td>13</td>\n",
       "      <td>70</td>\n",
       "      <td>25</td>\n",
       "      <td>0</td>\n",
       "    </tr>\n",
       "    <tr>\n",
       "      <th>3</th>\n",
       "      <td>4</td>\n",
       "      <td>Chef Anton's Cajun Seasoning</td>\n",
       "      <td>2</td>\n",
       "      <td>2</td>\n",
       "      <td>48 - 6 oz jars</td>\n",
       "      <td>22.00</td>\n",
       "      <td>53</td>\n",
       "      <td>0</td>\n",
       "      <td>0</td>\n",
       "      <td>0</td>\n",
       "    </tr>\n",
       "    <tr>\n",
       "      <th>4</th>\n",
       "      <td>5</td>\n",
       "      <td>Chef Anton's Gumbo Mix</td>\n",
       "      <td>2</td>\n",
       "      <td>2</td>\n",
       "      <td>36 boxes</td>\n",
       "      <td>21.35</td>\n",
       "      <td>0</td>\n",
       "      <td>0</td>\n",
       "      <td>0</td>\n",
       "      <td>1</td>\n",
       "    </tr>\n",
       "  </tbody>\n",
       "</table>\n",
       "</div>"
      ],
      "text/plain": [
       "   Id                   ProductName  SupplierId  CategoryId  \\\n",
       "0   1                          Chai           1           1   \n",
       "1   2                         Chang           1           1   \n",
       "2   3                 Aniseed Syrup           1           2   \n",
       "3   4  Chef Anton's Cajun Seasoning           2           2   \n",
       "4   5        Chef Anton's Gumbo Mix           2           2   \n",
       "\n",
       "       QuantityPerUnit  UnitPrice  UnitsInStock  UnitsOnOrder  ReorderLevel  \\\n",
       "0   10 boxes x 20 bags      18.00            39             0            10   \n",
       "1   24 - 12 oz bottles      19.00            17            40            25   \n",
       "2  12 - 550 ml bottles      10.00            13            70            25   \n",
       "3       48 - 6 oz jars      22.00            53             0             0   \n",
       "4             36 boxes      21.35             0             0             0   \n",
       "\n",
       "   Discontinued  \n",
       "0             0  \n",
       "1             0  \n",
       "2             0  \n",
       "3             0  \n",
       "4             1  "
      ]
     },
     "execution_count": 58,
     "metadata": {},
     "output_type": "execute_result"
    }
   ],
   "source": [
    "def get_table_data(table_name, con=con):\n",
    "    \"\"\"Get the data from the given table\n",
    "    \n",
    "    Args:\n",
    "        con: Database connection\n",
    "        table_name: Name of the table (string)\n",
    "    \n",
    "    Returns:\n",
    "        Pandas Dataframe with the data from the table\n",
    "    \"\"\"\n",
    "    table = con.execute(\"SELECT * FROM '{}'\".format(table_name))\n",
    "    table_df = pd.DataFrame(table.fetchall())\n",
    "    col = get_column_names('{}'.format(table_name))\n",
    "    table_df.columns = col\n",
    "    return table_df\n",
    "\n",
    "\n",
    "products_df = get_table_data('Product')\n",
    "details_df = get_table_data('OrderDetail')\n",
    "orders_df = get_table_data('Order')\n",
    "\n",
    "products_df.head()"
   ]
  },
  {
   "cell_type": "code",
   "execution_count": 59,
   "metadata": {
    "ExecuteTime": {
     "end_time": "2019-06-25T22:11:21.134694Z",
     "start_time": "2019-06-25T22:11:21.122161Z"
    }
   },
   "outputs": [
    {
     "name": "stdout",
     "output_type": "stream",
     "text": [
      "         Id  OrderId  ProductId  UnitPrice  Quantity  Discount\n",
      "3  10249/14    10249         14       18.6         9       0.0\n",
      "4  10249/51    10249         51       42.4        40       0.0\n",
      "           Id  OrderId  ProductId  UnitPrice  Quantity  Discount\n",
      "30    10258/5    10258          5      17.00        65      0.20\n",
      "40    10262/5    10262          5      17.00        12      0.20\n",
      "111   10290/5    10290          5      17.00        20      0.00\n",
      "352   10382/5    10382          5      17.00        32      0.00\n",
      "1022  10635/5    10635          5      21.35        15      0.10\n",
      "1212  10708/5    10708          5      21.35         4      0.00\n",
      "1575  10848/5    10848          5      21.35        30      0.00\n",
      "1840  10958/5    10958          5      21.35        20      0.00\n",
      "2018  11030/5    11030          5      21.35        70      0.00\n",
      "2061  11047/5    11047          5      21.35        30      0.25\n"
     ]
    }
   ],
   "source": [
    "print(details_df.loc[details_df['OrderId'] == 10249])\n",
    "print(details_df.loc[details_df['ProductId'] == 5])"
   ]
  },
  {
   "cell_type": "markdown",
   "metadata": {},
   "source": [
    "Filtering details_df by OrderId shows that each record in the `OrderDetail` table describes one product within one order. So, each observation in `Order` table will have one or more observations in the `OrderDetail` table. This means we don't need the `Orders` table as it mainly describes details about the shipment and not what's in the order. \n",
    "\n",
    "When looking at all the observations of the same product in the `OrderDetail` table shows that the company didn't always use the price listed in the `Product` table's `UnitPrice`. The quantities and discount levels don't seem to be causing the difference, and it's not the average price. So we'll assume the `Product` table's `UnitPrice` to be the suggested price and therefore isn't relevant for what we're trying to accomplish.\n",
    "\n",
    "This just leaves us with the `OrderDetail` table. We'll drop the columns we won't need to clean up the DataFrame."
   ]
  },
  {
   "cell_type": "code",
   "execution_count": 60,
   "metadata": {
    "ExecuteTime": {
     "end_time": "2019-06-25T22:11:21.147188Z",
     "start_time": "2019-06-25T22:11:21.136554Z"
    }
   },
   "outputs": [
    {
     "data": {
      "text/html": [
       "<div>\n",
       "<style>\n",
       "    .dataframe thead tr:only-child th {\n",
       "        text-align: right;\n",
       "    }\n",
       "\n",
       "    .dataframe thead th {\n",
       "        text-align: left;\n",
       "    }\n",
       "\n",
       "    .dataframe tbody tr th {\n",
       "        vertical-align: top;\n",
       "    }\n",
       "</style>\n",
       "<table border=\"1\" class=\"dataframe\">\n",
       "  <thead>\n",
       "    <tr style=\"text-align: right;\">\n",
       "      <th></th>\n",
       "      <th>OrderId</th>\n",
       "      <th>ProductId</th>\n",
       "      <th>UnitPrice</th>\n",
       "      <th>Quantity</th>\n",
       "      <th>Discount</th>\n",
       "    </tr>\n",
       "  </thead>\n",
       "  <tbody>\n",
       "    <tr>\n",
       "      <th>0</th>\n",
       "      <td>10248</td>\n",
       "      <td>11</td>\n",
       "      <td>14.0</td>\n",
       "      <td>12</td>\n",
       "      <td>0.0</td>\n",
       "    </tr>\n",
       "    <tr>\n",
       "      <th>1</th>\n",
       "      <td>10248</td>\n",
       "      <td>42</td>\n",
       "      <td>9.8</td>\n",
       "      <td>10</td>\n",
       "      <td>0.0</td>\n",
       "    </tr>\n",
       "    <tr>\n",
       "      <th>2</th>\n",
       "      <td>10248</td>\n",
       "      <td>72</td>\n",
       "      <td>34.8</td>\n",
       "      <td>5</td>\n",
       "      <td>0.0</td>\n",
       "    </tr>\n",
       "    <tr>\n",
       "      <th>3</th>\n",
       "      <td>10249</td>\n",
       "      <td>14</td>\n",
       "      <td>18.6</td>\n",
       "      <td>9</td>\n",
       "      <td>0.0</td>\n",
       "    </tr>\n",
       "    <tr>\n",
       "      <th>4</th>\n",
       "      <td>10249</td>\n",
       "      <td>51</td>\n",
       "      <td>42.4</td>\n",
       "      <td>40</td>\n",
       "      <td>0.0</td>\n",
       "    </tr>\n",
       "  </tbody>\n",
       "</table>\n",
       "</div>"
      ],
      "text/plain": [
       "   OrderId  ProductId  UnitPrice  Quantity  Discount\n",
       "0    10248         11       14.0        12       0.0\n",
       "1    10248         42        9.8        10       0.0\n",
       "2    10248         72       34.8         5       0.0\n",
       "3    10249         14       18.6         9       0.0\n",
       "4    10249         51       42.4        40       0.0"
      ]
     },
     "execution_count": 60,
     "metadata": {},
     "output_type": "execute_result"
    }
   ],
   "source": [
    "df = details_df.drop(['Id'], axis=1)\n",
    "df.head()"
   ]
  },
  {
   "cell_type": "code",
   "execution_count": 61,
   "metadata": {
    "ExecuteTime": {
     "end_time": "2019-06-25T22:11:21.156754Z",
     "start_time": "2019-06-25T22:11:21.149138Z"
    }
   },
   "outputs": [
    {
     "data": {
      "text/plain": [
       "0.00    1317\n",
       "0.05     185\n",
       "0.10     173\n",
       "0.20     161\n",
       "0.15     157\n",
       "0.25     154\n",
       "0.03       3\n",
       "0.02       2\n",
       "0.01       1\n",
       "0.04       1\n",
       "0.06       1\n",
       "Name: Discount, dtype: int64"
      ]
     },
     "execution_count": 61,
     "metadata": {},
     "output_type": "execute_result"
    }
   ],
   "source": [
    "df['ProductId'].value_counts()\n",
    "df['Discount'].value_counts()"
   ]
  },
  {
   "cell_type": "markdown",
   "metadata": {},
   "source": [
    "**Scrub Data**\n",
    "\n",
    "Looking at the values we have in each column, there are some discount values that don't have enough observations to make any statistical inferences. We'll drop all rows that contain the following values:\n",
    "- 0.01\n",
    "- 0.02\n",
    "- 0.03\n",
    "- 0.04\n",
    "- 0.06"
   ]
  },
  {
   "cell_type": "code",
   "execution_count": 62,
   "metadata": {
    "ExecuteTime": {
     "end_time": "2019-06-25T22:11:21.254177Z",
     "start_time": "2019-06-25T22:11:21.245428Z"
    }
   },
   "outputs": [
    {
     "data": {
      "text/plain": [
       "0.00    1317\n",
       "0.05     185\n",
       "0.10     173\n",
       "0.20     161\n",
       "0.15     157\n",
       "0.25     154\n",
       "Name: Discount, dtype: int64"
      ]
     },
     "execution_count": 62,
     "metadata": {},
     "output_type": "execute_result"
    }
   ],
   "source": [
    "drop_list = [0.01, 0.02, 0.03, 0.04, 0.06]\n",
    "df = df[~df['Discount'].isin(drop_list) ]\n",
    "df['Discount'].value_counts()"
   ]
  },
  {
   "cell_type": "markdown",
   "metadata": {},
   "source": [
    "<a id=\"1.3\"></a>\n",
    "### 1.3 Experimental Design"
   ]
  },
  {
   "cell_type": "markdown",
   "metadata": {},
   "source": [
    "<a id=\"1.3.1\"></a>\n",
    "#### Get Samples"
   ]
  },
  {
   "cell_type": "code",
   "execution_count": 63,
   "metadata": {
    "ExecuteTime": {
     "end_time": "2019-06-25T22:11:21.388343Z",
     "start_time": "2019-06-25T22:11:21.374430Z"
    }
   },
   "outputs": [
    {
     "data": {
      "text/html": [
       "<div>\n",
       "<style>\n",
       "    .dataframe thead tr:only-child th {\n",
       "        text-align: right;\n",
       "    }\n",
       "\n",
       "    .dataframe thead th {\n",
       "        text-align: left;\n",
       "    }\n",
       "\n",
       "    .dataframe tbody tr th {\n",
       "        vertical-align: top;\n",
       "    }\n",
       "</style>\n",
       "<table border=\"1\" class=\"dataframe\">\n",
       "  <thead>\n",
       "    <tr style=\"text-align: right;\">\n",
       "      <th></th>\n",
       "      <th>OrderId</th>\n",
       "      <th>ProductId</th>\n",
       "      <th>UnitPrice</th>\n",
       "      <th>Quantity</th>\n",
       "      <th>Discount</th>\n",
       "    </tr>\n",
       "  </thead>\n",
       "  <tbody>\n",
       "    <tr>\n",
       "      <th>6</th>\n",
       "      <td>10250</td>\n",
       "      <td>51</td>\n",
       "      <td>42.4</td>\n",
       "      <td>35</td>\n",
       "      <td>0.15</td>\n",
       "    </tr>\n",
       "    <tr>\n",
       "      <th>7</th>\n",
       "      <td>10250</td>\n",
       "      <td>65</td>\n",
       "      <td>16.8</td>\n",
       "      <td>15</td>\n",
       "      <td>0.15</td>\n",
       "    </tr>\n",
       "    <tr>\n",
       "      <th>8</th>\n",
       "      <td>10251</td>\n",
       "      <td>22</td>\n",
       "      <td>16.8</td>\n",
       "      <td>6</td>\n",
       "      <td>0.05</td>\n",
       "    </tr>\n",
       "    <tr>\n",
       "      <th>9</th>\n",
       "      <td>10251</td>\n",
       "      <td>57</td>\n",
       "      <td>15.6</td>\n",
       "      <td>15</td>\n",
       "      <td>0.05</td>\n",
       "    </tr>\n",
       "    <tr>\n",
       "      <th>11</th>\n",
       "      <td>10252</td>\n",
       "      <td>20</td>\n",
       "      <td>64.8</td>\n",
       "      <td>40</td>\n",
       "      <td>0.05</td>\n",
       "    </tr>\n",
       "  </tbody>\n",
       "</table>\n",
       "</div>"
      ],
      "text/plain": [
       "    OrderId  ProductId  UnitPrice  Quantity  Discount\n",
       "6     10250         51       42.4        35      0.15\n",
       "7     10250         65       16.8        15      0.15\n",
       "8     10251         22       16.8         6      0.05\n",
       "9     10251         57       15.6        15      0.05\n",
       "11    10252         20       64.8        40      0.05"
      ]
     },
     "execution_count": 63,
     "metadata": {},
     "output_type": "execute_result"
    }
   ],
   "source": [
    "treatment = df.loc[df['Discount'] != 0]\n",
    "control = df.loc[df['Discount'] == 0]\n",
    "treatment['Discount'].value_counts()\n",
    "treatment.head()"
   ]
  },
  {
   "cell_type": "code",
   "execution_count": 64,
   "metadata": {
    "ExecuteTime": {
     "end_time": "2019-06-25T22:11:25.624870Z",
     "start_time": "2019-06-25T22:11:21.390446Z"
    }
   },
   "outputs": [
    {
     "data": {
      "image/png": "[encoded data removed]",
      "text/plain": [
       "<Figure size 864x648 with 1 Axes>"
      ]
     },
     "metadata": {},
     "output_type": "display_data"
    }
   ],
   "source": [
    "def get_pop_mean(group, size=10000):\n",
    "    \"\"\"Get the population mean by using the central limit theorem\n",
    "    \n",
    "    Args:\n",
    "        group: (pd.Series) observations, must be numerical\n",
    "        size: (int) size of distribution\n",
    "    \n",
    "    Returns:\n",
    "        float: population mean\n",
    "    \"\"\"\n",
    "    xbars = []\n",
    "    for i in range(size):\n",
    "        xbars.append(np.mean(group.sample(n=40)))\n",
    "    return xbars\n",
    "\n",
    "control_quantity_dist = get_pop_mean(control.Quantity)\n",
    "treatment_quantity_dist = get_pop_mean(treatment.Quantity)\n",
    "\n",
    "plt.figure(figsize=(12,9))\n",
    "sns.distplot(control_quantity_dist, label='Control Group')\n",
    "sns.distplot(treatment_quantity_dist, label='Treatment Group')\n",
    "plt.legend()\n",
    "plt.title('Sample Mean Distributions, Control vs. Treatment')\n",
    "plt.xlabel('Quantity of Products Ordered')\n",
    "plt.ylabel('Proportion')\n",
    "plt.savefig('images/discount_rate_1.png')"
   ]
  },
  {
   "cell_type": "markdown",
   "metadata": {},
   "source": [
    "Visually inspecting the population mean distributions, the discounted group looks different from the control group but there is a fair amount of overlap between the two.\n",
    "\n",
    "<a id=\"1.3.2\"></a>\n",
    "#### T Test\n",
    "\n",
    "To make sure our two groups have a statistically significant difference, we'll run a t-test using the stats library.\n",
    "\n",
    "*Form Hypothesis*\n",
    "\n",
    "Now that we have our treatment and control datasets, we can execute our hypothesis test.\n",
    "\n",
    ">$H_o: \\mu_t = \\mu_c$\n",
    "\n",
    ">$H_a: \\mu_t > \\mu_c$\n",
    "\n",
    ">$\\alpha$ = 0.05\n",
    "\n",
    "*Conduct Experiment*\n",
    "\n",
    "We'll take a sample from our control and treatment groups and run a one-sided, two-sample hypothesis test with an alpha level of 0.05."
   ]
  },
  {
   "cell_type": "code",
   "execution_count": 65,
   "metadata": {
    "ExecuteTime": {
     "end_time": "2019-06-25T22:11:25.641691Z",
     "start_time": "2019-06-25T22:11:25.626798Z"
    }
   },
   "outputs": [
    {
     "name": "stdout",
     "output_type": "stream",
     "text": [
      "reject null hypothesis, mean of Discounted Quantities is greater than mean of Nondiscounted Quantities\n",
      "[ 11.90978604] [  4.00049892e-21]\n"
     ]
    }
   ],
   "source": [
    "sample_t = pd.DataFrame(treatment_quantity_dist).sample(n = 100, random_state=10)\n",
    "sample_c = pd.DataFrame(control_quantity_dist).sample(n = 100, random_state=10)\n",
    "results = stats.ttest_rel(sample_t, sample_c)\n",
    "alpha = 0.05\n",
    "if (results[0] > 0) & (results[1]/2 < alpha):\n",
    "    print(\"reject null hypothesis, mean of {} is greater than mean of {}\".format('Discounted Quantities','Nondiscounted Quantities'))\n",
    "else:\n",
    "    print(\"fail to reject null hypothesis\")\n",
    "print(results[0], results[1]/2)"
   ]
  },
  {
   "cell_type": "markdown",
   "metadata": {},
   "source": [
    "<a id=\"1.3.3\"></a>\n",
    "#### Analyze Results\n",
    "We have significant evidence to reject the null hypothsis that the mean quanitites of discount orders is equal to the mean quantities on nondiscounted orders. \n",
    "\n",
    "<a id=\"1.3.4\"></a>\n",
    "#### ANOVA\n",
    "*Determine if the level of discount effects quantities purchased*\n",
    "\n",
    "Now that we have accepted that discounts do increase the quantity of items purchased, we need to figure out at what discount level is the effect most significant. We'll start with an ANOVA test to figure out if there is a difference in effect between the different levels of discounts.\n",
    "\n",
    "\n",
    "*Form Hypothesis*\n",
    ">$H_o: \\mu_{0.05} = \\mu_{0.10} = \\mu_{0.15} = \\mu_{0.20} = \\mu_{0.25}$ \n",
    "\n",
    ">$H_a: \\mu_{0.05} != \\mu_{0.10} != \\mu_{0.15} != \\mu_{0.20} != \\mu_{0.25}$ \n",
    "\n",
    "*Sample Different Discount Rates*\n",
    "\n"
   ]
  },
  {
   "cell_type": "code",
   "execution_count": 66,
   "metadata": {
    "ExecuteTime": {
     "end_time": "2019-06-25T22:11:25.671492Z",
     "start_time": "2019-06-25T22:11:25.643630Z"
    }
   },
   "outputs": [
    {
     "data": {
      "text/html": [
       "<div>\n",
       "<style>\n",
       "    .dataframe thead tr:only-child th {\n",
       "        text-align: right;\n",
       "    }\n",
       "\n",
       "    .dataframe thead th {\n",
       "        text-align: left;\n",
       "    }\n",
       "\n",
       "    .dataframe tbody tr th {\n",
       "        vertical-align: top;\n",
       "    }\n",
       "</style>\n",
       "<table border=\"1\" class=\"dataframe\">\n",
       "  <thead>\n",
       "    <tr style=\"text-align: right;\">\n",
       "      <th></th>\n",
       "      <th>0.05</th>\n",
       "      <th>0.10</th>\n",
       "      <th>0.15</th>\n",
       "      <th>0.20</th>\n",
       "      <th>0.25</th>\n",
       "    </tr>\n",
       "  </thead>\n",
       "  <tbody>\n",
       "    <tr>\n",
       "      <th>0</th>\n",
       "      <td>12</td>\n",
       "      <td>20</td>\n",
       "      <td>24</td>\n",
       "      <td>40</td>\n",
       "      <td>20</td>\n",
       "    </tr>\n",
       "    <tr>\n",
       "      <th>1</th>\n",
       "      <td>28</td>\n",
       "      <td>18</td>\n",
       "      <td>70</td>\n",
       "      <td>55</td>\n",
       "      <td>2</td>\n",
       "    </tr>\n",
       "    <tr>\n",
       "      <th>2</th>\n",
       "      <td>24</td>\n",
       "      <td>18</td>\n",
       "      <td>40</td>\n",
       "      <td>6</td>\n",
       "      <td>12</td>\n",
       "    </tr>\n",
       "    <tr>\n",
       "      <th>3</th>\n",
       "      <td>8</td>\n",
       "      <td>15</td>\n",
       "      <td>10</td>\n",
       "      <td>30</td>\n",
       "      <td>20</td>\n",
       "    </tr>\n",
       "    <tr>\n",
       "      <th>4</th>\n",
       "      <td>2</td>\n",
       "      <td>10</td>\n",
       "      <td>16</td>\n",
       "      <td>45</td>\n",
       "      <td>30</td>\n",
       "    </tr>\n",
       "  </tbody>\n",
       "</table>\n",
       "</div>"
      ],
      "text/plain": [
       "   0.05  0.10  0.15  0.20  0.25\n",
       "0    12    20    24    40    20\n",
       "1    28    18    70    55     2\n",
       "2    24    18    40     6    12\n",
       "3     8    15    10    30    20\n",
       "4     2    10    16    45    30"
      ]
     },
     "execution_count": 66,
     "metadata": {},
     "output_type": "execute_result"
    }
   ],
   "source": [
    "five = treatment.loc[treatment['Discount'] == 0.05]\n",
    "ten = treatment.loc[treatment['Discount'] == 0.10]\n",
    "fifteen = treatment.loc[treatment['Discount'] == 0.15]\n",
    "twenty = treatment.loc[treatment['Discount'] == 0.20]\n",
    "twentyfive = treatment.loc[treatment['Discount'] == 0.25]\n",
    "\n",
    "data = pd.DataFrame()\n",
    "\n",
    "for group, name in [(five, '0.05'), (ten, '0.10'), (fifteen, '0.15'), (twenty, '0.20'), (twentyfive, '0.25')]:\n",
    "    group = group.sample(n=50, random_state=10)\n",
    "    data[name] = group.Quantity.reset_index(drop=True)\n",
    "data.head()"
   ]
  },
  {
   "cell_type": "code",
   "execution_count": 67,
   "metadata": {
    "ExecuteTime": {
     "end_time": "2019-06-25T22:11:26.243963Z",
     "start_time": "2019-06-25T22:11:25.673512Z"
    }
   },
   "outputs": [
    {
     "name": "stderr",
     "output_type": "stream",
     "text": [
      "/Users/joe/anaconda3/lib/python3.6/site-packages/matplotlib/figure.py:445: UserWarning: Matplotlib is currently using module://ipykernel.pylab.backend_inline, which is a non-GUI backend, so cannot show the figure.\n",
      "  % get_backend())\n"
     ]
    },
    {
     "data": {
      "image/png": "[encoded data removed]",
      "text/plain": [
       "<Figure size 864x648 with 1 Axes>"
      ]
     },
     "metadata": {},
     "output_type": "display_data"
    }
   ],
   "source": [
    "fig, ax = plt.subplots(1, 1, figsize=(12,9))\n",
    "for i in data.columns:\n",
    "    data[i].plot(kind='density')\n",
    "plt.legend()\n",
    "plt.xlabel('Quantity of Items Purchased')\n",
    "fig.show()\n",
    "plt.savefig('images/discount_rate_2.png')"
   ]
  },
  {
   "cell_type": "code",
   "execution_count": 68,
   "metadata": {
    "ExecuteTime": {
     "end_time": "2019-06-25T22:11:26.251653Z",
     "start_time": "2019-06-25T22:11:26.245822Z"
    }
   },
   "outputs": [
    {
     "data": {
      "text/plain": [
       "F_onewayResult(statistic=0.22583337048873584, pvalue=0.92379289841810175)"
      ]
     },
     "execution_count": 68,
     "metadata": {},
     "output_type": "execute_result"
    }
   ],
   "source": [
    "# One-way ANOVA test\n",
    "stats.f_oneway(data['0.05'], data['0.10'], data['0.15'], data['0.20'], data['0.25'])"
   ]
  },
  {
   "cell_type": "markdown",
   "metadata": {},
   "source": [
    "*Analyze Results*\n",
    "\n",
    "Our F-statistic of 0.2258 suggests the between-groups variance is roughly 1/4 of the within-group variance. We fail to reject the null hypothesis of equal mean values  due to the p-value being > 0.05. \n",
    "\n",
    "<a id=\"1.4\"></a>\n",
    "### 1.4 Conclusion\n",
    "\n",
    "These results aren't surprising considering the density plots of our samples. They are visually close to identical so our recommendation is to stick with low levels of discounts as there is no evidence to say that increasing the discount level will increase the quantity bought, so it just reduces the revenue earned."
   ]
  },
  {
   "cell_type": "markdown",
   "metadata": {},
   "source": [
    "<a id=\"2\"></a>\n",
    "## 2. Is the business seasonal?\n",
    "Next, we'll look at the seasonality of the business. We want to see if there is a time of year where sales are significantly higher. This will give us more insight when we're forecasting sales and planning marketing campaigns. \n",
    "\n",
    "<a id=\"2.1\"></a>\n",
    "### 2.1 Hypothesis\n",
    ">$H_o: \\mu_0 = \\mu_1, \\mu_x$\n",
    "\n",
    ">$H_o: \\mu_0 > \\mu_1, \\mu_x$\n",
    "\n",
    "<a id=\"2.2\"></a>\n",
    "### 2.2 Obtain"
   ]
  },
  {
   "cell_type": "code",
   "execution_count": 69,
   "metadata": {
    "ExecuteTime": {
     "end_time": "2019-06-25T22:11:26.291145Z",
     "start_time": "2019-06-25T22:11:26.253423Z"
    }
   },
   "outputs": [
    {
     "name": "stdout",
     "output_type": "stream",
     "text": [
      "2019-06-25 17:11:26,264 INFO sqlalchemy.engine.base.Engine SELECT Id, OrderDate FROM 'Order';\n",
      "2019-06-25 17:11:26,266 INFO sqlalchemy.engine.base.Engine ()\n",
      "2019-06-25 17:11:26,274 INFO sqlalchemy.engine.base.Engine SELECT * FROM 'OrderDetail'\n",
      "2019-06-25 17:11:26,276 INFO sqlalchemy.engine.base.Engine ()\n"
     ]
    }
   ],
   "source": [
    "# Get data\n",
    "table = con.execute(\"\"\"SELECT Id, OrderDate FROM 'Order';\"\"\")\n",
    "orders = pd.DataFrame(table.fetchall())\n",
    "orders.columns = ['Id', 'OrderDate']\n",
    "details = get_table_data('OrderDetail')\n",
    "\n",
    "# Drop unwanted columns\n",
    "details = details.drop(['Id'], axis=1)\n",
    "\n",
    "# Data Manipulation\n",
    "orders['OrderDate'] = pd.to_datetime(orders['OrderDate'])\n",
    "orders['Year'] = orders['OrderDate'].dt.year\n",
    "orders['Month'] = orders['OrderDate'].dt.month\n",
    "\n",
    "# Calculate revenue based on Unit Price, Quantity and Discount\n",
    "details['Revenue'] = details['UnitPrice'] * details['Quantity'] * (1 - details['Discount'])\n",
    "details = details.drop(['UnitPrice', 'Quantity', 'Discount'], axis=1)"
   ]
  },
  {
   "cell_type": "markdown",
   "metadata": {},
   "source": [
    "<a id=\"2.3\"></a>\n",
    "### 2.3 Data Exploration\n",
    "\n",
    "Now we have all the data we need to run an expirment. We'll need to merge the DataFrames but first we'll look at a bar graph to see if there is any visual evidence to our claim."
   ]
  },
  {
   "cell_type": "code",
   "execution_count": 70,
   "metadata": {
    "ExecuteTime": {
     "end_time": "2019-06-25T22:11:26.613547Z",
     "start_time": "2019-06-25T22:11:26.293081Z"
    }
   },
   "outputs": [
    {
     "data": {
      "image/png": "[encoded data removed]",
      "text/plain": [
       "<Figure size 432x288 with 1 Axes>"
      ]
     },
     "metadata": {},
     "output_type": "display_data"
    }
   ],
   "source": [
    "orders_by_month = pd.DataFrame(orders.Month.value_counts())\n",
    "orders_by_month.sort_index(inplace=True)\n",
    "\n",
    "sns.barplot(x=orders_by_month.index, y=orders_by_month['Month'], palette='viridis')\n",
    "plt.xlabel('Months - January through December')\n",
    "plt.ylabel('Number of Orders')\n",
    "plt.title('Number of Orders by Month')\n",
    "plt.savefig('images/seasonality_0.png')"
   ]
  },
  {
   "cell_type": "markdown",
   "metadata": {},
   "source": [
    "There does seem to be seasonality to the number of orders placed but that doesn't necessarily mean that revenues are higher in any given period. Our next step is to join our DataFrames so we can access all the data we need in one DataFrame."
   ]
  },
  {
   "cell_type": "code",
   "execution_count": 71,
   "metadata": {
    "ExecuteTime": {
     "end_time": "2019-06-25T22:11:26.631345Z",
     "start_time": "2019-06-25T22:11:26.615552Z"
    }
   },
   "outputs": [
    {
     "data": {
      "text/html": [
       "<div>\n",
       "<style>\n",
       "    .dataframe thead tr:only-child th {\n",
       "        text-align: right;\n",
       "    }\n",
       "\n",
       "    .dataframe thead th {\n",
       "        text-align: left;\n",
       "    }\n",
       "\n",
       "    .dataframe tbody tr th {\n",
       "        vertical-align: top;\n",
       "    }\n",
       "</style>\n",
       "<table border=\"1\" class=\"dataframe\">\n",
       "  <thead>\n",
       "    <tr style=\"text-align: right;\">\n",
       "      <th></th>\n",
       "      <th>Id</th>\n",
       "      <th>OrderDate</th>\n",
       "      <th>Year</th>\n",
       "      <th>Month</th>\n",
       "      <th>ProductId</th>\n",
       "      <th>Revenue</th>\n",
       "    </tr>\n",
       "  </thead>\n",
       "  <tbody>\n",
       "    <tr>\n",
       "      <th>0</th>\n",
       "      <td>10248</td>\n",
       "      <td>2012-07-04</td>\n",
       "      <td>2012</td>\n",
       "      <td>7</td>\n",
       "      <td>11</td>\n",
       "      <td>168.0</td>\n",
       "    </tr>\n",
       "    <tr>\n",
       "      <th>1</th>\n",
       "      <td>10248</td>\n",
       "      <td>2012-07-04</td>\n",
       "      <td>2012</td>\n",
       "      <td>7</td>\n",
       "      <td>42</td>\n",
       "      <td>98.0</td>\n",
       "    </tr>\n",
       "    <tr>\n",
       "      <th>2</th>\n",
       "      <td>10248</td>\n",
       "      <td>2012-07-04</td>\n",
       "      <td>2012</td>\n",
       "      <td>7</td>\n",
       "      <td>72</td>\n",
       "      <td>174.0</td>\n",
       "    </tr>\n",
       "    <tr>\n",
       "      <th>3</th>\n",
       "      <td>10249</td>\n",
       "      <td>2012-07-05</td>\n",
       "      <td>2012</td>\n",
       "      <td>7</td>\n",
       "      <td>14</td>\n",
       "      <td>167.4</td>\n",
       "    </tr>\n",
       "    <tr>\n",
       "      <th>4</th>\n",
       "      <td>10249</td>\n",
       "      <td>2012-07-05</td>\n",
       "      <td>2012</td>\n",
       "      <td>7</td>\n",
       "      <td>51</td>\n",
       "      <td>1696.0</td>\n",
       "    </tr>\n",
       "  </tbody>\n",
       "</table>\n",
       "</div>"
      ],
      "text/plain": [
       "      Id  OrderDate  Year  Month  ProductId  Revenue\n",
       "0  10248 2012-07-04  2012      7         11    168.0\n",
       "1  10248 2012-07-04  2012      7         42     98.0\n",
       "2  10248 2012-07-04  2012      7         72    174.0\n",
       "3  10249 2012-07-05  2012      7         14    167.4\n",
       "4  10249 2012-07-05  2012      7         51   1696.0"
      ]
     },
     "execution_count": 71,
     "metadata": {},
     "output_type": "execute_result"
    }
   ],
   "source": [
    "details['Id'] = details['OrderId']\n",
    "details.drop(['OrderId'], axis=1, inplace=True)\n",
    "result = pd.merge(orders, details, how='inner', on='Id')\n",
    "result.head()"
   ]
  },
  {
   "cell_type": "code",
   "execution_count": 72,
   "metadata": {
    "ExecuteTime": {
     "end_time": "2019-06-25T22:11:27.231257Z",
     "start_time": "2019-06-25T22:11:26.633117Z"
    }
   },
   "outputs": [
    {
     "data": {
      "image/png": "[encoded data removed]",
      "text/plain": [
       "<Figure size 864x648 with 1 Axes>"
      ]
     },
     "metadata": {},
     "output_type": "display_data"
    }
   ],
   "source": [
    "plt.figure(figsize=(12,9))\n",
    "result.groupby(['Year', 'Month'])['Revenue'].sum().plot(kind='bar')\n",
    "plt.ylabel('Revenue')\n",
    "plt.title('Revenue by Month')\n",
    "plt.savefig('images/seasonality_01.png')"
   ]
  },
  {
   "cell_type": "markdown",
   "metadata": {},
   "source": [
    "Looking at the results of revenue per month, we see there is a general trend of revenue growth. To make sure we aren't just capturing this overal growth, we'll calculate a regression line for the growth month over month and run ANOVA to analyze the variance between the projected revenue and the actual revenue.\n",
    "\n",
    "Additionally, May 2014 seems unusually low. I'll check to make sure that the whole month's sales were included and that the tracking didn't get cut off mid month.\n",
    "\n",
    "<a id=\"2.4\"></a>\n",
    "### 2.4 Scrubbing"
   ]
  },
  {
   "cell_type": "code",
   "execution_count": 73,
   "metadata": {
    "ExecuteTime": {
     "end_time": "2019-06-25T22:11:27.245677Z",
     "start_time": "2019-06-25T22:11:27.233448Z"
    }
   },
   "outputs": [
    {
     "data": {
      "text/plain": [
       "2014-05-06    32\n",
       "2014-05-05    12\n",
       "2014-05-01    10\n",
       "2014-05-04     5\n",
       "Name: OrderDate, dtype: int64"
      ]
     },
     "execution_count": 73,
     "metadata": {},
     "output_type": "execute_result"
    }
   ],
   "source": [
    "result.loc[(result['Year'] == 2014) & (result['Month'] == 5)]['OrderDate'].value_counts()"
   ]
  },
  {
   "cell_type": "markdown",
   "metadata": {},
   "source": [
    "There are only four days in which orders were placed with the last day being the 6th of the month. Most likely they stopped collecting data on that day, so we don't have the whole month's data to work with. We'll drop any observations that was in that month."
   ]
  },
  {
   "cell_type": "code",
   "execution_count": 74,
   "metadata": {
    "ExecuteTime": {
     "end_time": "2019-06-25T22:11:27.268543Z",
     "start_time": "2019-06-25T22:11:27.247808Z"
    }
   },
   "outputs": [
    {
     "data": {
      "text/plain": [
       "Series([], Name: OrderDate, dtype: int64)"
      ]
     },
     "execution_count": 74,
     "metadata": {},
     "output_type": "execute_result"
    }
   ],
   "source": [
    "unwanted_rows = result[(result['Year'] == 2014) & (result['Month'] == 5)]\n",
    "df = pd.concat([result, unwanted_rows])\n",
    "df.drop_duplicates(keep=False, inplace=True)\n",
    "unwanted_rows.OrderDate.value_counts()\n",
    "\n",
    "df.loc[(df['Year'] == 2014) & (df['Month'] == 5)]['OrderDate'].value_counts()\n"
   ]
  },
  {
   "cell_type": "markdown",
   "metadata": {},
   "source": [
    "We create a `Season` column by mapping a season to each of those months."
   ]
  },
  {
   "cell_type": "code",
   "execution_count": 75,
   "metadata": {
    "ExecuteTime": {
     "end_time": "2019-06-25T22:11:27.291808Z",
     "start_time": "2019-06-25T22:11:27.270652Z"
    }
   },
   "outputs": [
    {
     "data": {
      "text/html": [
       "<div>\n",
       "<style>\n",
       "    .dataframe thead tr:only-child th {\n",
       "        text-align: right;\n",
       "    }\n",
       "\n",
       "    .dataframe thead th {\n",
       "        text-align: left;\n",
       "    }\n",
       "\n",
       "    .dataframe tbody tr th {\n",
       "        vertical-align: top;\n",
       "    }\n",
       "</style>\n",
       "<table border=\"1\" class=\"dataframe\">\n",
       "  <thead>\n",
       "    <tr style=\"text-align: right;\">\n",
       "      <th></th>\n",
       "      <th></th>\n",
       "      <th>Revenue</th>\n",
       "    </tr>\n",
       "    <tr>\n",
       "      <th>Year</th>\n",
       "      <th>Season</th>\n",
       "      <th></th>\n",
       "    </tr>\n",
       "  </thead>\n",
       "  <tbody>\n",
       "    <tr>\n",
       "      <th rowspan=\"3\" valign=\"top\">2012</th>\n",
       "      <th>Fall</th>\n",
       "      <td>109497.1700</td>\n",
       "    </tr>\n",
       "    <tr>\n",
       "      <th>Summer</th>\n",
       "      <td>53347.1700</td>\n",
       "    </tr>\n",
       "    <tr>\n",
       "      <th>Winter</th>\n",
       "      <td>45239.6300</td>\n",
       "    </tr>\n",
       "    <tr>\n",
       "      <th rowspan=\"4\" valign=\"top\">2013</th>\n",
       "      <th>Fall</th>\n",
       "      <td>165912.2775</td>\n",
       "    </tr>\n",
       "    <tr>\n",
       "      <th>Spring</th>\n",
       "      <td>145361.4625</td>\n",
       "    </tr>\n",
       "    <tr>\n",
       "      <th>Summer</th>\n",
       "      <td>134671.3300</td>\n",
       "    </tr>\n",
       "    <tr>\n",
       "      <th>Winter</th>\n",
       "      <td>171140.1335</td>\n",
       "    </tr>\n",
       "    <tr>\n",
       "      <th rowspan=\"2\" valign=\"top\">2014</th>\n",
       "      <th>Spring</th>\n",
       "      <td>228652.8375</td>\n",
       "    </tr>\n",
       "    <tr>\n",
       "      <th>Winter</th>\n",
       "      <td>193637.3980</td>\n",
       "    </tr>\n",
       "  </tbody>\n",
       "</table>\n",
       "</div>"
      ],
      "text/plain": [
       "                 Revenue\n",
       "Year Season             \n",
       "2012 Fall    109497.1700\n",
       "     Summer   53347.1700\n",
       "     Winter   45239.6300\n",
       "2013 Fall    165912.2775\n",
       "     Spring  145361.4625\n",
       "     Summer  134671.3300\n",
       "     Winter  171140.1335\n",
       "2014 Spring  228652.8375\n",
       "     Winter  193637.3980"
      ]
     },
     "execution_count": 75,
     "metadata": {},
     "output_type": "execute_result"
    }
   ],
   "source": [
    "# add a season column to later sort by\n",
    "seasons = {1: 'Winter',\n",
    "          2: 'Winter',\n",
    "          3: 'Spring',\n",
    "          4: 'Spring',\n",
    "          5: 'Spring',\n",
    "          6: 'Summer',\n",
    "          7: 'Summer',\n",
    "          8: 'Summer',\n",
    "          9: 'Fall',\n",
    "          10: 'Fall',\n",
    "          11: 'Fall',\n",
    "          12: 'Winter'}\n",
    "df['Season'] = df['Month'].map(seasons)\n",
    "pd.DataFrame(df.groupby(['Year', 'Season'])['Revenue'].sum())\n"
   ]
  },
  {
   "cell_type": "markdown",
   "metadata": {},
   "source": [
    "Because our data covers such a short period of time, we have some misleading figures when we `GROUPBY` year and season. For example, the winter of 2012 only includes one month of sales, so it's artificially lower. To account for the general growth and the misleading figures, we'll build a regression model to compare each individual month's figures to come up with a statistic to show how each month performed compared to expectations. Once we have our new `Variance` Column, we can group each observation into seasons. From there we can run an ANOVA test to determine if there is a stastical difference between seasons in terms of revenue accounted for growth. "
   ]
  },
  {
   "cell_type": "code",
   "execution_count": 76,
   "metadata": {
    "ExecuteTime": {
     "end_time": "2019-06-25T22:11:27.424637Z",
     "start_time": "2019-06-25T22:11:27.294132Z"
    }
   },
   "outputs": [
    {
     "name": "stderr",
     "output_type": "stream",
     "text": [
      "/Users/joe/anaconda3/lib/python3.6/site-packages/ipykernel_launcher.py:10: FutureWarning: reshape is deprecated and will raise in a subsequent release. Please use .values.reshape(...) instead\n",
      "  # Remove the CWD from sys.path while we load stuff.\n"
     ]
    },
    {
     "data": {
      "text/html": [
       "<table class=\"simpletable\">\n",
       "<caption>OLS Regression Results</caption>\n",
       "<tr>\n",
       "  <th>Dep. Variable:</th>            <td>y</td>        <th>  R-squared:         </th> <td>   0.918</td>\n",
       "</tr>\n",
       "<tr>\n",
       "  <th>Model:</th>                   <td>OLS</td>       <th>  Adj. R-squared:    </th> <td>   0.915</td>\n",
       "</tr>\n",
       "<tr>\n",
       "  <th>Method:</th>             <td>Least Squares</td>  <th>  F-statistic:       </th> <td>   236.4</td>\n",
       "</tr>\n",
       "<tr>\n",
       "  <th>Date:</th>             <td>Tue, 25 Jun 2019</td> <th>  Prob (F-statistic):</th> <td>6.66e-13</td>\n",
       "</tr>\n",
       "<tr>\n",
       "  <th>Time:</th>                 <td>17:11:27</td>     <th>  Log-Likelihood:    </th> <td> -246.58</td>\n",
       "</tr>\n",
       "<tr>\n",
       "  <th>No. Observations:</th>      <td>    22</td>      <th>  AIC:               </th> <td>   495.2</td>\n",
       "</tr>\n",
       "<tr>\n",
       "  <th>Df Residuals:</th>          <td>    21</td>      <th>  BIC:               </th> <td>   496.3</td>\n",
       "</tr>\n",
       "<tr>\n",
       "  <th>Df Model:</th>              <td>     1</td>      <th>                     </th>     <td> </td>   \n",
       "</tr>\n",
       "<tr>\n",
       "  <th>Covariance Type:</th>      <td>nonrobust</td>    <th>                     </th>     <td> </td>   \n",
       "</tr>\n",
       "</table>\n",
       "<table class=\"simpletable\">\n",
       "<tr>\n",
       "   <td></td>     <th>coef</th>     <th>std err</th>      <th>t</th>      <th>P>|t|</th>  <th>[0.025</th>    <th>0.975]</th>  \n",
       "</tr>\n",
       "<tr>\n",
       "  <th>x1</th> <td> 4880.3689</td> <td>  317.391</td> <td>   15.377</td> <td> 0.000</td> <td> 4220.318</td> <td> 5540.420</td>\n",
       "</tr>\n",
       "</table>\n",
       "<table class=\"simpletable\">\n",
       "<tr>\n",
       "  <th>Omnibus:</th>       <td> 0.940</td> <th>  Durbin-Watson:     </th> <td>   0.531</td>\n",
       "</tr>\n",
       "<tr>\n",
       "  <th>Prob(Omnibus):</th> <td> 0.625</td> <th>  Jarque-Bera (JB):  </th> <td>   0.896</td>\n",
       "</tr>\n",
       "<tr>\n",
       "  <th>Skew:</th>          <td>-0.413</td> <th>  Prob(JB):          </th> <td>   0.639</td>\n",
       "</tr>\n",
       "<tr>\n",
       "  <th>Kurtosis:</th>      <td> 2.456</td> <th>  Cond. No.          </th> <td>    1.00</td>\n",
       "</tr>\n",
       "</table>"
      ],
      "text/plain": [
       "<class 'statsmodels.iolib.summary.Summary'>\n",
       "\"\"\"\n",
       "                            OLS Regression Results                            \n",
       "==============================================================================\n",
       "Dep. Variable:                      y   R-squared:                       0.918\n",
       "Model:                            OLS   Adj. R-squared:                  0.915\n",
       "Method:                 Least Squares   F-statistic:                     236.4\n",
       "Date:                Tue, 25 Jun 2019   Prob (F-statistic):           6.66e-13\n",
       "Time:                        17:11:27   Log-Likelihood:                -246.58\n",
       "No. Observations:                  22   AIC:                             495.2\n",
       "Df Residuals:                      21   BIC:                             496.3\n",
       "Df Model:                           1                                         \n",
       "Covariance Type:            nonrobust                                         \n",
       "==============================================================================\n",
       "                 coef    std err          t      P>|t|      [0.025      0.975]\n",
       "------------------------------------------------------------------------------\n",
       "x1          4880.3689    317.391     15.377      0.000    4220.318    5540.420\n",
       "==============================================================================\n",
       "Omnibus:                        0.940   Durbin-Watson:                   0.531\n",
       "Prob(Omnibus):                  0.625   Jarque-Bera (JB):                0.896\n",
       "Skew:                          -0.413   Prob(JB):                        0.639\n",
       "Kurtosis:                       2.456   Cond. No.                         1.00\n",
       "==============================================================================\n",
       "\n",
       "Warnings:\n",
       "[1] Standard Errors assume that the covariance matrix of the errors is correctly specified.\n",
       "\"\"\""
      ]
     },
     "execution_count": 76,
     "metadata": {},
     "output_type": "execute_result"
    }
   ],
   "source": [
    "# group Revenue by Year and Month\n",
    "revenue = pd.DataFrame(df.groupby(['Year', 'Month'])['Revenue'].sum())\n",
    "# add a numeric index for regression\n",
    "revenue.reset_index(inplace=True)\n",
    "\n",
    "# regression model\n",
    "from sklearn.linear_model import LinearRegression\n",
    "\n",
    "from statsmodels.api import OLS\n",
    "reg = OLS(revenue['Revenue'].reshape(-1, 1),np.array(revenue.index).reshape(-1, 1)).fit()\n",
    "\n",
    "reg.summary()"
   ]
  },
  {
   "cell_type": "markdown",
   "metadata": {},
   "source": [
    "Now that we have our regression line and it is highly predictive of the data ($r^2$:  0.918), we'll use that to calculate the variance. Then we'll group the variances of each individual month into season and use that dataset to run our ANOVA test."
   ]
  },
  {
   "cell_type": "code",
   "execution_count": 77,
   "metadata": {
    "ExecuteTime": {
     "end_time": "2019-06-25T22:11:27.869137Z",
     "start_time": "2019-06-25T22:11:27.426826Z"
    }
   },
   "outputs": [
    {
     "data": {
      "image/png": "[encoded data removed]",
      "text/plain": [
       "<Figure size 864x648 with 1 Axes>"
      ]
     },
     "metadata": {},
     "output_type": "display_data"
    }
   ],
   "source": [
    "import statsmodels.api as sm\n",
    "plt.figure(figsize=(12,9))\n",
    "# result.groupby(['Year', 'Month'])['Revenue'].sum().plot(kind='bar')\n",
    "\n",
    "plt.scatter(np.array(revenue.index), revenue['Revenue'], label='Actual')\n",
    "plt.plot(np.linspace(0,25,22), reg.predict(revenue.index), label='Growth Prediction', color='red')\n",
    "plt.ylabel('Revenue')\n",
    "plt.title('Revenue by Month')\n",
    "plt.savefig('images/seasonality1.png')"
   ]
  },
  {
   "cell_type": "code",
   "execution_count": 78,
   "metadata": {
    "ExecuteTime": {
     "end_time": "2019-06-25T22:11:27.884404Z",
     "start_time": "2019-06-25T22:11:27.871187Z"
    }
   },
   "outputs": [
    {
     "data": {
      "text/html": [
       "<div>\n",
       "<style>\n",
       "    .dataframe thead tr:only-child th {\n",
       "        text-align: right;\n",
       "    }\n",
       "\n",
       "    .dataframe thead th {\n",
       "        text-align: left;\n",
       "    }\n",
       "\n",
       "    .dataframe tbody tr th {\n",
       "        vertical-align: top;\n",
       "    }\n",
       "</style>\n",
       "<table border=\"1\" class=\"dataframe\">\n",
       "  <thead>\n",
       "    <tr style=\"text-align: right;\">\n",
       "      <th></th>\n",
       "      <th>Year</th>\n",
       "      <th>Month</th>\n",
       "      <th>Revenue</th>\n",
       "      <th>Season</th>\n",
       "      <th>Variance</th>\n",
       "    </tr>\n",
       "  </thead>\n",
       "  <tbody>\n",
       "    <tr>\n",
       "      <th>0</th>\n",
       "      <td>2012</td>\n",
       "      <td>7</td>\n",
       "      <td>27861.895</td>\n",
       "      <td>Summer</td>\n",
       "      <td>27861.895000</td>\n",
       "    </tr>\n",
       "    <tr>\n",
       "      <th>1</th>\n",
       "      <td>2012</td>\n",
       "      <td>8</td>\n",
       "      <td>25485.275</td>\n",
       "      <td>Summer</td>\n",
       "      <td>20604.906108</td>\n",
       "    </tr>\n",
       "    <tr>\n",
       "      <th>2</th>\n",
       "      <td>2012</td>\n",
       "      <td>9</td>\n",
       "      <td>26381.400</td>\n",
       "      <td>Fall</td>\n",
       "      <td>16620.662215</td>\n",
       "    </tr>\n",
       "    <tr>\n",
       "      <th>3</th>\n",
       "      <td>2012</td>\n",
       "      <td>10</td>\n",
       "      <td>37515.725</td>\n",
       "      <td>Fall</td>\n",
       "      <td>22874.618323</td>\n",
       "    </tr>\n",
       "    <tr>\n",
       "      <th>4</th>\n",
       "      <td>2012</td>\n",
       "      <td>11</td>\n",
       "      <td>45600.045</td>\n",
       "      <td>Fall</td>\n",
       "      <td>26078.569431</td>\n",
       "    </tr>\n",
       "  </tbody>\n",
       "</table>\n",
       "</div>"
      ],
      "text/plain": [
       "   Year  Month    Revenue  Season      Variance\n",
       "0  2012      7  27861.895  Summer  27861.895000\n",
       "1  2012      8  25485.275  Summer  20604.906108\n",
       "2  2012      9  26381.400    Fall  16620.662215\n",
       "3  2012     10  37515.725    Fall  22874.618323\n",
       "4  2012     11  45600.045    Fall  26078.569431"
      ]
     },
     "execution_count": 78,
     "metadata": {},
     "output_type": "execute_result"
    }
   ],
   "source": [
    "revenue['Season'] = revenue['Month'].map(seasons)\n",
    "revenue['Variance'] = revenue['Revenue'] - reg.predict(revenue.index)\n",
    "revenue.head()"
   ]
  },
  {
   "cell_type": "code",
   "execution_count": 79,
   "metadata": {
    "ExecuteTime": {
     "end_time": "2019-06-25T22:11:27.908304Z",
     "start_time": "2019-06-25T22:11:27.886896Z"
    },
    "collapsed": true
   },
   "outputs": [],
   "source": [
    "spring = []\n",
    "summer = []\n",
    "fall = []\n",
    "winter = []\n",
    "for index, row in revenue.iterrows():\n",
    "    if row['Season'] == 'Spring':\n",
    "        spring.append(row['Variance'])\n",
    "    elif row['Season'] == 'Summer':\n",
    "        summer.append(row['Variance'])\n",
    "    elif row['Season'] == 'Fall':\n",
    "        fall.append(row['Variance'])\n",
    "    elif row['Season'] == 'Winter':\n",
    "        winter.append(row['Variance'])\n",
    "\n",
    "spring = pd.DataFrame(data=spring, columns=['Spring'])\n",
    "summer = pd.DataFrame(data=summer, columns=['Summer'])\n",
    "fall = pd.DataFrame(data=fall, columns=['Fall'])\n",
    "winter = pd.DataFrame(data=winter, columns=['Winter'])\n",
    "\n"
   ]
  },
  {
   "cell_type": "markdown",
   "metadata": {},
   "source": [
    "<a id=\"2.5\"></a>\n",
    "### 2.5 Experiment"
   ]
  },
  {
   "cell_type": "code",
   "execution_count": 80,
   "metadata": {
    "ExecuteTime": {
     "end_time": "2019-06-25T22:11:27.917631Z",
     "start_time": "2019-06-25T22:11:27.910503Z"
    }
   },
   "outputs": [
    {
     "data": {
      "text/plain": [
       "F_onewayResult(statistic=array([ 0.3051157]), pvalue=array([ 0.8213299]))"
      ]
     },
     "execution_count": 80,
     "metadata": {},
     "output_type": "execute_result"
    }
   ],
   "source": [
    "# One-way ANOVA test\n",
    "stats.f_oneway(spring, summer, fall, winter)"
   ]
  },
  {
   "cell_type": "markdown",
   "metadata": {
    "ExecuteTime": {
     "end_time": "2019-06-07T19:44:36.530980Z",
     "start_time": "2019-06-07T19:44:36.525257Z"
    }
   },
   "source": [
    "<a id=\"2.6\"></a>\n",
    "### 2.6 Analyze\n",
    "\n",
    "With an F-statistic of `0.3051`, we know that most of the variation in the dataset is within the seasons and not between them. A large p-value of `0.8213` indicates that there isn't enough statistical proof to indicate that there is a difference in revenue between the seasons. "
   ]
  },
  {
   "cell_type": "markdown",
   "metadata": {},
   "source": [
    "<a id=\"3\"></a>\n",
    "## 3. Which supply region has a lower reoder level for products?\n",
    "<a id=\"3.1\"></a>\n",
    "### 3.1 Hypothesis\n",
    ">$H_o: \\mu_0 = \\mu_1 ... = \\mu_x$\n",
    "\n",
    ">$H_a: \\mu_0 != \\mu_1 ... !=\\mu_x$\n",
    "\n",
    "<a id=\"3.2\"></a>\n",
    "### 3.2 Obtain\n",
    "The data we need is in the `Supplier` and `Product` tables"
   ]
  },
  {
   "cell_type": "code",
   "execution_count": 81,
   "metadata": {
    "ExecuteTime": {
     "end_time": "2019-06-25T22:11:28.052739Z",
     "start_time": "2019-06-25T22:11:27.920567Z"
    }
   },
   "outputs": [
    {
     "name": "stdout",
     "output_type": "stream",
     "text": [
      "2019-06-25 17:11:27,939 INFO sqlalchemy.engine.base.Engine SELECT * FROM 'Supplier'\n",
      "2019-06-25 17:11:27,941 INFO sqlalchemy.engine.base.Engine ()\n",
      "2019-06-25 17:11:27,947 INFO sqlalchemy.engine.base.Engine PRAGMA table_info(\"Supplier\")\n",
      "2019-06-25 17:11:27,949 INFO sqlalchemy.engine.base.Engine ()\n",
      "2019-06-25 17:11:27,952 INFO sqlalchemy.engine.base.Engine SELECT id, CompanyName, Region FROM 'Supplier';\n",
      "2019-06-25 17:11:27,953 INFO sqlalchemy.engine.base.Engine ()\n",
      "2019-06-25 17:11:27,957 INFO sqlalchemy.engine.base.Engine SELECT Id, ProductName, SupplierId, ReorderLevel, Discontinued FROM 'Product';\n",
      "2019-06-25 17:11:27,958 INFO sqlalchemy.engine.base.Engine ()\n"
     ]
    },
    {
     "data": {
      "text/html": [
       "<div>\n",
       "<style>\n",
       "    .dataframe thead tr:only-child th {\n",
       "        text-align: right;\n",
       "    }\n",
       "\n",
       "    .dataframe thead th {\n",
       "        text-align: left;\n",
       "    }\n",
       "\n",
       "    .dataframe tbody tr th {\n",
       "        vertical-align: top;\n",
       "    }\n",
       "</style>\n",
       "<table border=\"1\" class=\"dataframe\">\n",
       "  <thead>\n",
       "    <tr style=\"text-align: right;\">\n",
       "      <th></th>\n",
       "      <th>SupplierId</th>\n",
       "      <th>SupplierName</th>\n",
       "      <th>Region</th>\n",
       "      <th>ProductId</th>\n",
       "      <th>ProductName</th>\n",
       "      <th>ReorderLevel</th>\n",
       "    </tr>\n",
       "  </thead>\n",
       "  <tbody>\n",
       "    <tr>\n",
       "      <th>0</th>\n",
       "      <td>1</td>\n",
       "      <td>Exotic Liquids</td>\n",
       "      <td>British Isles</td>\n",
       "      <td>1.0</td>\n",
       "      <td>Chai</td>\n",
       "      <td>10.0</td>\n",
       "    </tr>\n",
       "    <tr>\n",
       "      <th>1</th>\n",
       "      <td>1</td>\n",
       "      <td>Exotic Liquids</td>\n",
       "      <td>British Isles</td>\n",
       "      <td>2.0</td>\n",
       "      <td>Chang</td>\n",
       "      <td>25.0</td>\n",
       "    </tr>\n",
       "    <tr>\n",
       "      <th>2</th>\n",
       "      <td>1</td>\n",
       "      <td>Exotic Liquids</td>\n",
       "      <td>British Isles</td>\n",
       "      <td>3.0</td>\n",
       "      <td>Aniseed Syrup</td>\n",
       "      <td>25.0</td>\n",
       "    </tr>\n",
       "    <tr>\n",
       "      <th>3</th>\n",
       "      <td>2</td>\n",
       "      <td>New Orleans Cajun Delights</td>\n",
       "      <td>North America</td>\n",
       "      <td>4.0</td>\n",
       "      <td>Chef Anton's Cajun Seasoning</td>\n",
       "      <td>0.0</td>\n",
       "    </tr>\n",
       "    <tr>\n",
       "      <th>4</th>\n",
       "      <td>2</td>\n",
       "      <td>New Orleans Cajun Delights</td>\n",
       "      <td>North America</td>\n",
       "      <td>65.0</td>\n",
       "      <td>Louisiana Fiery Hot Pepper Sauce</td>\n",
       "      <td>0.0</td>\n",
       "    </tr>\n",
       "  </tbody>\n",
       "</table>\n",
       "</div>"
      ],
      "text/plain": [
       "   SupplierId                SupplierName         Region  ProductId  \\\n",
       "0           1              Exotic Liquids  British Isles        1.0   \n",
       "1           1              Exotic Liquids  British Isles        2.0   \n",
       "2           1              Exotic Liquids  British Isles        3.0   \n",
       "3           2  New Orleans Cajun Delights  North America        4.0   \n",
       "4           2  New Orleans Cajun Delights  North America       65.0   \n",
       "\n",
       "                        ProductName  ReorderLevel  \n",
       "0                              Chai          10.0  \n",
       "1                             Chang          25.0  \n",
       "2                     Aniseed Syrup          25.0  \n",
       "3      Chef Anton's Cajun Seasoning           0.0  \n",
       "4  Louisiana Fiery Hot Pepper Sauce           0.0  "
      ]
     },
     "execution_count": 81,
     "metadata": {},
     "output_type": "execute_result"
    }
   ],
   "source": [
    "# Import supplier data\n",
    "supplier_df = get_table_data('Supplier')\n",
    "supplier_df = con.execute(\"SELECT id, CompanyName, Region FROM 'Supplier';\")\n",
    "supplier_df = pd.DataFrame(supplier_df.fetchall())\n",
    "supplier_df.columns = ['Id', 'SupplierName', 'Region']\n",
    "\n",
    "# import product data and removed discontinued products\n",
    "product_df = con.execute(\"SELECT Id, ProductName, SupplierId, ReorderLevel, Discontinued FROM 'Product';\")\n",
    "product_df = pd.DataFrame(product_df.fetchall())\n",
    "product_df.columns = ['Id', 'ProductName', 'SupplierId', 'ReorderLevel', 'Discontinued']\n",
    "product_df = product_df.loc[product_df['Discontinued'] == 0]\n",
    "\n",
    "# Drop unneeded columns\n",
    "product_df.drop(['Discontinued'], axis=1, inplace=True)\n",
    "\n",
    "# Merge and cleanup DataFrames\n",
    "df = supplier_df.merge(product_df, left_on='Id', right_on='SupplierId', how='left',suffixes=('', '_p'))\n",
    "df.drop(['SupplierId'], axis=1, inplace=True)\n",
    "df.rename(columns={'Id': 'SupplierId', 'Id_p': 'ProductId'}, inplace=True)\n",
    "df.head()"
   ]
  },
  {
   "cell_type": "code",
   "execution_count": 82,
   "metadata": {
    "ExecuteTime": {
     "end_time": "2019-06-25T22:11:28.065331Z",
     "start_time": "2019-06-25T22:11:28.056350Z"
    }
   },
   "outputs": [
    {
     "data": {
      "text/plain": [
       "Region\n",
       "British Isles       7\n",
       "Eastern Asia        5\n",
       "NSW                 2\n",
       "North America      15\n",
       "Northern Europe     9\n",
       "Scandinavia         6\n",
       "South America       0\n",
       "South-East Asia     2\n",
       "Southern Europe     7\n",
       "Victoria            4\n",
       "Western Europe     12\n",
       "Name: ProductId, dtype: int64"
      ]
     },
     "execution_count": 82,
     "metadata": {},
     "output_type": "execute_result"
    }
   ],
   "source": [
    "df.groupby(['Region'])['ProductId'].count()\n"
   ]
  },
  {
   "cell_type": "code",
   "execution_count": 83,
   "metadata": {
    "ExecuteTime": {
     "end_time": "2019-06-25T22:11:28.094155Z",
     "start_time": "2019-06-25T22:11:28.068230Z"
    }
   },
   "outputs": [
    {
     "data": {
      "text/html": [
       "<div>\n",
       "<style>\n",
       "    .dataframe thead tr:only-child th {\n",
       "        text-align: right;\n",
       "    }\n",
       "\n",
       "    .dataframe thead th {\n",
       "        text-align: left;\n",
       "    }\n",
       "\n",
       "    .dataframe tbody tr th {\n",
       "        vertical-align: top;\n",
       "    }\n",
       "</style>\n",
       "<table border=\"1\" class=\"dataframe\">\n",
       "  <thead>\n",
       "    <tr style=\"text-align: right;\">\n",
       "      <th></th>\n",
       "      <th>ReorderLevel</th>\n",
       "    </tr>\n",
       "    <tr>\n",
       "      <th>Region</th>\n",
       "      <th></th>\n",
       "    </tr>\n",
       "  </thead>\n",
       "  <tbody>\n",
       "    <tr>\n",
       "      <th>British Isles</th>\n",
       "      <td>12.142857</td>\n",
       "    </tr>\n",
       "    <tr>\n",
       "      <th>Eastern Asia</th>\n",
       "      <td>3.000000</td>\n",
       "    </tr>\n",
       "    <tr>\n",
       "      <th>NSW</th>\n",
       "      <td>17.500000</td>\n",
       "    </tr>\n",
       "    <tr>\n",
       "      <th>North America</th>\n",
       "      <td>12.666667</td>\n",
       "    </tr>\n",
       "    <tr>\n",
       "      <th>Northern Europe</th>\n",
       "      <td>15.555556</td>\n",
       "    </tr>\n",
       "    <tr>\n",
       "      <th>Scandinavia</th>\n",
       "      <td>16.666667</td>\n",
       "    </tr>\n",
       "    <tr>\n",
       "      <th>South America</th>\n",
       "      <td>NaN</td>\n",
       "    </tr>\n",
       "    <tr>\n",
       "      <th>South-East Asia</th>\n",
       "      <td>20.000000</td>\n",
       "    </tr>\n",
       "    <tr>\n",
       "      <th>Southern Europe</th>\n",
       "      <td>17.857143</td>\n",
       "    </tr>\n",
       "    <tr>\n",
       "      <th>Victoria</th>\n",
       "      <td>11.250000</td>\n",
       "    </tr>\n",
       "    <tr>\n",
       "      <th>Western Europe</th>\n",
       "      <td>15.416667</td>\n",
       "    </tr>\n",
       "  </tbody>\n",
       "</table>\n",
       "</div>"
      ],
      "text/plain": [
       "                 ReorderLevel\n",
       "Region                       \n",
       "British Isles       12.142857\n",
       "Eastern Asia         3.000000\n",
       "NSW                 17.500000\n",
       "North America       12.666667\n",
       "Northern Europe     15.555556\n",
       "Scandinavia         16.666667\n",
       "South America             NaN\n",
       "South-East Asia     20.000000\n",
       "Southern Europe     17.857143\n",
       "Victoria            11.250000\n",
       "Western Europe      15.416667"
      ]
     },
     "execution_count": 83,
     "metadata": {},
     "output_type": "execute_result"
    }
   ],
   "source": [
    "british_isles = df.loc[df['Region'] == 'British Isles']\n",
    "eastern_asia = df.loc[df['Region'] == 'Eastern Asia']\n",
    "nsw = df.loc[df['Region'] == 'NSW']\n",
    "north_america = df.loc[df['Region'] == 'North America']\n",
    "northern_europe = df.loc[df['Region'] == 'Northern Europe']\n",
    "scandinavia = df.loc[df['Region'] == 'Scandinavia']\n",
    "south_east_asia = df.loc[df['Region'] == 'South-East Asia']\n",
    "southern_europe = df.loc[df['Region'] == 'Southern Europe']\n",
    "victoria = df.loc[df['Region'] == 'Victoria']\n",
    "western_europe = df.loc[df['Region'] == 'Western Europe']\n",
    "results = pd.DataFrame(df.groupby(['Region'])['ReorderLevel'].mean())\n",
    "results"
   ]
  },
  {
   "cell_type": "markdown",
   "metadata": {},
   "source": [
    "<a id=\"3.3\"></a>\n",
    "### 3.3 Explore and Scrub"
   ]
  },
  {
   "cell_type": "code",
   "execution_count": 84,
   "metadata": {
    "ExecuteTime": {
     "end_time": "2019-06-25T22:11:28.441588Z",
     "start_time": "2019-06-25T22:11:28.095956Z"
    }
   },
   "outputs": [
    {
     "data": {
      "image/png": "[encoded data removed]",
      "text/plain": [
       "<Figure size 432x288 with 1 Axes>"
      ]
     },
     "metadata": {},
     "output_type": "display_data"
    }
   ],
   "source": [
    "results.drop(['South America'], inplace=True)\n",
    "\n",
    "results.plot(kind='bar')\n",
    "plt.title('Reorder Level by Region')\n",
    "plt.xlabel('Region')\n",
    "plt.ylabel('Reorder Level')\n",
    "plt.tight_layout()\n",
    "plt.savefig('images/reorder_levels.png')"
   ]
  },
  {
   "cell_type": "code",
   "execution_count": 85,
   "metadata": {
    "ExecuteTime": {
     "end_time": "2019-06-25T22:11:28.463117Z",
     "start_time": "2019-06-25T22:11:28.443565Z"
    },
    "collapsed": true
   },
   "outputs": [],
   "source": [
    "british_isles = df.loc[df['Region'] == 'British Isles']\n",
    "eastern_asia = df.loc[df['Region'] == 'Eastern Asia']\n",
    "nsw = df.loc[df['Region'] == 'NSW']\n",
    "north_america = df.loc[df['Region'] == 'North America']\n",
    "northern_europe = df.loc[df['Region'] == 'Northern Europe']\n",
    "scandinavia = df.loc[df['Region'] == 'Scandinavia']\n",
    "south_east_asia = df.loc[df['Region'] == 'South-East Asia']\n",
    "southern_europe = df.loc[df['Region'] == 'Southern Europe']\n",
    "victoria = df.loc[df['Region'] == 'Victoria']\n",
    "western_europe = df.loc[df['Region'] == 'Western Europe']\n",
    "\n",
    "region_dfs = [british_isles, eastern_asia, nsw, north_america, northern_europe, scandinavia,\n",
    "             south_east_asia, southern_europe, victoria, western_europe]"
   ]
  },
  {
   "cell_type": "code",
   "execution_count": 86,
   "metadata": {
    "ExecuteTime": {
     "end_time": "2019-06-25T22:11:28.477348Z",
     "start_time": "2019-06-25T22:11:28.465521Z"
    }
   },
   "outputs": [
    {
     "data": {
      "text/html": [
       "<div>\n",
       "<style>\n",
       "    .dataframe thead tr:only-child th {\n",
       "        text-align: right;\n",
       "    }\n",
       "\n",
       "    .dataframe thead th {\n",
       "        text-align: left;\n",
       "    }\n",
       "\n",
       "    .dataframe tbody tr th {\n",
       "        vertical-align: top;\n",
       "    }\n",
       "</style>\n",
       "<table border=\"1\" class=\"dataframe\">\n",
       "  <thead>\n",
       "    <tr style=\"text-align: right;\">\n",
       "      <th></th>\n",
       "      <th>SupplierId</th>\n",
       "      <th>SupplierName</th>\n",
       "      <th>Region</th>\n",
       "      <th>ProductId</th>\n",
       "      <th>ProductName</th>\n",
       "      <th>ReorderLevel</th>\n",
       "    </tr>\n",
       "  </thead>\n",
       "  <tbody>\n",
       "    <tr>\n",
       "      <th>11</th>\n",
       "      <td>5</td>\n",
       "      <td>Cooperativa de Quesos 'Las Cabras'</td>\n",
       "      <td>Southern Europe</td>\n",
       "      <td>11.0</td>\n",
       "      <td>Queso Cabrales</td>\n",
       "      <td>30.0</td>\n",
       "    </tr>\n",
       "    <tr>\n",
       "      <th>12</th>\n",
       "      <td>5</td>\n",
       "      <td>Cooperativa de Quesos 'Las Cabras'</td>\n",
       "      <td>Southern Europe</td>\n",
       "      <td>12.0</td>\n",
       "      <td>Queso Manchego La Pastora</td>\n",
       "      <td>0.0</td>\n",
       "    </tr>\n",
       "    <tr>\n",
       "      <th>34</th>\n",
       "      <td>14</td>\n",
       "      <td>Formaggi Fortini s.r.l.</td>\n",
       "      <td>Southern Europe</td>\n",
       "      <td>31.0</td>\n",
       "      <td>Gorgonzola Telino</td>\n",
       "      <td>20.0</td>\n",
       "    </tr>\n",
       "    <tr>\n",
       "      <th>35</th>\n",
       "      <td>14</td>\n",
       "      <td>Formaggi Fortini s.r.l.</td>\n",
       "      <td>Southern Europe</td>\n",
       "      <td>32.0</td>\n",
       "      <td>Mascarpone Fabioli</td>\n",
       "      <td>25.0</td>\n",
       "    </tr>\n",
       "    <tr>\n",
       "      <th>36</th>\n",
       "      <td>14</td>\n",
       "      <td>Formaggi Fortini s.r.l.</td>\n",
       "      <td>Southern Europe</td>\n",
       "      <td>72.0</td>\n",
       "      <td>Mozzarella di Giovanni</td>\n",
       "      <td>0.0</td>\n",
       "    </tr>\n",
       "  </tbody>\n",
       "</table>\n",
       "</div>"
      ],
      "text/plain": [
       "    SupplierId                        SupplierName           Region  \\\n",
       "11           5  Cooperativa de Quesos 'Las Cabras'  Southern Europe   \n",
       "12           5  Cooperativa de Quesos 'Las Cabras'  Southern Europe   \n",
       "34          14             Formaggi Fortini s.r.l.  Southern Europe   \n",
       "35          14             Formaggi Fortini s.r.l.  Southern Europe   \n",
       "36          14             Formaggi Fortini s.r.l.  Southern Europe   \n",
       "\n",
       "    ProductId                ProductName  ReorderLevel  \n",
       "11       11.0             Queso Cabrales          30.0  \n",
       "12       12.0  Queso Manchego La Pastora           0.0  \n",
       "34       31.0          Gorgonzola Telino          20.0  \n",
       "35       32.0         Mascarpone Fabioli          25.0  \n",
       "36       72.0     Mozzarella di Giovanni           0.0  "
      ]
     },
     "execution_count": 86,
     "metadata": {},
     "output_type": "execute_result"
    }
   ],
   "source": [
    "southern_europe.head()"
   ]
  },
  {
   "cell_type": "markdown",
   "metadata": {},
   "source": [
    "<a id=\"3.4\"></a>\n",
    "### 3.4 Experiment\n",
    "We'll run a one sample t-test for each region. "
   ]
  },
  {
   "cell_type": "code",
   "execution_count": 87,
   "metadata": {
    "ExecuteTime": {
     "end_time": "2019-06-25T22:11:28.934812Z",
     "start_time": "2019-06-25T22:11:28.479351Z"
    },
    "scrolled": false
   },
   "outputs": [
    {
     "name": "stdout",
     "output_type": "stream",
     "text": [
      "British Isles\n",
      "Ttest_1sampResult(statistic=-0.47116020365080752, pvalue=0.65416929529214585)\n",
      "----------------\n",
      "Eastern Asia\n",
      "Ttest_1sampResult(statistic=-8.9104626875156185, pvalue=0.00087687200506487701)\n",
      "***Region's reorder level is lower than other regions***\n",
      "***Statistically significant***\n",
      "----------------\n",
      "NSW\n",
      "Ttest_1sampResult(statistic=0.47826086956521746, pvalue=0.71600038697973556)\n",
      "----------------\n",
      "North America\n",
      "Ttest_1sampResult(statistic=-0.48387311708827668, pvalue=0.63595707862010165)\n",
      "----------------\n",
      "Northern Europe\n",
      "Ttest_1sampResult(statistic=0.44698407242830357, pvalue=0.66673996077089526)\n",
      "----------------\n",
      "Scandinavia\n",
      "Ttest_1sampResult(statistic=0.68602787705263502, pvalue=0.523205137218683)\n",
      "----------------\n",
      "South-East Asia\n",
      "Ttest_1sampResult(statistic=1.2173913043478262, pvalue=0.43778511848310447)\n",
      "----------------\n",
      "Southern Europe\n",
      "Ttest_1sampResult(statistic=0.8112021857354057, pvalue=0.44822470632661959)\n",
      "----------------\n",
      "Victoria\n",
      "Ttest_1sampResult(statistic=-0.40503245576999236, pvalue=0.71260516704215826)\n",
      "----------------\n",
      "Western Europe\n",
      "Ttest_1sampResult(statistic=0.43558520795706995, pvalue=0.67156179626885537)\n",
      "----------------\n"
     ]
    },
    {
     "data": {
      "image/png": "[encoded data removed]",
      "text/plain": [
       "<Figure size 864x360 with 1 Axes>"
      ]
     },
     "metadata": {},
     "output_type": "display_data"
    }
   ],
   "source": [
    "super_mean = np.mean(df['ReorderLevel'])\n",
    "for region in region_dfs:\n",
    "    print(region['Region'].iloc[0])\n",
    "#     print(row['ReorderLevel'])\n",
    "    output = stats.ttest_1samp(region['ReorderLevel'], super_mean)\n",
    "    print(output)\n",
    "    critical = stats.t.ppf(1-alpha, (len(region)-1))\n",
    "    if output[0] < (-1 * critical):\n",
    "        print('***Region\\'s reorder level is lower than other regions***')\n",
    "        if output[1] < alpha:\n",
    "            print('***Statistically significant***')\n",
    "        # generate points on the x axis between -5 and 5:\n",
    "        xs = np.linspace(-10, 10, 400)\n",
    "        # use stats.t.pdf to get values on the probability density function for the t-distribution\n",
    "        # the second argument is the degrees of freedom\n",
    "        ys = stats.t.pdf(xs, (len(region)-1), 0, 1)\n",
    "        # initialize a matplotlib \"figure\"\n",
    "        fig = plt.figure(figsize=(12, 5))\n",
    "        # get the current \"axis\" out of the figure\n",
    "        ax = fig.gca()\n",
    "        # plot the lines using matplotlib's plot function:\n",
    "        plt.plot(xs, ys, color='navy')\n",
    "        # plot a vertical line for our measured difference in rates t-statistic\n",
    "        plt.axvline((-1 * critical), color='red', linestyle='--', label='Critical Value')\n",
    "        plt.axvline(output[0], color='green', label='T Value')\n",
    "        plt.legend()\n",
    "        plt.title(region['Region'].iloc[0])\n",
    "        plt.savefig('images/{}_ttest.png'.format(region['Region'].iloc[0]))\n",
    "    print('----------------')"
   ]
  },
  {
   "cell_type": "markdown",
   "metadata": {},
   "source": [
    "<a id=\"3.5\"></a>\n",
    "### 3.5 Analyze"
   ]
  },
  {
   "cell_type": "markdown",
   "metadata": {},
   "source": [
    "As we expected, Eastern Asia has a significantly lower reorder level than other regions. We are able to reject the null hypothesis and accept the alternative hypothesis that Eastern Asia is different from other regions in terms of reorder level. No other regions had a statistically significant difference. In future work, we'll want to look into what makes Eastern Asia so different. Are they able to deliver items faster? Do their products sell infrequently enough not to affect the bottom line? Or is there an opportunity to generate more revenues if we reorder their product earlier?"
   ]
  },
  {
   "cell_type": "markdown",
   "metadata": {},
   "source": [
    "<a id=\"4\"></a>\n",
    "## 4 What customers generate the most revenue?\n",
    "We want to determine which customers generate a higher portion of revenue than expected so we can focus our efforts more on customers that make us the most money. If they choose to use another supplier, it would have a much more profound effect on our bottom line than an average customer. \n",
    "\n",
    "<a id=\"4.1\"></a>\n",
    "### 4.1 Hypothesis\n",
    ">$H_o: \\mu_0 = \\mu_1, \\mu_x$\n",
    "\n",
    ">$H_o: \\mu_0 > \\mu_1, \\mu_x$\n",
    "\n",
    "<a id=\"4.2\"></a>\n",
    "### 4.2 Obtain\n",
    "The data that we need is spread over three database tables, `Customer`, `Order`, `OrderDetail`."
   ]
  },
  {
   "cell_type": "code",
   "execution_count": 88,
   "metadata": {
    "ExecuteTime": {
     "end_time": "2019-06-25T22:11:28.992932Z",
     "start_time": "2019-06-25T22:11:28.937591Z"
    }
   },
   "outputs": [
    {
     "name": "stdout",
     "output_type": "stream",
     "text": [
      "2019-06-25 17:11:28,955 INFO sqlalchemy.engine.base.Engine SELECT * FROM 'Customer'\n",
      "2019-06-25 17:11:28,956 INFO sqlalchemy.engine.base.Engine ()\n",
      "2019-06-25 17:11:28,960 INFO sqlalchemy.engine.base.Engine PRAGMA table_info(\"Customer\")\n",
      "2019-06-25 17:11:28,962 INFO sqlalchemy.engine.base.Engine ()\n",
      "2019-06-25 17:11:28,965 INFO sqlalchemy.engine.base.Engine SELECT Id, CompanyName FROM 'Customer';\n",
      "2019-06-25 17:11:28,967 INFO sqlalchemy.engine.base.Engine ()\n",
      "2019-06-25 17:11:28,970 INFO sqlalchemy.engine.base.Engine SELECT Id, CustomerId FROM 'Order';\n",
      "2019-06-25 17:11:28,971 INFO sqlalchemy.engine.base.Engine ()\n",
      "2019-06-25 17:11:28,975 INFO sqlalchemy.engine.base.Engine SELECT OrderId, ProductId, UnitPrice, Quantity, Discount FROM 'OrderDetail';\n",
      "2019-06-25 17:11:28,976 INFO sqlalchemy.engine.base.Engine ()\n"
     ]
    },
    {
     "data": {
      "text/html": [
       "<div>\n",
       "<style>\n",
       "    .dataframe thead tr:only-child th {\n",
       "        text-align: right;\n",
       "    }\n",
       "\n",
       "    .dataframe thead th {\n",
       "        text-align: left;\n",
       "    }\n",
       "\n",
       "    .dataframe tbody tr th {\n",
       "        vertical-align: top;\n",
       "    }\n",
       "</style>\n",
       "<table border=\"1\" class=\"dataframe\">\n",
       "  <thead>\n",
       "    <tr style=\"text-align: right;\">\n",
       "      <th></th>\n",
       "      <th>Id</th>\n",
       "      <th>CompanyName</th>\n",
       "    </tr>\n",
       "  </thead>\n",
       "  <tbody>\n",
       "    <tr>\n",
       "      <th>0</th>\n",
       "      <td>ALFKI</td>\n",
       "      <td>Alfreds Futterkiste</td>\n",
       "    </tr>\n",
       "  </tbody>\n",
       "</table>\n",
       "</div>"
      ],
      "text/plain": [
       "      Id          CompanyName\n",
       "0  ALFKI  Alfreds Futterkiste"
      ]
     },
     "execution_count": 88,
     "metadata": {},
     "output_type": "execute_result"
    }
   ],
   "source": [
    "customer = get_table_data('Customer')\n",
    "customer.drop(['ContactName', 'ContactTitle', 'Address', 'City', 'Region', 'PostalCode', 'Country', 'Phone', 'Fax'], axis=1, inplace=True)\n",
    "customer = con.execute(\"SELECT Id, CompanyName FROM 'Customer';\")\n",
    "customer = pd.DataFrame(customer.fetchall())\n",
    "customer.columns = ['Id', 'CompanyName']\n",
    "\n",
    "orders = con.execute(\"SELECT Id, CustomerId FROM 'Order';\")\n",
    "orders = pd.DataFrame(orders.fetchall())\n",
    "orders.columns = ['Id', 'CustomerId']\n",
    "\n",
    "details = con.execute(\"SELECT OrderId, ProductId, UnitPrice, Quantity, Discount FROM 'OrderDetail';\")\n",
    "details = pd.DataFrame(details.fetchall())\n",
    "details.columns = ['OrderId', 'ProductId', 'UnitPrice', 'Quantity', 'Discount']\n",
    "\n",
    "customer.head(1)"
   ]
  },
  {
   "cell_type": "code",
   "execution_count": 89,
   "metadata": {
    "ExecuteTime": {
     "end_time": "2019-06-25T22:11:29.002514Z",
     "start_time": "2019-06-25T22:11:28.995331Z"
    }
   },
   "outputs": [
    {
     "data": {
      "text/html": [
       "<div>\n",
       "<style>\n",
       "    .dataframe thead tr:only-child th {\n",
       "        text-align: right;\n",
       "    }\n",
       "\n",
       "    .dataframe thead th {\n",
       "        text-align: left;\n",
       "    }\n",
       "\n",
       "    .dataframe tbody tr th {\n",
       "        vertical-align: top;\n",
       "    }\n",
       "</style>\n",
       "<table border=\"1\" class=\"dataframe\">\n",
       "  <thead>\n",
       "    <tr style=\"text-align: right;\">\n",
       "      <th></th>\n",
       "      <th>Id</th>\n",
       "      <th>CustomerId</th>\n",
       "    </tr>\n",
       "  </thead>\n",
       "  <tbody>\n",
       "    <tr>\n",
       "      <th>0</th>\n",
       "      <td>10248</td>\n",
       "      <td>VINET</td>\n",
       "    </tr>\n",
       "  </tbody>\n",
       "</table>\n",
       "</div>"
      ],
      "text/plain": [
       "      Id CustomerId\n",
       "0  10248      VINET"
      ]
     },
     "execution_count": 89,
     "metadata": {},
     "output_type": "execute_result"
    }
   ],
   "source": [
    "orders.head(1)"
   ]
  },
  {
   "cell_type": "code",
   "execution_count": 90,
   "metadata": {
    "ExecuteTime": {
     "end_time": "2019-06-25T22:11:29.016515Z",
     "start_time": "2019-06-25T22:11:29.005360Z"
    }
   },
   "outputs": [
    {
     "data": {
      "text/html": [
       "<div>\n",
       "<style>\n",
       "    .dataframe thead tr:only-child th {\n",
       "        text-align: right;\n",
       "    }\n",
       "\n",
       "    .dataframe thead th {\n",
       "        text-align: left;\n",
       "    }\n",
       "\n",
       "    .dataframe tbody tr th {\n",
       "        vertical-align: top;\n",
       "    }\n",
       "</style>\n",
       "<table border=\"1\" class=\"dataframe\">\n",
       "  <thead>\n",
       "    <tr style=\"text-align: right;\">\n",
       "      <th></th>\n",
       "      <th>OrderId</th>\n",
       "      <th>ProductId</th>\n",
       "      <th>UnitPrice</th>\n",
       "      <th>Quantity</th>\n",
       "      <th>Discount</th>\n",
       "    </tr>\n",
       "  </thead>\n",
       "  <tbody>\n",
       "    <tr>\n",
       "      <th>0</th>\n",
       "      <td>10248</td>\n",
       "      <td>11</td>\n",
       "      <td>14.0</td>\n",
       "      <td>12</td>\n",
       "      <td>0.0</td>\n",
       "    </tr>\n",
       "  </tbody>\n",
       "</table>\n",
       "</div>"
      ],
      "text/plain": [
       "   OrderId  ProductId  UnitPrice  Quantity  Discount\n",
       "0    10248         11       14.0        12       0.0"
      ]
     },
     "execution_count": 90,
     "metadata": {},
     "output_type": "execute_result"
    }
   ],
   "source": [
    "details.head(1)"
   ]
  },
  {
   "cell_type": "code",
   "execution_count": 91,
   "metadata": {
    "ExecuteTime": {
     "end_time": "2019-06-25T22:11:29.042636Z",
     "start_time": "2019-06-25T22:11:29.019569Z"
    }
   },
   "outputs": [
    {
     "data": {
      "text/html": [
       "<div>\n",
       "<style>\n",
       "    .dataframe thead tr:only-child th {\n",
       "        text-align: right;\n",
       "    }\n",
       "\n",
       "    .dataframe thead th {\n",
       "        text-align: left;\n",
       "    }\n",
       "\n",
       "    .dataframe tbody tr th {\n",
       "        vertical-align: top;\n",
       "    }\n",
       "</style>\n",
       "<table border=\"1\" class=\"dataframe\">\n",
       "  <thead>\n",
       "    <tr style=\"text-align: right;\">\n",
       "      <th></th>\n",
       "      <th>CompanyName</th>\n",
       "      <th>CustomerId</th>\n",
       "      <th>OrderId</th>\n",
       "      <th>ProductId</th>\n",
       "      <th>UnitPrice</th>\n",
       "      <th>Quantity</th>\n",
       "      <th>Discount</th>\n",
       "    </tr>\n",
       "  </thead>\n",
       "  <tbody>\n",
       "    <tr>\n",
       "      <th>0</th>\n",
       "      <td>Alfreds Futterkiste</td>\n",
       "      <td>ALFKI</td>\n",
       "      <td>10643.0</td>\n",
       "      <td>28.0</td>\n",
       "      <td>45.6</td>\n",
       "      <td>15.0</td>\n",
       "      <td>0.25</td>\n",
       "    </tr>\n",
       "    <tr>\n",
       "      <th>1</th>\n",
       "      <td>Alfreds Futterkiste</td>\n",
       "      <td>ALFKI</td>\n",
       "      <td>10643.0</td>\n",
       "      <td>39.0</td>\n",
       "      <td>18.0</td>\n",
       "      <td>21.0</td>\n",
       "      <td>0.25</td>\n",
       "    </tr>\n",
       "    <tr>\n",
       "      <th>2</th>\n",
       "      <td>Alfreds Futterkiste</td>\n",
       "      <td>ALFKI</td>\n",
       "      <td>10643.0</td>\n",
       "      <td>46.0</td>\n",
       "      <td>12.0</td>\n",
       "      <td>2.0</td>\n",
       "      <td>0.25</td>\n",
       "    </tr>\n",
       "    <tr>\n",
       "      <th>3</th>\n",
       "      <td>Alfreds Futterkiste</td>\n",
       "      <td>ALFKI</td>\n",
       "      <td>10692.0</td>\n",
       "      <td>63.0</td>\n",
       "      <td>43.9</td>\n",
       "      <td>20.0</td>\n",
       "      <td>0.00</td>\n",
       "    </tr>\n",
       "    <tr>\n",
       "      <th>4</th>\n",
       "      <td>Alfreds Futterkiste</td>\n",
       "      <td>ALFKI</td>\n",
       "      <td>10702.0</td>\n",
       "      <td>3.0</td>\n",
       "      <td>10.0</td>\n",
       "      <td>6.0</td>\n",
       "      <td>0.00</td>\n",
       "    </tr>\n",
       "  </tbody>\n",
       "</table>\n",
       "</div>"
      ],
      "text/plain": [
       "           CompanyName CustomerId  OrderId  ProductId  UnitPrice  Quantity  \\\n",
       "0  Alfreds Futterkiste      ALFKI  10643.0       28.0       45.6      15.0   \n",
       "1  Alfreds Futterkiste      ALFKI  10643.0       39.0       18.0      21.0   \n",
       "2  Alfreds Futterkiste      ALFKI  10643.0       46.0       12.0       2.0   \n",
       "3  Alfreds Futterkiste      ALFKI  10692.0       63.0       43.9      20.0   \n",
       "4  Alfreds Futterkiste      ALFKI  10702.0        3.0       10.0       6.0   \n",
       "\n",
       "   Discount  \n",
       "0      0.25  \n",
       "1      0.25  \n",
       "2      0.25  \n",
       "3      0.00  \n",
       "4      0.00  "
      ]
     },
     "execution_count": 91,
     "metadata": {},
     "output_type": "execute_result"
    }
   ],
   "source": [
    "df = customer.merge(orders, left_on='Id', right_on='CustomerId', how='left',suffixes=('_c', '_o'))\n",
    "df = df.merge(details, left_on='Id_o', right_on='OrderId', how='left',suffixes=('', '_o'))\n",
    "df.drop(['Id_c', 'Id_o'], axis=1, inplace=True)\n",
    "df.head()"
   ]
  },
  {
   "cell_type": "code",
   "execution_count": 92,
   "metadata": {
    "ExecuteTime": {
     "end_time": "2019-06-25T22:11:29.051922Z",
     "start_time": "2019-06-25T22:11:29.044461Z"
    }
   },
   "outputs": [
    {
     "name": "stdout",
     "output_type": "stream",
     "text": [
      "<class 'pandas.core.frame.DataFrame'>\n",
      "Int64Index: 2084 entries, 0 to 2083\n",
      "Data columns (total 7 columns):\n",
      "CompanyName    2084 non-null object\n",
      "CustomerId     2078 non-null object\n",
      "OrderId        2078 non-null float64\n",
      "ProductId      2078 non-null float64\n",
      "UnitPrice      2078 non-null float64\n",
      "Quantity       2078 non-null float64\n",
      "Discount       2078 non-null float64\n",
      "dtypes: float64(5), object(2)\n",
      "memory usage: 130.2+ KB\n"
     ]
    }
   ],
   "source": [
    "df.info()"
   ]
  },
  {
   "cell_type": "markdown",
   "metadata": {},
   "source": [
    "<a id=\"4.3\"></a>\n",
    "### 4.3 Scrub\n",
    "We'll need to remove any observations with null values. There are, relatively, very few of them, leaving them out of our analysis won't effect the results much if any. "
   ]
  },
  {
   "cell_type": "code",
   "execution_count": 93,
   "metadata": {
    "ExecuteTime": {
     "end_time": "2019-06-25T22:11:29.062876Z",
     "start_time": "2019-06-25T22:11:29.053703Z"
    }
   },
   "outputs": [
    {
     "data": {
      "text/plain": [
       "CompanyName    0\n",
       "CustomerId     6\n",
       "OrderId        6\n",
       "ProductId      6\n",
       "UnitPrice      6\n",
       "Quantity       6\n",
       "Discount       6\n",
       "dtype: int64"
      ]
     },
     "execution_count": 93,
     "metadata": {},
     "output_type": "execute_result"
    }
   ],
   "source": [
    "df.isnull().sum()"
   ]
  },
  {
   "cell_type": "code",
   "execution_count": 94,
   "metadata": {
    "ExecuteTime": {
     "end_time": "2019-06-25T22:11:29.073643Z",
     "start_time": "2019-06-25T22:11:29.064833Z"
    }
   },
   "outputs": [
    {
     "name": "stdout",
     "output_type": "stream",
     "text": [
      "<class 'pandas.core.frame.DataFrame'>\n",
      "Int64Index: 2078 entries, 0 to 2083\n",
      "Data columns (total 7 columns):\n",
      "CompanyName    2078 non-null object\n",
      "CustomerId     2078 non-null object\n",
      "OrderId        2078 non-null float64\n",
      "ProductId      2078 non-null float64\n",
      "UnitPrice      2078 non-null float64\n",
      "Quantity       2078 non-null float64\n",
      "Discount       2078 non-null float64\n",
      "dtypes: float64(5), object(2)\n",
      "memory usage: 129.9+ KB\n"
     ]
    }
   ],
   "source": [
    "df.dropna(inplace=True)\n",
    "df.info()"
   ]
  },
  {
   "cell_type": "markdown",
   "metadata": {},
   "source": [
    "Next, we will need to calculate the revenue for each order. That is the statistic we want to look at and our database doesn't directly store that information. We'll have to use the following formula:\n",
    ">Revenue = Unit Price \\* Quantity \\* (1 - Discount)"
   ]
  },
  {
   "cell_type": "code",
   "execution_count": 95,
   "metadata": {
    "ExecuteTime": {
     "end_time": "2019-06-25T22:11:29.093950Z",
     "start_time": "2019-06-25T22:11:29.075631Z"
    }
   },
   "outputs": [
    {
     "data": {
      "text/html": [
       "<div>\n",
       "<style>\n",
       "    .dataframe thead tr:only-child th {\n",
       "        text-align: right;\n",
       "    }\n",
       "\n",
       "    .dataframe thead th {\n",
       "        text-align: left;\n",
       "    }\n",
       "\n",
       "    .dataframe tbody tr th {\n",
       "        vertical-align: top;\n",
       "    }\n",
       "</style>\n",
       "<table border=\"1\" class=\"dataframe\">\n",
       "  <thead>\n",
       "    <tr style=\"text-align: right;\">\n",
       "      <th></th>\n",
       "      <th>CompanyName</th>\n",
       "      <th>CustomerId</th>\n",
       "      <th>OrderId</th>\n",
       "      <th>ProductId</th>\n",
       "      <th>UnitPrice</th>\n",
       "      <th>Quantity</th>\n",
       "      <th>Discount</th>\n",
       "      <th>Revenue</th>\n",
       "    </tr>\n",
       "  </thead>\n",
       "  <tbody>\n",
       "    <tr>\n",
       "      <th>0</th>\n",
       "      <td>Alfreds Futterkiste</td>\n",
       "      <td>ALFKI</td>\n",
       "      <td>10643.0</td>\n",
       "      <td>28.0</td>\n",
       "      <td>45.6</td>\n",
       "      <td>15.0</td>\n",
       "      <td>0.25</td>\n",
       "      <td>513.0</td>\n",
       "    </tr>\n",
       "    <tr>\n",
       "      <th>1</th>\n",
       "      <td>Alfreds Futterkiste</td>\n",
       "      <td>ALFKI</td>\n",
       "      <td>10643.0</td>\n",
       "      <td>39.0</td>\n",
       "      <td>18.0</td>\n",
       "      <td>21.0</td>\n",
       "      <td>0.25</td>\n",
       "      <td>283.5</td>\n",
       "    </tr>\n",
       "    <tr>\n",
       "      <th>2</th>\n",
       "      <td>Alfreds Futterkiste</td>\n",
       "      <td>ALFKI</td>\n",
       "      <td>10643.0</td>\n",
       "      <td>46.0</td>\n",
       "      <td>12.0</td>\n",
       "      <td>2.0</td>\n",
       "      <td>0.25</td>\n",
       "      <td>18.0</td>\n",
       "    </tr>\n",
       "    <tr>\n",
       "      <th>3</th>\n",
       "      <td>Alfreds Futterkiste</td>\n",
       "      <td>ALFKI</td>\n",
       "      <td>10692.0</td>\n",
       "      <td>63.0</td>\n",
       "      <td>43.9</td>\n",
       "      <td>20.0</td>\n",
       "      <td>0.00</td>\n",
       "      <td>878.0</td>\n",
       "    </tr>\n",
       "    <tr>\n",
       "      <th>4</th>\n",
       "      <td>Alfreds Futterkiste</td>\n",
       "      <td>ALFKI</td>\n",
       "      <td>10702.0</td>\n",
       "      <td>3.0</td>\n",
       "      <td>10.0</td>\n",
       "      <td>6.0</td>\n",
       "      <td>0.00</td>\n",
       "      <td>60.0</td>\n",
       "    </tr>\n",
       "  </tbody>\n",
       "</table>\n",
       "</div>"
      ],
      "text/plain": [
       "           CompanyName CustomerId  OrderId  ProductId  UnitPrice  Quantity  \\\n",
       "0  Alfreds Futterkiste      ALFKI  10643.0       28.0       45.6      15.0   \n",
       "1  Alfreds Futterkiste      ALFKI  10643.0       39.0       18.0      21.0   \n",
       "2  Alfreds Futterkiste      ALFKI  10643.0       46.0       12.0       2.0   \n",
       "3  Alfreds Futterkiste      ALFKI  10692.0       63.0       43.9      20.0   \n",
       "4  Alfreds Futterkiste      ALFKI  10702.0        3.0       10.0       6.0   \n",
       "\n",
       "   Discount  Revenue  \n",
       "0      0.25    513.0  \n",
       "1      0.25    283.5  \n",
       "2      0.25     18.0  \n",
       "3      0.00    878.0  \n",
       "4      0.00     60.0  "
      ]
     },
     "execution_count": 95,
     "metadata": {},
     "output_type": "execute_result"
    }
   ],
   "source": [
    "df['Revenue'] = df['UnitPrice'] * df['Quantity'] * (1 - df['Discount'])\n",
    "df.head()"
   ]
  },
  {
   "cell_type": "code",
   "execution_count": 96,
   "metadata": {
    "ExecuteTime": {
     "end_time": "2019-06-25T22:11:29.109086Z",
     "start_time": "2019-06-25T22:11:29.095768Z"
    }
   },
   "outputs": [
    {
     "name": "stdout",
     "output_type": "stream",
     "text": [
      "<class 'pandas.core.frame.DataFrame'>\n",
      "RangeIndex: 801 entries, 0 to 800\n",
      "Data columns (total 2 columns):\n",
      "OrderId    801 non-null float64\n",
      "Revenue    801 non-null float64\n",
      "dtypes: float64(2)\n",
      "memory usage: 12.6 KB\n"
     ]
    }
   ],
   "source": [
    "rev_by_orders = pd.DataFrame(df.groupby(['OrderId'])['CompanyName', 'Revenue'].sum())\n",
    "\n",
    "rev_by_orders.reset_index(inplace=True)\n",
    "rev_by_orders.info()\n",
    "# rev_by_orders.index"
   ]
  },
  {
   "cell_type": "code",
   "execution_count": 97,
   "metadata": {
    "ExecuteTime": {
     "end_time": "2019-06-25T22:11:29.126437Z",
     "start_time": "2019-06-25T22:11:29.111500Z"
    }
   },
   "outputs": [
    {
     "data": {
      "text/html": [
       "<div>\n",
       "<style>\n",
       "    .dataframe thead tr:only-child th {\n",
       "        text-align: right;\n",
       "    }\n",
       "\n",
       "    .dataframe thead th {\n",
       "        text-align: left;\n",
       "    }\n",
       "\n",
       "    .dataframe tbody tr th {\n",
       "        vertical-align: top;\n",
       "    }\n",
       "</style>\n",
       "<table border=\"1\" class=\"dataframe\">\n",
       "  <thead>\n",
       "    <tr style=\"text-align: right;\">\n",
       "      <th></th>\n",
       "      <th>OrderId</th>\n",
       "      <th>Revenue</th>\n",
       "      <th>CompanyName</th>\n",
       "      <th>CustomerId</th>\n",
       "    </tr>\n",
       "  </thead>\n",
       "  <tbody>\n",
       "    <tr>\n",
       "      <th>0</th>\n",
       "      <td>10248.0</td>\n",
       "      <td>440.0</td>\n",
       "      <td>Vins et alcools Chevalier</td>\n",
       "      <td>VINET</td>\n",
       "    </tr>\n",
       "    <tr>\n",
       "      <th>1</th>\n",
       "      <td>10248.0</td>\n",
       "      <td>440.0</td>\n",
       "      <td>Vins et alcools Chevalier</td>\n",
       "      <td>VINET</td>\n",
       "    </tr>\n",
       "    <tr>\n",
       "      <th>2</th>\n",
       "      <td>10248.0</td>\n",
       "      <td>440.0</td>\n",
       "      <td>Vins et alcools Chevalier</td>\n",
       "      <td>VINET</td>\n",
       "    </tr>\n",
       "    <tr>\n",
       "      <th>3</th>\n",
       "      <td>10249.0</td>\n",
       "      <td>1863.4</td>\n",
       "      <td>Toms Spezialitäten</td>\n",
       "      <td>TOMSP</td>\n",
       "    </tr>\n",
       "    <tr>\n",
       "      <th>4</th>\n",
       "      <td>10249.0</td>\n",
       "      <td>1863.4</td>\n",
       "      <td>Toms Spezialitäten</td>\n",
       "      <td>TOMSP</td>\n",
       "    </tr>\n",
       "  </tbody>\n",
       "</table>\n",
       "</div>"
      ],
      "text/plain": [
       "   OrderId  Revenue                CompanyName CustomerId\n",
       "0  10248.0    440.0  Vins et alcools Chevalier      VINET\n",
       "1  10248.0    440.0  Vins et alcools Chevalier      VINET\n",
       "2  10248.0    440.0  Vins et alcools Chevalier      VINET\n",
       "3  10249.0   1863.4         Toms Spezialitäten      TOMSP\n",
       "4  10249.0   1863.4         Toms Spezialitäten      TOMSP"
      ]
     },
     "execution_count": 97,
     "metadata": {},
     "output_type": "execute_result"
    }
   ],
   "source": [
    "company_info = df.iloc[:,:3]\n",
    "company_info.head()\n",
    "df = rev_by_orders.merge(company_info,left_on='OrderId', right_on='OrderId', how='left')\n",
    "df.head()"
   ]
  },
  {
   "cell_type": "markdown",
   "metadata": {},
   "source": [
    "We're more interested in looking at the revenue per order and not the revenue per order per product. So, we'll groupby `OrderId` using .sum()."
   ]
  },
  {
   "cell_type": "code",
   "execution_count": 98,
   "metadata": {
    "ExecuteTime": {
     "end_time": "2019-06-25T22:11:29.143090Z",
     "start_time": "2019-06-25T22:11:29.128165Z"
    }
   },
   "outputs": [
    {
     "data": {
      "text/html": [
       "<div>\n",
       "<style>\n",
       "    .dataframe thead tr:only-child th {\n",
       "        text-align: right;\n",
       "    }\n",
       "\n",
       "    .dataframe thead th {\n",
       "        text-align: left;\n",
       "    }\n",
       "\n",
       "    .dataframe tbody tr th {\n",
       "        vertical-align: top;\n",
       "    }\n",
       "</style>\n",
       "<table border=\"1\" class=\"dataframe\">\n",
       "  <thead>\n",
       "    <tr style=\"text-align: right;\">\n",
       "      <th></th>\n",
       "      <th>OrderId</th>\n",
       "      <th>CompanyName</th>\n",
       "      <th>Revenue</th>\n",
       "    </tr>\n",
       "  </thead>\n",
       "  <tbody>\n",
       "    <tr>\n",
       "      <th>0</th>\n",
       "      <td>10248.0</td>\n",
       "      <td>Vins et alcools Chevalier</td>\n",
       "      <td>1320.00</td>\n",
       "    </tr>\n",
       "    <tr>\n",
       "      <th>1</th>\n",
       "      <td>10249.0</td>\n",
       "      <td>Toms Spezialitäten</td>\n",
       "      <td>3726.80</td>\n",
       "    </tr>\n",
       "    <tr>\n",
       "      <th>2</th>\n",
       "      <td>10250.0</td>\n",
       "      <td>Hanari Carnes</td>\n",
       "      <td>4657.80</td>\n",
       "    </tr>\n",
       "    <tr>\n",
       "      <th>3</th>\n",
       "      <td>10251.0</td>\n",
       "      <td>Victuailles en stock</td>\n",
       "      <td>1962.18</td>\n",
       "    </tr>\n",
       "    <tr>\n",
       "      <th>4</th>\n",
       "      <td>10252.0</td>\n",
       "      <td>Suprêmes délices</td>\n",
       "      <td>10793.70</td>\n",
       "    </tr>\n",
       "  </tbody>\n",
       "</table>\n",
       "</div>"
      ],
      "text/plain": [
       "   OrderId                CompanyName   Revenue\n",
       "0  10248.0  Vins et alcools Chevalier   1320.00\n",
       "1  10249.0         Toms Spezialitäten   3726.80\n",
       "2  10250.0              Hanari Carnes   4657.80\n",
       "3  10251.0       Victuailles en stock   1962.18\n",
       "4  10252.0           Suprêmes délices  10793.70"
      ]
     },
     "execution_count": 98,
     "metadata": {},
     "output_type": "execute_result"
    }
   ],
   "source": [
    "df = df.groupby(['OrderId', 'CompanyName'])['Revenue'].sum().reset_index()\n",
    "\n",
    "super_mean = np.mean(df['Revenue'])\n",
    "\n",
    "df.head()"
   ]
  },
  {
   "cell_type": "code",
   "execution_count": 99,
   "metadata": {
    "ExecuteTime": {
     "end_time": "2019-06-25T22:11:29.208497Z",
     "start_time": "2019-06-25T22:11:29.144903Z"
    }
   },
   "outputs": [
    {
     "name": "stdout",
     "output_type": "stream",
     "text": [
      "85\n",
      "     OrderId                CompanyName  Revenue\n",
      "0    10248.0  Vins et alcools Chevalier   1320.0\n",
      "26   10274.0  Vins et alcools Chevalier   1077.2\n",
      "47   10295.0  Vins et alcools Chevalier    121.6\n",
      "471  10737.0  Vins et alcools Chevalier    279.6\n",
      "473  10739.0  Vins et alcools Chevalier    480.0\n"
     ]
    }
   ],
   "source": [
    "company_orders = []\n",
    "for company in list(df.CompanyName.unique()):\n",
    "    variable = df.loc[df['CompanyName'] == company]\n",
    "    company_orders.append(variable)\n",
    "\n",
    "# df.CompanyName.unique()\n",
    "print(len(company_orders))\n",
    "print(company_orders[0])"
   ]
  },
  {
   "cell_type": "markdown",
   "metadata": {},
   "source": [
    "<a id=\"4.4\"></a>\n",
    "### 4.4 Experiment\n",
    "\n",
    "We are going to run a one sample t test on each individual company's orders. If the t-statistic associated with the company's revenue is greater than the critical t-statistic and the p-value is lower than our predetermined alpha, 0.05, we'll reject the null hypothesis and assume the revenue is greater than the general population of our customers."
   ]
  },
  {
   "cell_type": "code",
   "execution_count": 100,
   "metadata": {
    "ExecuteTime": {
     "end_time": "2019-06-25T22:11:30.879016Z",
     "start_time": "2019-06-25T22:11:29.210569Z"
    },
    "scrolled": true
   },
   "outputs": [
    {
     "name": "stdout",
     "output_type": "stream",
     "text": [
      "Vins et alcools Chevalier\n",
      "Ttest_1sampResult(statistic=-18.002164781142881, pvalue=5.5971994518408879e-05)\n",
      "----------------\n",
      "Toms Spezialitäten\n",
      "Ttest_1sampResult(statistic=-6.9783233601886838, pvalue=0.00092992261088758197)\n",
      "----------------\n",
      "Hanari Carnes\n",
      "Ttest_1sampResult(statistic=-0.45536981108039321, pvalue=0.65635562604857056)\n",
      "----------------\n",
      "Victuailles en stock\n",
      "Ttest_1sampResult(statistic=-2.1853621549233884, pvalue=0.056677073100443155)\n",
      "----------------\n",
      "Suprêmes délices\n",
      "Ttest_1sampResult(statistic=1.4389250339745703, pvalue=0.17801281830784213)\n",
      "----------------\n",
      "Chop-suey Chinese\n",
      "Ttest_1sampResult(statistic=-0.59872605391739286, pvalue=0.56821645578575919)\n",
      "----------------\n",
      "Richter Supermarkt\n",
      "Ttest_1sampResult(statistic=0.63389307375767701, pvalue=0.54192376746201143)\n",
      "----------------\n",
      "Wellington Importadora\n",
      "Ttest_1sampResult(statistic=-3.5802010788721002, pvalue=0.00718616877267708)\n",
      "----------------\n",
      "HILARION-Abastos\n",
      "Ttest_1sampResult(statistic=-1.9118319760729121, pvalue=0.072903492868963318)\n",
      "----------------\n",
      "Ernst Handel\n",
      "Ttest_1sampResult(statistic=4.4919873189936155, pvalue=0.00010380804155507043)\n",
      "***Region's reorder level is lower than other regions***\n",
      "***Statistically significant***\n",
      "----------------\n",
      "Centro comercial Moctezuma\n",
      "Ttest_1sampResult(statistic=nan, pvalue=nan)\n",
      "----------------\n",
      "Ottilies Käseladen\n",
      "Ttest_1sampResult(statistic=-1.2288864363433567, pvalue=0.25027599536052014)\n",
      "----------------\n",
      "Que Delícia\n",
      "Ttest_1sampResult(statistic=-5.5438513567732022, pvalue=0.00054489059679213526)\n",
      "----------------\n",
      "Rattlesnake Canyon Grocery\n",
      "Ttest_1sampResult(statistic=1.7921228271024729, pvalue=0.090928768766957657)\n",
      "----------------\n",
      "Folk och fä HB\n",
      "Ttest_1sampResult(statistic=-0.25313477389266675, pvalue=0.80303251400024811)\n",
      "----------------\n",
      "Blondesddsl père et fils\n",
      "Ttest_1sampResult(statistic=0.34102900963467225, pvalue=0.74013848086936163)\n",
      "----------------\n",
      "Wartian Herkku\n",
      "Ttest_1sampResult(statistic=-2.0881857469122993, pvalue=0.055532775312806877)\n",
      "----------------"
     ]
    },
    {
     "name": "stderr",
     "output_type": "stream",
     "text": [
      "/Users/joe/anaconda3/lib/python3.6/site-packages/numpy/core/fromnumeric.py:3146: RuntimeWarning: Degrees of freedom <= 0 for slice\n",
      "  **kwargs)\n",
      "/Users/joe/anaconda3/lib/python3.6/site-packages/numpy/core/_methods.py:127: RuntimeWarning: invalid value encountered in double_scalars\n",
      "  ret = ret.dtype.type(ret / rcount)\n"
     ]
    },
    {
     "name": "stdout",
     "output_type": "stream",
     "text": [
      "\n",
      "Frankenversand\n",
      "Ttest_1sampResult(statistic=1.2042911808425656, pvalue=0.24844290565472552)\n",
      "----------------\n",
      "GROSELLA-Restaurante\n",
      "Ttest_1sampResult(statistic=-4.6848830626631939, pvalue=0.13387894996225569)\n",
      "----------------\n",
      "White Clover Markets\n",
      "Ttest_1sampResult(statistic=0.69210591429385016, pvalue=0.50104642508837438)\n",
      "----------------\n",
      "Split Rail Beer & Ale\n",
      "Ttest_1sampResult(statistic=-0.41426664457047319, pvalue=0.68956347264682316)\n",
      "----------------\n",
      "QUICK-Stop\n",
      "Ttest_1sampResult(statistic=3.37310077345201, pvalue=0.0022600833012981552)\n",
      "***Region's reorder level is lower than other regions***\n",
      "***Statistically significant***\n",
      "----------------\n",
      "Magazzini Alimentari Riuniti\n",
      "Ttest_1sampResult(statistic=-5.112598847368214, pvalue=0.00063427578772240316)\n",
      "----------------\n",
      "Tortuga Restaurante\n",
      "Ttest_1sampResult(statistic=-1.4050292866295613, pvalue=0.19357591884545497)\n",
      "----------------\n",
      "Morgenstern Gesundkost\n",
      "Ttest_1sampResult(statistic=-1.3018113278386274, pvalue=0.26288928322530936)\n",
      "----------------\n",
      "Berglunds snabbköp\n",
      "Ttest_1sampResult(statistic=-0.86800066931463737, pvalue=0.39748201551826956)\n",
      "----------------\n",
      "Lehmanns Marktstand\n",
      "Ttest_1sampResult(statistic=-1.4289771628383128, pvalue=0.17494259642913082)\n",
      "----------------\n",
      "Romero y tomillo\n",
      "Ttest_1sampResult(statistic=-14.936411885158497, pvalue=0.00011703036177942185)\n",
      "----------------\n",
      "LILA-Supermercado\n",
      "Ttest_1sampResult(statistic=-1.9421000103189625, pvalue=0.074109763256635264)\n",
      "----------------\n",
      "Ricardo Adocicados\n",
      "Ttest_1sampResult(statistic=-2.0672689666386228, pvalue=0.065583376759700274)\n",
      "----------------\n",
      "Reggiani Caseifici\n",
      "Ttest_1sampResult(statistic=-6.8748508791498359, pvalue=2.6748366469323595e-05)\n",
      "----------------\n",
      "B's Beverages\n",
      "Ttest_1sampResult(statistic=-11.374443010127738, pvalue=1.213280611613028e-06)\n",
      "----------------\n",
      "Comércio Mineiro\n",
      "Ttest_1sampResult(statistic=-1.6240289062722859, pvalue=0.17969292819013377)\n",
      "----------------\n",
      "Tradição Hipermercados\n",
      "Ttest_1sampResult(statistic=-1.7638379683519039, pvalue=0.13803907081290051)\n",
      "----------------\n",
      "Hungry Owl All-Night Grocers\n",
      "Ttest_1sampResult(statistic=2.0061083611891632, pvalue=0.060110876175624453)\n",
      "***Region's reorder level is lower than other regions***\n",
      "----------------\n",
      "Die Wandernde Kuh\n",
      "Ttest_1sampResult(statistic=-3.0784143910349071, pvalue=0.013173664858745411)\n",
      "----------------\n",
      "Godos Cocina Típica\n",
      "Ttest_1sampResult(statistic=-1.7356503583223706, pvalue=0.11664561142380382)\n",
      "----------------\n",
      "Old World Delicatessen\n",
      "Ttest_1sampResult(statistic=-0.77132152760105077, pvalue=0.46028680320775606)\n",
      "----------------\n",
      "Lonesome Pine Restaurant\n",
      "Ttest_1sampResult(statistic=-5.2835915323403979, pvalue=0.0011435761404428929)\n",
      "----------------\n",
      "Ana Trujillo Emparedados y helados\n",
      "Ttest_1sampResult(statistic=-8.4841308356558702, pvalue=0.0034382990799534463)\n",
      "----------------\n",
      "The Big Cheese\n",
      "Ttest_1sampResult(statistic=-2.4351168824563816, pvalue=0.092904303557515028)\n",
      "----------------\n",
      "Island Trading\n",
      "Ttest_1sampResult(statistic=-4.4062033905559996, pvalue=0.0017049570688302093)\n",
      "----------------\n",
      "Pericles Comidas clásicas\n",
      "Ttest_1sampResult(statistic=-4.001916912942157, pvalue=0.010303793502983093)\n",
      "----------------\n",
      "Königlich Essen\n",
      "Ttest_1sampResult(statistic=0.93086168943282499, pvalue=0.3688899583863896)\n",
      "----------------\n",
      "Save-a-lot Markets\n",
      "Ttest_1sampResult(statistic=4.3964827407775635, pvalue=0.00012717504942177672)\n",
      "***Region's reorder level is lower than other regions***\n",
      "***Statistically significant***\n",
      "----------------\n",
      "Bólido Comidas preparadas\n",
      "Ttest_1sampResult(statistic=-1.0437129061896793, pvalue=0.40618872860209954)\n",
      "----------------\n",
      "Furia Bacalhau e Frutos do Mar\n",
      "Ttest_1sampResult(statistic=-2.6165387547198811, pvalue=0.034582829359703117)\n",
      "----------------\n",
      "Bon app\n",
      "Ttest_1sampResult(statistic=-1.5414054681978826, pvalue=0.14276207986545403)\n",
      "----------------\n",
      "Mère Paillarde\n",
      "Ttest_1sampResult(statistic=0.77285511777059523, pvalue=0.45456230513261564)\n",
      "----------------\n",
      "Princesa Isabel Vinhos\n",
      "Ttest_1sampResult(statistic=-1.7299285772045387, pvalue=0.158695818428496)\n",
      "----------------\n",
      "Simons bistro\n",
      "Ttest_1sampResult(statistic=0.6068586102540886, pvalue=0.56618453119905188)\n",
      "----------------\n",
      "Familia Arquibaldo\n",
      "Ttest_1sampResult(statistic=-4.1981470129928899, pvalue=0.0056975059999911449)\n",
      "----------------\n",
      "La maison d'Asie\n",
      "Ttest_1sampResult(statistic=-6.2204649105107181, pvalue=3.115217332670719e-05)\n",
      "----------------\n",
      "Piccolo und mehr\n",
      "Ttest_1sampResult(statistic=0.53784142648711608, pvalue=0.60372976426038116)\n",
      "----------------\n",
      "Around the Horn\n",
      "Ttest_1sampResult(statistic=-1.9414105131383175, pvalue=0.076057095100882183)\n",
      "----------------\n",
      "Seven Seas Imports\n",
      "Ttest_1sampResult(statistic=0.58588165060299591, pvalue=0.57410775185891738)\n",
      "----------------\n",
      "Drachenblut Delikatessen\n",
      "Ttest_1sampResult(statistic=-6.7223787106587007, pvalue=0.0011037369910902716)\n",
      "----------------\n",
      "Eastern Connection\n",
      "Ttest_1sampResult(statistic=0.37264281403346605, pvalue=0.72044107812951641)\n",
      "----------------\n",
      "Galería del gastrónomo\n",
      "Ttest_1sampResult(statistic=-43.663060456228294, pvalue=1.6450435796591404e-06)\n",
      "----------------\n",
      "Vaffeljernet\n",
      "Ttest_1sampResult(statistic=-0.12975271670326297, pvalue=0.89933490746244216)\n",
      "----------------\n",
      "Wolski  Zajazd\n",
      "Ttest_1sampResult(statistic=-9.7763656259312874, pvalue=6.5883411874004147e-05)\n",
      "----------------\n",
      "Hungry Coyote Import Store\n",
      "Ttest_1sampResult(statistic=-16.265793271328345, pvalue=8.3596020141250678e-05)\n",
      "----------------\n",
      "Santé Gourmet\n",
      "Ttest_1sampResult(statistic=-1.0183247985601844, pvalue=0.35523990583932213)\n",
      "----------------\n",
      "Bottom-Dollar Markets\n",
      "Ttest_1sampResult(statistic=-0.41245417698985348, pvalue=0.6867274658833451)\n",
      "----------------\n",
      "LINO-Delicateses\n",
      "Ttest_1sampResult(statistic=-0.2326102118396968, pvalue=0.8203354052420524)\n",
      "----------------\n",
      "Folies gourmandes\n",
      "Ttest_1sampResult(statistic=1.0094060146751991, pvalue=0.36988169637304552)\n",
      "----------------\n",
      "Franchi S.p.A.\n",
      "Ttest_1sampResult(statistic=-13.526141909900076, pvalue=3.9566862234963495e-05)\n",
      "----------------\n",
      "Gourmet Lanchonetes\n",
      "Ttest_1sampResult(statistic=-2.1934616209356923, pvalue=0.059598449525530547)\n",
      "----------------\n",
      "Consolidated Holdings\n",
      "Ttest_1sampResult(statistic=-6.6535790265330244, pvalue=0.021850954699403465)\n",
      "----------------\n",
      "Rancho grande\n",
      "Ttest_1sampResult(statistic=-8.8408602677786927, pvalue=0.00090366902774833592)\n",
      "----------------\n",
      "Lazy K Kountry Store\n",
      "Ttest_1sampResult(statistic=-147.73971561341972, pvalue=0.0043089973998939922)\n",
      "----------------\n",
      "Laughing Bacchus Wine Cellars\n",
      "Ttest_1sampResult(statistic=-20.658343032890745, pvalue=0.0023349943961708092)\n",
      "----------------\n",
      "Blauer See Delikatessen\n",
      "Ttest_1sampResult(statistic=-10.487241966566135, pvalue=4.4130588132745026e-05)\n",
      "----------------\n",
      "North/South\n",
      "Ttest_1sampResult(statistic=-14.703598038025621, pvalue=0.0045935902721504938)\n",
      "----------------\n",
      "Cactus Comidas para llevar\n",
      "Ttest_1sampResult(statistic=-21.50937304097717, pvalue=4.0286524993357154e-06)\n",
      "----------------\n",
      "Great Lakes Food Market\n",
      "Ttest_1sampResult(statistic=-0.29863495632259185, pvalue=0.77133205314692965)\n",
      "----------------\n",
      "Maison Dewey\n",
      "Ttest_1sampResult(statistic=-1.3655594564267417, pvalue=0.22105361922584685)\n",
      "----------------\n",
      "Trail's Head Gourmet Provisioners\n",
      "Ttest_1sampResult(statistic=-4.1392915279420155, pvalue=0.053705873372469869)\n",
      "----------------\n",
      "Let's Stop N Shop\n",
      "Ttest_1sampResult(statistic=-3.458171685980628, pvalue=0.040694169831071179)\n",
      "----------------\n",
      "Wilman Kala\n",
      "Ttest_1sampResult(statistic=-15.245693207157409, pvalue=5.0275477315751898e-06)\n",
      "----------------\n",
      "The Cracker Box\n",
      "Ttest_1sampResult(statistic=-2.543790858620294, pvalue=0.12598810279151379)\n",
      "----------------\n",
      "Alfreds Futterkiste\n",
      "Ttest_1sampResult(statistic=-12.035462519887977, pvalue=6.988620134852054e-05)\n",
      "----------------\n",
      "France restauration\n",
      "Ttest_1sampResult(statistic=-5.9739445277064069, pvalue=0.026895314320212246)\n",
      "----------------\n",
      "Spécialités du monde\n",
      "Ttest_1sampResult(statistic=-2.1209992565652973, pvalue=0.12406483475267162)\n",
      "----------------\n",
      "La corne d'abondance\n",
      "Ttest_1sampResult(statistic=-7.6436091383950755, pvalue=0.0046498840253129678)\n",
      "----------------\n"
     ]
    },
    {
     "data": {
      "image/png": "[encoded data removed]",
      "text/plain": [
       "<Figure size 864x360 with 1 Axes>"
      ]
     },
     "metadata": {},
     "output_type": "display_data"
    },
    {
     "data": {
      "image/png": "[encoded data removed]",
      "text/plain": [
       "<Figure size 864x360 with 1 Axes>"
      ]
     },
     "metadata": {},
     "output_type": "display_data"
    },
    {
     "data": {
      "image/png": "[encoded data removed]",
      "text/plain": [
       "<Figure size 864x360 with 1 Axes>"
      ]
     },
     "metadata": {},
     "output_type": "display_data"
    },
    {
     "data": {
      "image/png": "[encoded data removed]",
      "text/plain": [
       "<Figure size 864x360 with 1 Axes>"
      ]
     },
     "metadata": {},
     "output_type": "display_data"
    }
   ],
   "source": [
    "customer_num = 1\n",
    "for customer in company_orders:\n",
    "    print(customer['CompanyName'].iloc[0])\n",
    "    output = stats.ttest_1samp(customer['Revenue'], super_mean)\n",
    "    print(output)\n",
    "    critical = stats.t.ppf(1-alpha, (len(region)-1))\n",
    "    if output[0] > (critical):\n",
    "        print('***Region\\'s reorder level is lower than other regions***')\n",
    "        if output[1] < alpha:\n",
    "            print('***Statistically significant***')\n",
    "        # generate points on the x axis between -5 and 5:\n",
    "        xs = np.linspace(-5, 5, 200)\n",
    "        # use stats.t.pdf to get values on the probability density function for the t-distribution\n",
    "        # the second argument is the degrees of freedom\n",
    "        ys = stats.t.pdf(xs, (len(customer)-1), 0, 1)\n",
    "        # initialize a matplotlib \"figure\"\n",
    "        fig = plt.figure(figsize=(12, 5))\n",
    "        # get the current \"axis\" out of the figure\n",
    "        ax = fig.gca()\n",
    "        # plot the lines using matplotlib's plot function:\n",
    "        plt.plot(xs, ys, color='navy')\n",
    "        # plot a vertical line for our measured difference in rates t-statistic\n",
    "        plt.axvline(critical, color='red', linestyle='--', label='Critical Value')\n",
    "        plt.axvline(output[0], color='green', label='T Value')\n",
    "        plt.legend()\n",
    "        plt.title(customer['CompanyName'].iloc[0])\n",
    "        plt.savefig(\"images/revenue_{}.png\".format(customer_num))\n",
    "        customer_num += 1\n",
    "    print('----------------')"
   ]
  },
  {
   "cell_type": "markdown",
   "metadata": {},
   "source": [
    "<a id=\"4.5\"></a>\n",
    "### 4.5 Analyze"
   ]
  },
  {
   "cell_type": "markdown",
   "metadata": {},
   "source": [
    "After runing the test on each of the 80+ customers we have, we find that four customers generate significantly high enough revenues to reject the null hypothesis, Ernst Handel (\\$398,626.32), QUICK-Stop (\\$393,821.00), Hungry Owl All-Night Grocers (\\$136,219.55), and Save-a-lot Markets (\\$431,146.19) compared to the average revenue generated of \\$45,537.33. "
   ]
  },
  {
   "cell_type": "markdown",
   "metadata": {},
   "source": [
    "<a id=\"5\"></a>\n",
    "## 5. Conclusion\n",
    "1. Discount Effect\n",
    "We discovered that giving a discount did increase the quantity of items sold but that there was no differentiation between the levels of discounts. Our recommendation is to give discounts at the same rate but decrease the level of discount to increase profit.\n",
    "\n",
    "2. Seasonality\n",
    "Most of the variation in the dataset is within the seasons and not between them. Moving forward, the company's sales and cash flow projections won't have to try to adjust for seasonality. \n",
    "\n",
    "3. Supply Region's Effect on Reorder Level\n",
    "Eastern Asia has a significantly lower reorder level than other regions. No other regions had a statistically significant difference.\n",
    "\n",
    "4. Customer's Generating the Most Revenue\n",
    "After running the test on each of the 80+ customers we have, we find that four customers generate significantly high enough revenues to reject the null hypothesis, Ernst Handel (\\$398,626.32), QUICK-Stop (\\$393,821.00), Hungry Owl All-Night Grocers (\\$136,219.55), and Save-a-lot Markets (\\$431,146.19) compared to the average revenue generated of \\$45,537.33."
   ]
  },
  {
   "cell_type": "markdown",
   "metadata": {},
   "source": [
    "<a id=\"6\"></a>\n",
    "## 6. Future Work\n",
    "\n",
    "In future work, we'll want to look into what makes Eastern Asia so different in terms of reorder level. Are they able to deliver items faster? Do their products sell infrequently enough not to affect the bottom line? Or is there an opportunity to generate more revenues if we reorder their product earlier?\n",
    "\n",
    "We'll also want to identify which customers generated the least revenue and see if we can tie any features to these two groups of customers. This will help inform us of which marketing channels are yielding the highest revenues."
   ]
  },
  {
   "cell_type": "markdown",
   "metadata": {},
   "source": [
    "<a id=\"7\"></a>\n",
    "## 7. Recap\n",
    "\n",
    "### [0. Introduction](#0)\n",
    "### [1. Discount Effect](#1)\n",
    "1. [Get Data](#1.1)\n",
    "2. [Explore and Clean](#1.2)\n",
    "3. [Experimental Design](#1.3)\n",
    "  - [Get Samples](#1.3.1)\n",
    "  - [T Test](#1.3.2)\n",
    "  - [Analyze Results](#1.3.3)\n",
    "  - [ANOVA](#1.3.4)\n",
    "4. [Conclusion](#1.4)\n",
    "  \n",
    "### [2. Seasonality](#2)\n",
    "1. [Hypothesis](#2.1)\n",
    "2. [Obtain](#2.2)\n",
    "3. [Data Exploration](#2.3)\n",
    "4. [Scrubbing](#2.4)\n",
    "5. [Experiment](#2.5)\n",
    "6. [Analyze](#2.6)\n",
    "\n",
    "### [3. Supply Region and Reorder Rates](#3)\n",
    "1. [Hypothesis](#3.1)\n",
    "2. [Obtain](#3.2)\n",
    "3. [Explore and Scrub](#3.3)\n",
    "4. [Experiment](#3.4)\n",
    "5. [Analyze](#3.5)\n",
    "\n",
    "### [4. High Yield Customers](#4)\n",
    "1. [Hypothesis](#4.1)\n",
    "2. [Obtain](#4.2)\n",
    "3. [Explore and Scrub](#4.3)\n",
    "4. [Experiment](#4.4)\n",
    "5. [Analyze](#4.5)"
   ]
  },
  {
   "cell_type": "code",
   "execution_count": null,
   "metadata": {
    "collapsed": true
   },
   "outputs": [],
   "source": []
  }
 ],
 "metadata": {
  "hide_input": false,
  "kernelspec": {
   "display_name": "Python 3",
   "language": "python",
   "name": "python3"
  },
  "language_info": {
   "codemirror_mode": {
    "name": "ipython",
    "version": 3
   },
   "file_extension": ".py",
   "mimetype": "text/x-python",
   "name": "python",
   "nbconvert_exporter": "python",
   "pygments_lexer": "ipython3",
   "version": "3.6.3"
  },
  "toc": {
   "base_numbering": 1,
   "nav_menu": {},
   "number_sections": false,
   "sideBar": true,
   "skip_h1_title": true,
   "title_cell": "Table of Contents",
   "title_sidebar": "Contents",
   "toc_cell": false,
   "toc_position": {
    "height": "calc(100% - 180px)",
    "left": "10px",
    "top": "150px",
    "width": "288px"
   },
   "toc_section_display": true,
   "toc_window_display": true
  },
  "varInspector": {
   "cols": {
    "lenName": 16,
    "lenType": 16,
    "lenVar": 40
   },
   "kernels_config": {
    "python": {
     "delete_cmd_postfix": "",
     "delete_cmd_prefix": "del ",
     "library": "var_list.py",
     "varRefreshCmd": "print(var_dic_list())"
    },
    "r": {
     "delete_cmd_postfix": ") ",
     "delete_cmd_prefix": "rm(",
     "library": "var_list.r",
     "varRefreshCmd": "cat(var_dic_list()) "
    }
   },
   "oldHeight": 122,
   "position": {
    "height": "40px",
    "left": "1170px",
    "right": "20px",
    "top": "120px",
    "width": "250px"
   },
   "types_to_exclude": [
    "module",
    "function",
    "builtin_function_or_method",
    "instance",
    "_Feature"
   ],
   "varInspector_section_display": "none",
   "window_display": true
  }
 },
 "nbformat": 4,
 "nbformat_minor": 2
}
