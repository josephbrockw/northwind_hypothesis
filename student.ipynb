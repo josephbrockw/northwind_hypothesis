{
 "cells": [
  {
   "cell_type": "markdown",
   "metadata": {},
   "source": [
    "1. Set hypotheses\n",
    "2. Identify necessary information\n",
    "3. Calculate t value\n",
    "4. Compare t value to critical t\n",
    "\n",
    "$\\mu$ = population mean\n",
    "\n",
    "$\\bar{x}$ = sample mean\n",
    "\n",
    "$\\sigma$ = sample standard deviation\n",
    "\n",
    "n = sample size\n",
    "\n",
    "df = degrees of freedom\n",
    "\n",
    "diff = $\\bar{x} - \\mu$\n",
    "\n",
    "n = $\\frac{(z_\\alpha + z_\\beta)^2\\sigma^2}{(\\mu_1 - \\mu_0)^2}$\n",
    "\n",
    "$z_\\alpha$ = scipy.stats.norm.ppf($\\alpha$)\n",
    "\n",
    "t-statistic = $\\frac{\\bar{x} - \\mu}{\\frac{\\sigma}{\\sqrt{n}}}$\n",
    "\n",
    "\n"
   ]
  },
  {
   "cell_type": "markdown",
   "metadata": {},
   "source": [
    "## Questions:\n",
    "1. **Do discounts have a statistically significant effect on the number of products customers order? If so, at what level(s) of discount?**\n",
    "\n",
    "2. **Does the employee living close to the customer effect the number of products ordered per month? At what distance?**\n",
    "  * *Helpful Links*:\n",
    "    * [geoheat map](https://alcidanalytics.com/p/geographic-heatmap-in-python)\n",
    "    * [get coordinates](https://pypi.org/project/geopy/)\n",
    "    * [calculate distance between points](https://www.quantbarbie.com/blog/2018/7/11/calculate-the-distance-between-two-places-in-python)\n",
    "  * *Data Needed*:\n",
    "    * Employee ID\n",
    "    * Employee Longitude\n",
    "    * Employee Latitude\n",
    "    * Customer ID\n",
    "    * Customer Longitude\n",
    "    * Customer Latitude\n",
    "    * Month\n",
    "    * Year\n",
    "    * Total Number of Products Ordered\n",
    "  * *Tables*:\n",
    "    * Employee\n",
    "    * Order\n",
    "    * OrderDetail\n",
    "    * Customer\n",
    "3. **Which Suppliers are fastest?**\n",
    "  * *Helpful Links*:\n",
    "    * ANOVA\n",
    "\n",
    "  * *Data Needed*:\n",
    "    * Order Date\n",
    "    * Shipped Date\n",
    "    * Time to Process ^\n",
    "    * Shipper ID\n",
    "    * Company Name (shipper)\n",
    "    \n",
    "    \n",
    "  * *Tables*:\n",
    "    * Order\n",
    "    * Shipper  \n",
    "4. **Is the business seasonal?**\n",
    "  * *Helpful Links*:\n",
    "\n",
    "  * *Data Needed*:\n",
    "    * Month\n",
    "    * Year\n",
    "    * Total Revenue\n",
    "    * \n",
    "    \n",
    "  * *Tables*:\n",
    "\n",
    "## Expirmental Design\n",
    "### 1. Do discounts have a statistically significant effect on the number of products customers order? If so, at what level(s) of discount?\n"
   ]
  },
  {
   "cell_type": "code",
   "execution_count": 1,
   "metadata": {
    "ExecuteTime": {
     "end_time": "2019-05-31T16:09:05.423752Z",
     "start_time": "2019-05-31T16:09:05.419947Z"
    },
    "collapsed": true
   },
   "outputs": [],
   "source": [
    "# import datetime\n",
    "# before = datetime.datetime.strptime('1998-01-27','%Y-%m-%d')\n",
    "# now = datetime.datetime.today()\n",
    "# type(now-before)\n",
    "# # <type 'datetime.timedelta'>\n",
    "# (now-before).days\n",
    "# # 7\n",
    "# float((now-before).days)/365\n",
    "# 0.019178082191780823"
   ]
  },
  {
   "cell_type": "code",
   "execution_count": 2,
   "metadata": {
    "ExecuteTime": {
     "end_time": "2019-05-31T16:09:06.268360Z",
     "start_time": "2019-05-31T16:09:05.434067Z"
    },
    "collapsed": true
   },
   "outputs": [],
   "source": [
    "# Imports\n",
    "import sqlalchemy\n",
    "from sqlalchemy import create_engine\n",
    "from sqlalchemy.orm import Session, sessionmaker\n",
    "from sqlalchemy import inspect\n",
    "import pandas as pd\n",
    "import numpy as np\n",
    "import scipy.stats as stats\n",
    "import random\n",
    "import matplotlib.pyplot as plt\n",
    "%matplotlib inline\n",
    "\n",
    "# Connect to database\n",
    "engine = create_engine(\"sqlite:///Northwind_small.sqlite\", echo=True)\n",
    "Session = sessionmaker(bind=engine)\n",
    "session = Session()"
   ]
  },
  {
   "cell_type": "code",
   "execution_count": 3,
   "metadata": {
    "ExecuteTime": {
     "end_time": "2019-05-31T16:09:06.290292Z",
     "start_time": "2019-05-31T16:09:06.270692Z"
    }
   },
   "outputs": [
    {
     "name": "stdout",
     "output_type": "stream",
     "text": [
      "2019-05-31 11:09:06,273 INFO sqlalchemy.engine.base.Engine SELECT CAST('test plain returns' AS VARCHAR(60)) AS anon_1\n",
      "2019-05-31 11:09:06,275 INFO sqlalchemy.engine.base.Engine ()\n",
      "2019-05-31 11:09:06,277 INFO sqlalchemy.engine.base.Engine SELECT CAST('test unicode returns' AS VARCHAR(60)) AS anon_1\n",
      "2019-05-31 11:09:06,279 INFO sqlalchemy.engine.base.Engine ()\n",
      "2019-05-31 11:09:06,282 INFO sqlalchemy.engine.base.Engine SELECT name FROM sqlite_master WHERE type='table' ORDER BY name\n",
      "2019-05-31 11:09:06,284 INFO sqlalchemy.engine.base.Engine ()\n",
      "['Category', 'Customer', 'CustomerCustomerDemo', 'CustomerDemographic', 'Employee', 'EmployeeTerritory', 'Order', 'OrderDetail', 'Product', 'Region', 'Shipper', 'Supplier', 'Territory']\n"
     ]
    }
   ],
   "source": [
    "# Use inspect to check database metadata against the ERD we have of the database\n",
    "inspector = inspect(engine)\n",
    "table_names = inspector.get_table_names()\n",
    "print(table_names)"
   ]
  },
  {
   "cell_type": "code",
   "execution_count": 4,
   "metadata": {
    "ExecuteTime": {
     "end_time": "2019-05-31T16:09:06.325385Z",
     "start_time": "2019-05-31T16:09:06.293769Z"
    }
   },
   "outputs": [
    {
     "name": "stdout",
     "output_type": "stream",
     "text": [
      "2019-05-31 11:09:06,311 INFO sqlalchemy.engine.base.Engine PRAGMA table_info(\"Employee\")\n",
      "2019-05-31 11:09:06,313 INFO sqlalchemy.engine.base.Engine ()\n",
      "Table Name: Employee\n",
      "\n",
      "Name: Id, \t INTEGER\n",
      "Name: LastName, \t VARCHAR(8000)\n",
      "Name: FirstName, \t VARCHAR(8000)\n",
      "Name: Title, \t VARCHAR(8000)\n",
      "Name: TitleOfCourtesy, \t VARCHAR(8000)\n",
      "Name: BirthDate, \t VARCHAR(8000)\n",
      "Name: HireDate, \t VARCHAR(8000)\n",
      "Name: Address, \t VARCHAR(8000)\n",
      "Name: City, \t VARCHAR(8000)\n",
      "Name: Region, \t VARCHAR(8000)\n",
      "Name: PostalCode, \t VARCHAR(8000)\n",
      "Name: Country, \t VARCHAR(8000)\n",
      "Name: HomePhone, \t VARCHAR(8000)\n",
      "Name: Extension, \t VARCHAR(8000)\n",
      "Name: Photo, \t BLOB\n",
      "Name: Notes, \t VARCHAR(8000)\n",
      "Name: ReportsTo, \t INTEGER\n",
      "Name: PhotoPath, \t VARCHAR(8000)\n"
     ]
    }
   ],
   "source": [
    "# I created a couple of functions to make it easier to inspect and retreive necessary data\n",
    "\n",
    "def get_columns_info(table_name):\n",
    "    \"\"\" Print the name and type of each column in the given table.\n",
    "    \n",
    "    Args:\n",
    "        table_name: Name of the table (string)\n",
    "    \"\"\"\n",
    "    cols_list = inspector.get_columns(table_name)\n",
    "    \n",
    "    print(\"Table Name: {}\".format(table_name))\n",
    "    print(\"\")\n",
    "    for column in cols_list:\n",
    "        print(\"Name: {}, \\t {}\".format(column['name'], column['type']))\n",
    "\n",
    "\n",
    "def get_column_names(table_name):\n",
    "    \"\"\" Get the name of each column in the given table.\n",
    "    \n",
    "    Args:\n",
    "        table_name: Name of the table (string)\n",
    "    \n",
    "    Returns:\n",
    "        A list of column names\n",
    "    \"\"\"\n",
    "    cols_list = inspector.get_columns(table_name)\n",
    "    col_names = []\n",
    "    for column in cols_list:\n",
    "        col_names.append(column['name'])\n",
    "    return col_names\n",
    "\n",
    "get_columns_info('Employee')"
   ]
  },
  {
   "cell_type": "code",
   "execution_count": 5,
   "metadata": {
    "ExecuteTime": {
     "end_time": "2019-05-31T16:09:06.331786Z",
     "start_time": "2019-05-31T16:09:06.328552Z"
    },
    "collapsed": true
   },
   "outputs": [],
   "source": [
    "con = engine.connect()"
   ]
  },
  {
   "cell_type": "markdown",
   "metadata": {},
   "source": [
    "## Discount Rates\n",
    "### Do discounts have a statistically significant effect on the number of products customers order? If so, at what level(s) of discount?\n",
    "\n",
    "Tables needed:\n",
    "- Orders\n",
    "- Order Details\n",
    "- Products\n",
    "- Customer"
   ]
  },
  {
   "cell_type": "markdown",
   "metadata": {},
   "source": [
    "#### Gather and Filter Data\n",
    "Our first step is to query our database for the tables we might need and save the data into a pandas.DataFrames to work with. At this point we will see which of the tables will be necessary for us to gather the data we need to answer our business questions."
   ]
  },
  {
   "cell_type": "code",
   "execution_count": 6,
   "metadata": {
    "ExecuteTime": {
     "end_time": "2019-05-31T16:09:06.411474Z",
     "start_time": "2019-05-31T16:09:06.333820Z"
    }
   },
   "outputs": [
    {
     "name": "stdout",
     "output_type": "stream",
     "text": [
      "2019-05-31 11:09:06,348 INFO sqlalchemy.engine.base.Engine SELECT * FROM 'Product'\n",
      "2019-05-31 11:09:06,352 INFO sqlalchemy.engine.base.Engine ()\n",
      "2019-05-31 11:09:06,357 INFO sqlalchemy.engine.base.Engine PRAGMA table_info(\"Product\")\n",
      "2019-05-31 11:09:06,358 INFO sqlalchemy.engine.base.Engine ()\n",
      "2019-05-31 11:09:06,361 INFO sqlalchemy.engine.base.Engine SELECT * FROM 'OrderDetail'\n",
      "2019-05-31 11:09:06,365 INFO sqlalchemy.engine.base.Engine ()\n",
      "2019-05-31 11:09:06,374 INFO sqlalchemy.engine.base.Engine PRAGMA table_info(\"OrderDetail\")\n",
      "2019-05-31 11:09:06,375 INFO sqlalchemy.engine.base.Engine ()\n",
      "2019-05-31 11:09:06,377 INFO sqlalchemy.engine.base.Engine SELECT * FROM 'Order'\n",
      "2019-05-31 11:09:06,378 INFO sqlalchemy.engine.base.Engine ()\n",
      "2019-05-31 11:09:06,389 INFO sqlalchemy.engine.base.Engine PRAGMA table_info(\"Order\")\n",
      "2019-05-31 11:09:06,390 INFO sqlalchemy.engine.base.Engine ()\n"
     ]
    },
    {
     "data": {
      "text/html": [
       "<div>\n",
       "<style>\n",
       "    .dataframe thead tr:only-child th {\n",
       "        text-align: right;\n",
       "    }\n",
       "\n",
       "    .dataframe thead th {\n",
       "        text-align: left;\n",
       "    }\n",
       "\n",
       "    .dataframe tbody tr th {\n",
       "        vertical-align: top;\n",
       "    }\n",
       "</style>\n",
       "<table border=\"1\" class=\"dataframe\">\n",
       "  <thead>\n",
       "    <tr style=\"text-align: right;\">\n",
       "      <th></th>\n",
       "      <th>Id</th>\n",
       "      <th>ProductName</th>\n",
       "      <th>SupplierId</th>\n",
       "      <th>CategoryId</th>\n",
       "      <th>QuantityPerUnit</th>\n",
       "      <th>UnitPrice</th>\n",
       "      <th>UnitsInStock</th>\n",
       "      <th>UnitsOnOrder</th>\n",
       "      <th>ReorderLevel</th>\n",
       "      <th>Discontinued</th>\n",
       "    </tr>\n",
       "  </thead>\n",
       "  <tbody>\n",
       "    <tr>\n",
       "      <th>0</th>\n",
       "      <td>1</td>\n",
       "      <td>Chai</td>\n",
       "      <td>1</td>\n",
       "      <td>1</td>\n",
       "      <td>10 boxes x 20 bags</td>\n",
       "      <td>18.00</td>\n",
       "      <td>39</td>\n",
       "      <td>0</td>\n",
       "      <td>10</td>\n",
       "      <td>0</td>\n",
       "    </tr>\n",
       "    <tr>\n",
       "      <th>1</th>\n",
       "      <td>2</td>\n",
       "      <td>Chang</td>\n",
       "      <td>1</td>\n",
       "      <td>1</td>\n",
       "      <td>24 - 12 oz bottles</td>\n",
       "      <td>19.00</td>\n",
       "      <td>17</td>\n",
       "      <td>40</td>\n",
       "      <td>25</td>\n",
       "      <td>0</td>\n",
       "    </tr>\n",
       "    <tr>\n",
       "      <th>2</th>\n",
       "      <td>3</td>\n",
       "      <td>Aniseed Syrup</td>\n",
       "      <td>1</td>\n",
       "      <td>2</td>\n",
       "      <td>12 - 550 ml bottles</td>\n",
       "      <td>10.00</td>\n",
       "      <td>13</td>\n",
       "      <td>70</td>\n",
       "      <td>25</td>\n",
       "      <td>0</td>\n",
       "    </tr>\n",
       "    <tr>\n",
       "      <th>3</th>\n",
       "      <td>4</td>\n",
       "      <td>Chef Anton's Cajun Seasoning</td>\n",
       "      <td>2</td>\n",
       "      <td>2</td>\n",
       "      <td>48 - 6 oz jars</td>\n",
       "      <td>22.00</td>\n",
       "      <td>53</td>\n",
       "      <td>0</td>\n",
       "      <td>0</td>\n",
       "      <td>0</td>\n",
       "    </tr>\n",
       "    <tr>\n",
       "      <th>4</th>\n",
       "      <td>5</td>\n",
       "      <td>Chef Anton's Gumbo Mix</td>\n",
       "      <td>2</td>\n",
       "      <td>2</td>\n",
       "      <td>36 boxes</td>\n",
       "      <td>21.35</td>\n",
       "      <td>0</td>\n",
       "      <td>0</td>\n",
       "      <td>0</td>\n",
       "      <td>1</td>\n",
       "    </tr>\n",
       "  </tbody>\n",
       "</table>\n",
       "</div>"
      ],
      "text/plain": [
       "   Id                   ProductName  SupplierId  CategoryId  \\\n",
       "0   1                          Chai           1           1   \n",
       "1   2                         Chang           1           1   \n",
       "2   3                 Aniseed Syrup           1           2   \n",
       "3   4  Chef Anton's Cajun Seasoning           2           2   \n",
       "4   5        Chef Anton's Gumbo Mix           2           2   \n",
       "\n",
       "       QuantityPerUnit  UnitPrice  UnitsInStock  UnitsOnOrder  ReorderLevel  \\\n",
       "0   10 boxes x 20 bags      18.00            39             0            10   \n",
       "1   24 - 12 oz bottles      19.00            17            40            25   \n",
       "2  12 - 550 ml bottles      10.00            13            70            25   \n",
       "3       48 - 6 oz jars      22.00            53             0             0   \n",
       "4             36 boxes      21.35             0             0             0   \n",
       "\n",
       "   Discontinued  \n",
       "0             0  \n",
       "1             0  \n",
       "2             0  \n",
       "3             0  \n",
       "4             1  "
      ]
     },
     "execution_count": 6,
     "metadata": {},
     "output_type": "execute_result"
    }
   ],
   "source": [
    "def get_table_data(con, table_name):\n",
    "    \"\"\"Get the data from the given table\n",
    "    \n",
    "    Args:\n",
    "        con: Database connection\n",
    "        table_name: Name of the table (string)\n",
    "    \n",
    "    Returns:\n",
    "        Pandas Dataframe with the data from the table\n",
    "    \"\"\"\n",
    "    table = con.execute(\"SELECT * FROM '{}'\".format(table_name))\n",
    "    table_df = pd.DataFrame(table.fetchall())\n",
    "    col = get_column_names('{}'.format(table_name))\n",
    "    table_df.columns = col\n",
    "    return table_df\n",
    "\n",
    "\n",
    "products_df = get_table_data(con, 'Product')\n",
    "details_df = get_table_data(con, 'OrderDetail')\n",
    "orders_df = get_table_data(con, 'Order')\n",
    "\n",
    "products_df.head()\n",
    "# print(orders.fetchall())"
   ]
  },
  {
   "cell_type": "code",
   "execution_count": 7,
   "metadata": {
    "ExecuteTime": {
     "end_time": "2019-05-31T16:09:06.425306Z",
     "start_time": "2019-05-31T16:09:06.414026Z"
    }
   },
   "outputs": [
    {
     "name": "stdout",
     "output_type": "stream",
     "text": [
      "         Id  OrderId  ProductId  UnitPrice  Quantity  Discount\n",
      "3  10249/14    10249         14       18.6         9       0.0\n",
      "4  10249/51    10249         51       42.4        40       0.0\n",
      "           Id  OrderId  ProductId  UnitPrice  Quantity  Discount\n",
      "30    10258/5    10258          5      17.00        65      0.20\n",
      "40    10262/5    10262          5      17.00        12      0.20\n",
      "111   10290/5    10290          5      17.00        20      0.00\n",
      "352   10382/5    10382          5      17.00        32      0.00\n",
      "1022  10635/5    10635          5      21.35        15      0.10\n",
      "1212  10708/5    10708          5      21.35         4      0.00\n",
      "1575  10848/5    10848          5      21.35        30      0.00\n",
      "1840  10958/5    10958          5      21.35        20      0.00\n",
      "2018  11030/5    11030          5      21.35        70      0.00\n",
      "2061  11047/5    11047          5      21.35        30      0.25\n"
     ]
    }
   ],
   "source": [
    "print(details_df.loc[details_df['OrderId'] == 10249])\n",
    "print(details_df.loc[details_df['ProductId'] == 5])"
   ]
  },
  {
   "cell_type": "markdown",
   "metadata": {},
   "source": [
    "Filtering details_df by OrderId shows that each record in the `OrderDetail` table describes one product within one order. So, each observation in `Order` table will have one or more observations in the `OrderDetail` table. This means we don't need the `Orders` table as it mainly describes details about the shippment and not what's in the order. \n",
    "\n",
    "When looking at all the observations of the same product in the `OrderDetail` table shows that the company didn't always use the price listed in the `Product` table's `UnitPrice`. The quantities and discount levels don't seem to be causing the difference and it's not the average price. So we'll assume the `Product` table's `UnitPrice` to be the suggested price and therefore isn't relevant for what we're trying to acomplish.\n",
    "\n",
    "This just leaves us with the `OrderDetail` table. We'll drop the columns we won't need to clean up the DataFrame."
   ]
  },
  {
   "cell_type": "code",
   "execution_count": 8,
   "metadata": {
    "ExecuteTime": {
     "end_time": "2019-05-31T16:09:06.437840Z",
     "start_time": "2019-05-31T16:09:06.426991Z"
    },
    "scrolled": true
   },
   "outputs": [
    {
     "data": {
      "text/html": [
       "<div>\n",
       "<style>\n",
       "    .dataframe thead tr:only-child th {\n",
       "        text-align: right;\n",
       "    }\n",
       "\n",
       "    .dataframe thead th {\n",
       "        text-align: left;\n",
       "    }\n",
       "\n",
       "    .dataframe tbody tr th {\n",
       "        vertical-align: top;\n",
       "    }\n",
       "</style>\n",
       "<table border=\"1\" class=\"dataframe\">\n",
       "  <thead>\n",
       "    <tr style=\"text-align: right;\">\n",
       "      <th></th>\n",
       "      <th>OrderId</th>\n",
       "      <th>ProductId</th>\n",
       "      <th>UnitPrice</th>\n",
       "      <th>Quantity</th>\n",
       "      <th>Discount</th>\n",
       "    </tr>\n",
       "  </thead>\n",
       "  <tbody>\n",
       "    <tr>\n",
       "      <th>0</th>\n",
       "      <td>10248</td>\n",
       "      <td>11</td>\n",
       "      <td>14.0</td>\n",
       "      <td>12</td>\n",
       "      <td>0.0</td>\n",
       "    </tr>\n",
       "    <tr>\n",
       "      <th>1</th>\n",
       "      <td>10248</td>\n",
       "      <td>42</td>\n",
       "      <td>9.8</td>\n",
       "      <td>10</td>\n",
       "      <td>0.0</td>\n",
       "    </tr>\n",
       "    <tr>\n",
       "      <th>2</th>\n",
       "      <td>10248</td>\n",
       "      <td>72</td>\n",
       "      <td>34.8</td>\n",
       "      <td>5</td>\n",
       "      <td>0.0</td>\n",
       "    </tr>\n",
       "    <tr>\n",
       "      <th>3</th>\n",
       "      <td>10249</td>\n",
       "      <td>14</td>\n",
       "      <td>18.6</td>\n",
       "      <td>9</td>\n",
       "      <td>0.0</td>\n",
       "    </tr>\n",
       "    <tr>\n",
       "      <th>4</th>\n",
       "      <td>10249</td>\n",
       "      <td>51</td>\n",
       "      <td>42.4</td>\n",
       "      <td>40</td>\n",
       "      <td>0.0</td>\n",
       "    </tr>\n",
       "  </tbody>\n",
       "</table>\n",
       "</div>"
      ],
      "text/plain": [
       "   OrderId  ProductId  UnitPrice  Quantity  Discount\n",
       "0    10248         11       14.0        12       0.0\n",
       "1    10248         42        9.8        10       0.0\n",
       "2    10248         72       34.8         5       0.0\n",
       "3    10249         14       18.6         9       0.0\n",
       "4    10249         51       42.4        40       0.0"
      ]
     },
     "execution_count": 8,
     "metadata": {},
     "output_type": "execute_result"
    }
   ],
   "source": [
    "df = details_df.drop(['Id'], axis=1)\n",
    "df.head()"
   ]
  },
  {
   "cell_type": "code",
   "execution_count": 9,
   "metadata": {
    "ExecuteTime": {
     "end_time": "2019-05-31T16:09:06.449097Z",
     "start_time": "2019-05-31T16:09:06.440163Z"
    }
   },
   "outputs": [
    {
     "data": {
      "text/plain": [
       "0.00    1317\n",
       "0.05     185\n",
       "0.10     173\n",
       "0.20     161\n",
       "0.15     157\n",
       "0.25     154\n",
       "0.03       3\n",
       "0.02       2\n",
       "0.01       1\n",
       "0.04       1\n",
       "0.06       1\n",
       "Name: Discount, dtype: int64"
      ]
     },
     "execution_count": 9,
     "metadata": {},
     "output_type": "execute_result"
    }
   ],
   "source": [
    "df['ProductId'].value_counts()\n",
    "df['Discount'].value_counts()"
   ]
  },
  {
   "cell_type": "markdown",
   "metadata": {
    "ExecuteTime": {
     "end_time": "2019-05-18T00:08:05.096994Z",
     "start_time": "2019-05-18T00:08:05.081945Z"
    }
   },
   "source": [
    "#### Scrub Data\n",
    "Looking at the values we have in each column, there are some discount values that don't have enough observations to make any statistical inferences. We'll drop all rows that contain the following values:\n",
    "- 0.01\n",
    "- 0.02\n",
    "- 0.03\n",
    "- 0.04\n",
    "- 0.06"
   ]
  },
  {
   "cell_type": "code",
   "execution_count": 10,
   "metadata": {
    "ExecuteTime": {
     "end_time": "2019-05-31T16:09:06.459034Z",
     "start_time": "2019-05-31T16:09:06.450819Z"
    }
   },
   "outputs": [
    {
     "data": {
      "text/plain": [
       "0.00    1317\n",
       "0.05     185\n",
       "0.10     173\n",
       "0.20     161\n",
       "0.15     157\n",
       "0.25     154\n",
       "Name: Discount, dtype: int64"
      ]
     },
     "execution_count": 10,
     "metadata": {},
     "output_type": "execute_result"
    }
   ],
   "source": [
    "drop_list = [0.01, 0.02, 0.03, 0.04, 0.06]\n",
    "df = df[~df['Discount'].isin(drop_list) ]\n",
    "df['Discount'].value_counts()"
   ]
  },
  {
   "cell_type": "code",
   "execution_count": 11,
   "metadata": {
    "ExecuteTime": {
     "end_time": "2019-05-31T16:09:06.471430Z",
     "start_time": "2019-05-31T16:09:06.461141Z"
    }
   },
   "outputs": [
    {
     "data": {
      "text/plain": [
       "0.05    185\n",
       "0.10    173\n",
       "0.20    161\n",
       "0.15    157\n",
       "0.25    154\n",
       "Name: Discount, dtype: int64"
      ]
     },
     "execution_count": 11,
     "metadata": {},
     "output_type": "execute_result"
    }
   ],
   "source": [
    "treatment = df.loc[df['Discount'] != 0]\n",
    "control = df.loc[df['Discount'] == 0]\n",
    "treatment['Discount'].value_counts()"
   ]
  },
  {
   "cell_type": "code",
   "execution_count": null,
   "metadata": {
    "collapsed": true
   },
   "outputs": [],
   "source": [
    "# print(np.mean(treatment.sample(n=40)))\n",
    "\n",
    "# def get_pop_mean(group, size=2000):\n",
    "#     \"\"\"Get the population mean by using the central limit theorem\n",
    "    \n",
    "#     Args:\n",
    "#         group: (pd.Series) observations, must be numerical\n",
    "#         size: (int) size of distribution\n",
    "    \n",
    "#     Returns:\n",
    "#         float: population mean\n",
    "#     \"\"\"\n",
    "#     xbars = []\n",
    "#     for i in range(size):\n",
    "#         xbars.append(np.mean(group.sample(n=40))"
   ]
  },
  {
   "cell_type": "markdown",
   "metadata": {
    "ExecuteTime": {
     "end_time": "2019-05-18T14:50:58.299854Z",
     "start_time": "2019-05-18T14:50:58.289276Z"
    }
   },
   "source": [
    "#### Form Hypothesis\n",
    "\n",
    "Now that we have our treament and control datasets, we can execute our hypothesis test.\n",
    "\n",
    "$H_o: \\mu_t = \\mu_c$\n",
    "\n",
    "$H_a: \\mu_t > \\mu_c$\n",
    "\n",
    "$\\alpha$ = 0.05\n",
    "\n",
    "#### Conduct Experiment\n",
    "We'll take a sample from our control and treatment groups and run a one-sided, two-sample hypothesis test with an alpha level of 0.05."
   ]
  },
  {
   "cell_type": "code",
   "execution_count": 2,
   "metadata": {
    "ExecuteTime": {
     "end_time": "2019-06-05T17:29:55.755584Z",
     "start_time": "2019-06-05T17:29:55.742333Z"
    }
   },
   "outputs": [
    {
     "ename": "NameError",
     "evalue": "name 'treatment' is not defined",
     "output_type": "error",
     "traceback": [
      "\u001b[0;31m---------------------------------------------------------------------------\u001b[0m",
      "\u001b[0;31mNameError\u001b[0m                                 Traceback (most recent call last)",
      "\u001b[0;32m<ipython-input-2-38251ce45cb4>\u001b[0m in \u001b[0;36m<module>\u001b[0;34m()\u001b[0m\n\u001b[0;32m----> 1\u001b[0;31m \u001b[0msample_t\u001b[0m \u001b[0;34m=\u001b[0m \u001b[0mtreatment\u001b[0m\u001b[0;34m.\u001b[0m\u001b[0msample\u001b[0m\u001b[0;34m(\u001b[0m\u001b[0mn\u001b[0m \u001b[0;34m=\u001b[0m \u001b[0;36m50\u001b[0m\u001b[0;34m,\u001b[0m \u001b[0mrandom_state\u001b[0m\u001b[0;34m=\u001b[0m\u001b[0;36m10\u001b[0m\u001b[0;34m)\u001b[0m\u001b[0;34m\u001b[0m\u001b[0m\n\u001b[0m\u001b[1;32m      2\u001b[0m \u001b[0msample_c\u001b[0m \u001b[0;34m=\u001b[0m \u001b[0mcontrol\u001b[0m\u001b[0;34m.\u001b[0m\u001b[0msample\u001b[0m\u001b[0;34m(\u001b[0m\u001b[0mn\u001b[0m \u001b[0;34m=\u001b[0m \u001b[0;36m50\u001b[0m\u001b[0;34m,\u001b[0m \u001b[0mrandom_state\u001b[0m\u001b[0;34m=\u001b[0m\u001b[0;36m10\u001b[0m\u001b[0;34m)\u001b[0m\u001b[0;34m\u001b[0m\u001b[0m\n\u001b[1;32m      3\u001b[0m \u001b[0mresults\u001b[0m \u001b[0;34m=\u001b[0m \u001b[0mstats\u001b[0m\u001b[0;34m.\u001b[0m\u001b[0mttest_rel\u001b[0m\u001b[0;34m(\u001b[0m\u001b[0msample_t\u001b[0m\u001b[0;34m[\u001b[0m\u001b[0;34m'Quantity'\u001b[0m\u001b[0;34m]\u001b[0m\u001b[0;34m,\u001b[0m \u001b[0msample_c\u001b[0m\u001b[0;34m[\u001b[0m\u001b[0;34m'Quantity'\u001b[0m\u001b[0;34m]\u001b[0m\u001b[0;34m)\u001b[0m\u001b[0;34m\u001b[0m\u001b[0m\n\u001b[1;32m      4\u001b[0m \u001b[0malpha\u001b[0m \u001b[0;34m=\u001b[0m \u001b[0;36m0.05\u001b[0m\u001b[0;34m\u001b[0m\u001b[0m\n\u001b[1;32m      5\u001b[0m \u001b[0;32mif\u001b[0m \u001b[0;34m(\u001b[0m\u001b[0mresults\u001b[0m\u001b[0;34m[\u001b[0m\u001b[0;36m0\u001b[0m\u001b[0;34m]\u001b[0m \u001b[0;34m>\u001b[0m \u001b[0;36m0\u001b[0m\u001b[0;34m)\u001b[0m \u001b[0;34m&\u001b[0m \u001b[0;34m(\u001b[0m\u001b[0mresults\u001b[0m\u001b[0;34m[\u001b[0m\u001b[0;36m1\u001b[0m\u001b[0;34m]\u001b[0m\u001b[0;34m/\u001b[0m\u001b[0;36m2\u001b[0m \u001b[0;34m<\u001b[0m \u001b[0malpha\u001b[0m\u001b[0;34m)\u001b[0m\u001b[0;34m:\u001b[0m\u001b[0;34m\u001b[0m\u001b[0m\n",
      "\u001b[0;31mNameError\u001b[0m: name 'treatment' is not defined"
     ]
    }
   ],
   "source": [
    "sample_t = treatment.sample(n = 50, random_state=10)\n",
    "sample_c = control.sample(n = 50, random_state=10)\n",
    "results = stats.ttest_rel(sample_t['Quantity'], sample_c['Quantity'])\n",
    "alpha = 0.05\n",
    "if (results[0] > 0) & (results[1]/2 < alpha):\n",
    "    print(\"reject null hypothesis, mean of {} is greater than mean of {}\".format('Discounted Quantities','Nondiscounted Quantities'))\n",
    "else:\n",
    "    print(\"fail to reject null hypothesis\")\n"
   ]
  },
  {
   "cell_type": "markdown",
   "metadata": {
    "ExecuteTime": {
     "end_time": "2019-05-31T14:28:42.978842Z",
     "start_time": "2019-05-31T14:28:42.972743Z"
    }
   },
   "source": [
    "#### Analyze Results\n",
    "We have significant evidence to reject the null hypothsis that the mean quanitites of discount orders is equal to the mean quantities on nondiscounted orders. \n",
    "\n",
    "#### \n",
    "**Determine if the level of discount effects quantities purchased**\n",
    "Now that we have accepted that discounts do increase the quantity of items purchased, we need to figure out at what discount level is the effect most significant. We'll start with an ANOVA test to figure out if there is a difference in effect between the different levels of discounts.\n",
    "\n",
    "\n",
    "#### Form Hypothesis\n",
    "$H_o: \\mu_{0.05} = \\mu_{0.10} = \\mu_{0.15} = \\mu_{0.20} = \\mu_{0.25}$ \n",
    "\n",
    "$H_a: \\mu_{0.05} != \\mu_{0.10} != \\mu_{0.15} != \\mu_{0.20} != \\mu_{0.25}$ \n",
    "\n",
    "#### Sample Different Discount Rates"
   ]
  },
  {
   "cell_type": "code",
   "execution_count": 13,
   "metadata": {
    "ExecuteTime": {
     "end_time": "2019-05-31T16:09:06.517234Z",
     "start_time": "2019-05-31T16:09:06.486256Z"
    }
   },
   "outputs": [
    {
     "data": {
      "text/html": [
       "<div>\n",
       "<style>\n",
       "    .dataframe thead tr:only-child th {\n",
       "        text-align: right;\n",
       "    }\n",
       "\n",
       "    .dataframe thead th {\n",
       "        text-align: left;\n",
       "    }\n",
       "\n",
       "    .dataframe tbody tr th {\n",
       "        vertical-align: top;\n",
       "    }\n",
       "</style>\n",
       "<table border=\"1\" class=\"dataframe\">\n",
       "  <thead>\n",
       "    <tr style=\"text-align: right;\">\n",
       "      <th></th>\n",
       "      <th>0.05</th>\n",
       "      <th>0.10</th>\n",
       "      <th>0.15</th>\n",
       "      <th>0.20</th>\n",
       "      <th>0.25</th>\n",
       "    </tr>\n",
       "  </thead>\n",
       "  <tbody>\n",
       "    <tr>\n",
       "      <th>0</th>\n",
       "      <td>12</td>\n",
       "      <td>20</td>\n",
       "      <td>24</td>\n",
       "      <td>40</td>\n",
       "      <td>20</td>\n",
       "    </tr>\n",
       "    <tr>\n",
       "      <th>1</th>\n",
       "      <td>28</td>\n",
       "      <td>18</td>\n",
       "      <td>70</td>\n",
       "      <td>55</td>\n",
       "      <td>2</td>\n",
       "    </tr>\n",
       "    <tr>\n",
       "      <th>2</th>\n",
       "      <td>24</td>\n",
       "      <td>18</td>\n",
       "      <td>40</td>\n",
       "      <td>6</td>\n",
       "      <td>12</td>\n",
       "    </tr>\n",
       "    <tr>\n",
       "      <th>3</th>\n",
       "      <td>8</td>\n",
       "      <td>15</td>\n",
       "      <td>10</td>\n",
       "      <td>30</td>\n",
       "      <td>20</td>\n",
       "    </tr>\n",
       "    <tr>\n",
       "      <th>4</th>\n",
       "      <td>2</td>\n",
       "      <td>10</td>\n",
       "      <td>16</td>\n",
       "      <td>45</td>\n",
       "      <td>30</td>\n",
       "    </tr>\n",
       "  </tbody>\n",
       "</table>\n",
       "</div>"
      ],
      "text/plain": [
       "   0.05  0.10  0.15  0.20  0.25\n",
       "0    12    20    24    40    20\n",
       "1    28    18    70    55     2\n",
       "2    24    18    40     6    12\n",
       "3     8    15    10    30    20\n",
       "4     2    10    16    45    30"
      ]
     },
     "execution_count": 13,
     "metadata": {},
     "output_type": "execute_result"
    }
   ],
   "source": [
    "five = treatment.loc[treatment['Discount'] == 0.05]\n",
    "ten = treatment.loc[treatment['Discount'] == 0.10]\n",
    "fifteen = treatment.loc[treatment['Discount'] == 0.15]\n",
    "twenty = treatment.loc[treatment['Discount'] == 0.20]\n",
    "twentyfive = treatment.loc[treatment['Discount'] == 0.25]\n",
    "\n",
    "data = pd.DataFrame()\n",
    "\n",
    "for group, name in [(five, '0.05'), (ten, '0.10'), (fifteen, '0.15'), (twenty, '0.20'), (twentyfive, '0.25')]:\n",
    "    group = group.sample(n=50, random_state=10)\n",
    "    data[name] = group.Quantity.reset_index(drop=True)\n",
    "data.head()"
   ]
  },
  {
   "cell_type": "code",
   "execution_count": 14,
   "metadata": {
    "ExecuteTime": {
     "end_time": "2019-05-31T16:09:07.084082Z",
     "start_time": "2019-05-31T16:09:06.519446Z"
    }
   },
   "outputs": [
    {
     "name": "stderr",
     "output_type": "stream",
     "text": [
      "/Users/joe/anaconda3/lib/python3.6/site-packages/matplotlib/figure.py:445: UserWarning: Matplotlib is currently using module://ipykernel.pylab.backend_inline, which is a non-GUI backend, so cannot show the figure.\n",
      "  % get_backend())\n"
     ]
    },
    {
     "data": {
      "image/png": "[encoded data removed]",
      "text/plain": [
       "<Figure size 864x648 with 1 Axes>"
      ]
     },
     "metadata": {},
     "output_type": "display_data"
    }
   ],
   "source": [
    "fig, ax = plt.subplots(1, 1, figsize=(12,9))\n",
    "for i in data.columns:\n",
    "    data[i].plot(kind='density')\n",
    "plt.legend()\n",
    "plt.xlabel('Quantity of Items Purchased')\n",
    "fig.show()"
   ]
  },
  {
   "cell_type": "markdown",
   "metadata": {},
   "source": [
    "#### Conduct Experiment"
   ]
  },
  {
   "cell_type": "code",
   "execution_count": 15,
   "metadata": {
    "ExecuteTime": {
     "end_time": "2019-05-31T16:09:07.091643Z",
     "start_time": "2019-05-31T16:09:07.086189Z"
    }
   },
   "outputs": [
    {
     "data": {
      "text/plain": [
       "F_onewayResult(statistic=0.22583337048873584, pvalue=0.92379289841810175)"
      ]
     },
     "execution_count": 15,
     "metadata": {},
     "output_type": "execute_result"
    }
   ],
   "source": [
    "stats.f_oneway(data['0.05'], data['0.10'], data['0.15'], data['0.20'], data['0.25'])"
   ]
  },
  {
   "cell_type": "markdown",
   "metadata": {},
   "source": [
    "#### Analyze Results\n",
    "Our F-statistic of 0.2258 suggests the between-groups variance is roughly 1/4 of the within-group variance. We fail to reject the null hypothesis of equal mean values  due to the p value being > 0.05. \n",
    "### Conclusion\n",
    "These results aren't surprising considering the density plots of our samples. They are visually close to identical so our recommendation is to stick with low levels of discounts as there is no evidence to say that increasing the discount level will increase the quantity bought, so it just reduces the revenue earned."
   ]
  },
  {
   "cell_type": "markdown",
   "metadata": {
    "hide_input": false
   },
   "source": [
    "## Does the employee living close to the customer effect the number of products ordered per year? At what distance?\n",
    "* *Helpful Links*:\n",
    "    * [geoheat map](https://alcidanalytics.com/p/geographic-heatmap-in-python)\n",
    "    * [get coordinates](https://pypi.org/project/geopy/)\n",
    "    * [calculate distance between points](https://www.quantbarbie.com/blog/2018/7/11/calculate-the-distance-between-two-places-in-python)\n",
    "* *Data Needed*:\n",
    "    * Employee ID x\n",
    "    * Employee Longitude\n",
    "    * Employee Latitude\n",
    "    * Customer ID\n",
    "    * Customer Longitude\n",
    "    * Customer Latitude\n",
    "    * Month\n",
    "    * Year\n",
    "    * Total Number of Products Ordered\n",
    "* *Tables*:\n",
    "    * Employee\n",
    "    * Order\n",
    "    * OrderDetail\n",
    "    * Customer\n"
   ]
  },
  {
   "cell_type": "code",
   "execution_count": 31,
   "metadata": {
    "ExecuteTime": {
     "end_time": "2019-05-31T16:54:38.657823Z",
     "start_time": "2019-05-31T16:54:37.965268Z"
    }
   },
   "outputs": [
    {
     "name": "stdout",
     "output_type": "stream",
     "text": [
      "2019-05-31 11:54:37,974 INFO sqlalchemy.engine.base.Engine SELECT * FROM 'Employee'\n",
      "2019-05-31 11:54:37,975 INFO sqlalchemy.engine.base.Engine ()\n",
      "6140, Rockhill Road, Western 49/63, Country Club Plaza, Kansas City, Jackson County, Missouri, 64110, USA\n"
     ]
    }
   ],
   "source": [
    "# Get data\n",
    "employee = get_table_data(con, 'Employee')\n",
    "# drop unnecssary column\n",
    "employee = employee.drop(['LastName', 'FirstName', 'Title', 'TitleOfCourtesy', 'BirthDate', 'HireDate', 'HomePhone', 'Extension', 'Photo', 'Notes', 'ReportsTo', 'PhotoPath'], axis=1)\n",
    "# import geopy.geocoders\n",
    "# from geopy.geocoders import Nominatim\n",
    "# geolocator = Nominatim(user_agent=\"northwind hypothesis testing\")\n",
    "# location = geolocator.geocode(\"{} {} {}\".format(employee.Address[0], employee.City[0], employee.Country[0]))\n",
    "# print(\"{} {} {}\".format(employee.Address[0], employee.City[0], employee.Country[0]))\n",
    "# print(location.address)\n",
    "# print((location.latitude, location.longitude))\n",
    "\n",
    "from geopy.geocoders import Nominatim\n",
    "geolocator = Nominatim(user_agent=\"specify_your_app_name_here\")\n",
    "location = geolocator.geocode(\"{} {}\".format('6140 Rockhill Rd', 'Kansas City'))\n",
    "print(location.address)"
   ]
  },
  {
   "cell_type": "code",
   "execution_count": 21,
   "metadata": {
    "ExecuteTime": {
     "end_time": "2019-05-31T16:31:44.813707Z",
     "start_time": "2019-05-31T16:31:44.802708Z"
    }
   },
   "outputs": [
    {
     "data": {
      "text/html": [
       "<div>\n",
       "<style>\n",
       "    .dataframe thead tr:only-child th {\n",
       "        text-align: right;\n",
       "    }\n",
       "\n",
       "    .dataframe thead th {\n",
       "        text-align: left;\n",
       "    }\n",
       "\n",
       "    .dataframe tbody tr th {\n",
       "        vertical-align: top;\n",
       "    }\n",
       "</style>\n",
       "<table border=\"1\" class=\"dataframe\">\n",
       "  <thead>\n",
       "    <tr style=\"text-align: right;\">\n",
       "      <th></th>\n",
       "      <th>Id</th>\n",
       "      <th>Address</th>\n",
       "      <th>City</th>\n",
       "      <th>Region</th>\n",
       "      <th>PostalCode</th>\n",
       "      <th>Country</th>\n",
       "    </tr>\n",
       "  </thead>\n",
       "  <tbody>\n",
       "    <tr>\n",
       "      <th>0</th>\n",
       "      <td>1</td>\n",
       "      <td>507 - 20th Ave. E. Apt. 2A</td>\n",
       "      <td>Seattle</td>\n",
       "      <td>North America</td>\n",
       "      <td>98122</td>\n",
       "      <td>USA</td>\n",
       "    </tr>\n",
       "    <tr>\n",
       "      <th>1</th>\n",
       "      <td>2</td>\n",
       "      <td>908 W. Capital Way</td>\n",
       "      <td>Tacoma</td>\n",
       "      <td>North America</td>\n",
       "      <td>98401</td>\n",
       "      <td>USA</td>\n",
       "    </tr>\n",
       "    <tr>\n",
       "      <th>2</th>\n",
       "      <td>3</td>\n",
       "      <td>722 Moss Bay Blvd.</td>\n",
       "      <td>Kirkland</td>\n",
       "      <td>North America</td>\n",
       "      <td>98033</td>\n",
       "      <td>USA</td>\n",
       "    </tr>\n",
       "  </tbody>\n",
       "</table>\n",
       "</div>"
      ],
      "text/plain": [
       "   Id                     Address      City         Region PostalCode Country\n",
       "0   1  507 - 20th Ave. E. Apt. 2A   Seattle  North America      98122     USA\n",
       "1   2          908 W. Capital Way    Tacoma  North America      98401     USA\n",
       "2   3          722 Moss Bay Blvd.  Kirkland  North America      98033     USA"
      ]
     },
     "execution_count": 21,
     "metadata": {},
     "output_type": "execute_result"
    }
   ],
   "source": [
    "employee.head(3)"
   ]
  },
  {
   "cell_type": "code",
   "execution_count": 168,
   "metadata": {
    "ExecuteTime": {
     "end_time": "2019-05-20T09:33:36.541948Z",
     "start_time": "2019-05-20T09:33:36.521691Z"
    },
    "collapsed": true
   },
   "outputs": [],
   "source": [
    "def compute_n(alpha, beta, mu_0, mu_1, var):\n",
    "    \"\"\" Compute the sample size necessary to gain statistical significance\n",
    "    \n",
    "    Args:\n",
    "        alpha: acceptable level of type I error\n",
    "        beta: acceptable level of type II error\n",
    "        mu_0: population mean\n",
    "        mu_1: sample mean\n",
    "        var: sample variancel\n",
    "    \n",
    "    Returns:\n",
    "        int of the sample size needed for the acceptable levels of alpha and beta\n",
    "    \"\"\"\n",
    "    z_alpha = stats.norm.ppf(alpha)\n",
    "    z_beta = stats.norm.ppf(beta)\n",
    "    num = ((z_alpha+z_beta)**2)*var\n",
    "    den = (mu_1 - mu_0)**2\n",
    "    return int(num / den)\n",
    "\n",
    "\n",
    "def get_pop_mean(data, column):\n",
    "    \"\"\" Get the population mean\n",
    "    \n",
    "    Args:\n",
    "        data: Pandas DataFrame \n",
    "            The dataset in question\n",
    "        column: String \n",
    "            The name of the column in question\n",
    "    \n",
    "    Returns: Float\n",
    "        The population mean\n",
    "    \"\"\"\n",
    "    sample_means = []\n",
    "    for i in range(1000):\n",
    "        sample = data.sample(n=50, replace=True)\n",
    "        sample_means.append(np.mean(sample[column]))\n",
    "    plt.hist(sample_means)\n",
    "    plt.show()\n",
    "    return np.mean(sample_means)\n"
   ]
  },
  {
   "cell_type": "code",
   "execution_count": 169,
   "metadata": {
    "ExecuteTime": {
     "end_time": "2019-05-20T09:33:38.939553Z",
     "start_time": "2019-05-20T09:33:38.377164Z"
    }
   },
   "outputs": [
    {
     "data": {
      "image/png": "[encoded data removed]",
      "text/plain": [
       "<Figure size 432x288 with 1 Axes>"
      ]
     },
     "metadata": {},
     "output_type": "display_data"
    },
    {
     "data": {
      "text/plain": [
       "23.759040000000002"
      ]
     },
     "execution_count": 169,
     "metadata": {},
     "output_type": "execute_result"
    }
   ],
   "source": [
    "get_pop_mean(details_df, 'Quantity')"
   ]
  },
  {
   "cell_type": "code",
   "execution_count": 170,
   "metadata": {
    "ExecuteTime": {
     "end_time": "2019-05-20T09:33:39.738272Z",
     "start_time": "2019-05-20T09:33:39.139139Z"
    }
   },
   "outputs": [
    {
     "data": {
      "image/png": "[encoded data removed]",
      "text/plain": [
       "<Figure size 432x288 with 1 Axes>"
      ]
     },
     "metadata": {},
     "output_type": "display_data"
    },
    {
     "name": "stdout",
     "output_type": "stream",
     "text": [
      "mu: 23.77646,\n",
      "std_dev: 21.778369400333304\n",
      "x_bar: 23.16\n",
      "n: 354\n",
      "df: 353\n"
     ]
    }
   ],
   "source": [
    "mu = get_pop_mean(details_df, 'Quantity')\n",
    "sample = details_df.sample(n=100)\n",
    "std_dev = sample['Quantity'].std()\n",
    "x_bar = np.mean(sample.Quantity)\n",
    "n = compute_n(0.05, 0.2, mu, x_bar, std_dev)\n",
    "df = n - 1\n",
    "# t_val = stats.ttest_1samp()\n",
    "# t_stat = stats.t_stat()\n",
    "print(\"\"\"mu: {},\n",
    "std_dev: {}\n",
    "x_bar: {}\n",
    "n: {}\n",
    "df: {}\"\"\".format(mu, std_dev, x_bar, n, df))\n"
   ]
  },
  {
   "cell_type": "markdown",
   "metadata": {},
   "source": [
    "## Is the business seasonal?\n",
    "  * *Helpful Links*:\n",
    "\n",
    "  * *Data Needed*:\n",
    "    * Month\n",
    "    * Year\n",
    "    * Total Revenue"
   ]
  },
  {
   "cell_type": "code",
   "execution_count": 32,
   "metadata": {
    "ExecuteTime": {
     "end_time": "2019-05-31T17:21:14.663976Z",
     "start_time": "2019-05-31T17:21:14.640877Z"
    }
   },
   "outputs": [
    {
     "name": "stdout",
     "output_type": "stream",
     "text": [
      "2019-05-31 12:21:14,642 INFO sqlalchemy.engine.base.Engine SELECT * FROM 'Order'\n",
      "2019-05-31 12:21:14,643 INFO sqlalchemy.engine.base.Engine ()\n",
      "2019-05-31 12:21:14,652 INFO sqlalchemy.engine.base.Engine SELECT * FROM 'OrderDetail'\n",
      "2019-05-31 12:21:14,653 INFO sqlalchemy.engine.base.Engine ()\n"
     ]
    }
   ],
   "source": [
    "orders = get_table_data(con, 'Order')\n",
    "details = get_table_data(con, 'OrderDetail')"
   ]
  },
  {
   "cell_type": "markdown",
   "metadata": {},
   "source": [
    "1. Calculate the detail revenue\n",
    "2. determine month\n",
    "3. determine year\n",
    "4. GROUPBY month, year SUM revenue\n",
    "5. AVG revenue GROUPBY month"
   ]
  },
  {
   "cell_type": "markdown",
   "metadata": {},
   "source": [
    "## Next Question"
   ]
  }
 ],
 "metadata": {
  "hide_input": false,
  "kernelspec": {
   "display_name": "Python 3",
   "language": "python",
   "name": "python3"
  },
  "language_info": {
   "codemirror_mode": {
    "name": "ipython",
    "version": 3
   },
   "file_extension": ".py",
   "mimetype": "text/x-python",
   "name": "python",
   "nbconvert_exporter": "python",
   "pygments_lexer": "ipython3",
   "version": "3.6.3"
  },
  "toc": {
   "base_numbering": 1,
   "nav_menu": {},
   "number_sections": false,
   "sideBar": true,
   "skip_h1_title": true,
   "title_cell": "Table of Contents",
   "title_sidebar": "Contents",
   "toc_cell": false,
   "toc_position": {
    "height": "calc(100% - 180px)",
    "left": "10px",
    "top": "150px",
    "width": "235px"
   },
   "toc_section_display": true,
   "toc_window_display": true
  },
  "varInspector": {
   "cols": {
    "lenName": 16,
    "lenType": 16,
    "lenVar": 40
   },
   "kernels_config": {
    "python": {
     "delete_cmd_postfix": "",
     "delete_cmd_prefix": "del ",
     "library": "var_list.py",
     "varRefreshCmd": "print(var_dic_list())"
    },
    "r": {
     "delete_cmd_postfix": ") ",
     "delete_cmd_prefix": "rm(",
     "library": "var_list.r",
     "varRefreshCmd": "cat(var_dic_list()) "
    }
   },
   "oldHeight": 122,
   "position": {
    "height": "40px",
    "left": "1170px",
    "right": "20px",
    "top": "120px",
    "width": "250px"
   },
   "types_to_exclude": [
    "module",
    "function",
    "builtin_function_or_method",
    "instance",
    "_Feature"
   ],
   "varInspector_section_display": "none",
   "window_display": true
  }
 },
 "nbformat": 4,
 "nbformat_minor": 2
}
