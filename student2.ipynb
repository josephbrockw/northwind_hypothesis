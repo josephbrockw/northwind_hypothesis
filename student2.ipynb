{
 "cells": [
  {
   "cell_type": "markdown",
   "metadata": {},
   "source": [
    "# Northwind Tests\n",
    "\n",
    "## Introduction"
   ]
  },
  {
   "cell_type": "markdown",
   "metadata": {},
   "source": [
    "## Discount Effect\n",
    "Do discounts have a statistically significant effect on the number of products customers order? If so, at what level(s) of discount?\n",
    "\n",
    "Tables needed:\n",
    "- Orders\n",
    "- Order Details\n",
    "- Products\n",
    "- Customer"
   ]
  },
  {
   "cell_type": "code",
   "execution_count": 224,
   "metadata": {
    "ExecuteTime": {
     "end_time": "2019-06-06T16:00:48.460981Z",
     "start_time": "2019-06-06T16:00:48.448541Z"
    },
    "collapsed": true
   },
   "outputs": [],
   "source": [
    "# Imports\n",
    "import sqlalchemy\n",
    "from sqlalchemy import create_engine\n",
    "from sqlalchemy.orm import Session, sessionmaker\n",
    "from sqlalchemy import inspect\n",
    "import pandas as pd\n",
    "import numpy as np\n",
    "import scipy.stats as stats\n",
    "import random\n",
    "import seaborn as sns\n",
    "import matplotlib.pyplot as plt\n",
    "\n",
    "%matplotlib inline\n",
    "\n",
    "# Connect to database\n",
    "engine = create_engine(\"sqlite:///Northwind_small.sqlite\", echo=True)\n",
    "Session = sessionmaker(bind=engine)\n",
    "session = Session()"
   ]
  },
  {
   "cell_type": "code",
   "execution_count": 225,
   "metadata": {
    "ExecuteTime": {
     "end_time": "2019-06-06T16:00:48.475923Z",
     "start_time": "2019-06-06T16:00:48.462877Z"
    }
   },
   "outputs": [
    {
     "name": "stdout",
     "output_type": "stream",
     "text": [
      "2019-06-06 11:00:48,465 INFO sqlalchemy.engine.base.Engine SELECT CAST('test plain returns' AS VARCHAR(60)) AS anon_1\n",
      "2019-06-06 11:00:48,466 INFO sqlalchemy.engine.base.Engine ()\n",
      "2019-06-06 11:00:48,468 INFO sqlalchemy.engine.base.Engine SELECT CAST('test unicode returns' AS VARCHAR(60)) AS anon_1\n",
      "2019-06-06 11:00:48,469 INFO sqlalchemy.engine.base.Engine ()\n",
      "2019-06-06 11:00:48,471 INFO sqlalchemy.engine.base.Engine SELECT name FROM sqlite_master WHERE type='table' ORDER BY name\n",
      "2019-06-06 11:00:48,472 INFO sqlalchemy.engine.base.Engine ()\n",
      "['Category', 'Customer', 'CustomerCustomerDemo', 'CustomerDemographic', 'Employee', 'EmployeeTerritory', 'Order', 'OrderDetail', 'Product', 'Region', 'Shipper', 'Supplier', 'Territory']\n"
     ]
    }
   ],
   "source": [
    "# Use inspect to check database metadata against the ERD we have of the database\n",
    "inspector = inspect(engine)\n",
    "table_names = inspector.get_table_names()\n",
    "print(table_names)"
   ]
  },
  {
   "cell_type": "markdown",
   "metadata": {},
   "source": [
    "### Get Data\n",
    "\n",
    "Our first step is to query our database for the tables we might need and save the data into a pandas.DataFrames to work with. At this point we will see which of the tables will be necessary for us to gather the data we need to answer our business questions"
   ]
  },
  {
   "cell_type": "code",
   "execution_count": 226,
   "metadata": {
    "ExecuteTime": {
     "end_time": "2019-06-06T16:00:48.502304Z",
     "start_time": "2019-06-06T16:00:48.477697Z"
    }
   },
   "outputs": [
    {
     "name": "stdout",
     "output_type": "stream",
     "text": [
      "2019-06-06 11:00:48,491 INFO sqlalchemy.engine.base.Engine PRAGMA table_info(\"Employee\")\n",
      "2019-06-06 11:00:48,493 INFO sqlalchemy.engine.base.Engine ()\n",
      "Table Name: Employee\n",
      "\n",
      "Name: Id, \t INTEGER\n",
      "Name: LastName, \t VARCHAR(8000)\n",
      "Name: FirstName, \t VARCHAR(8000)\n",
      "Name: Title, \t VARCHAR(8000)\n",
      "Name: TitleOfCourtesy, \t VARCHAR(8000)\n",
      "Name: BirthDate, \t VARCHAR(8000)\n",
      "Name: HireDate, \t VARCHAR(8000)\n",
      "Name: Address, \t VARCHAR(8000)\n",
      "Name: City, \t VARCHAR(8000)\n",
      "Name: Region, \t VARCHAR(8000)\n",
      "Name: PostalCode, \t VARCHAR(8000)\n",
      "Name: Country, \t VARCHAR(8000)\n",
      "Name: HomePhone, \t VARCHAR(8000)\n",
      "Name: Extension, \t VARCHAR(8000)\n",
      "Name: Photo, \t BLOB\n",
      "Name: Notes, \t VARCHAR(8000)\n",
      "Name: ReportsTo, \t INTEGER\n",
      "Name: PhotoPath, \t VARCHAR(8000)\n"
     ]
    }
   ],
   "source": [
    "# I created a couple of functions to make it easier to inspect and retreive necessary data\n",
    "\n",
    "def get_columns_info(table_name):\n",
    "    \"\"\" Print the name and type of each column in the given table.\n",
    "    \n",
    "    Args:\n",
    "        table_name: Name of the table (string)\n",
    "    \"\"\"\n",
    "    cols_list = inspector.get_columns(table_name)\n",
    "    \n",
    "    print(\"Table Name: {}\".format(table_name))\n",
    "    print(\"\")\n",
    "    for column in cols_list:\n",
    "        print(\"Name: {}, \\t {}\".format(column['name'], column['type']))\n",
    "\n",
    "\n",
    "def get_column_names(table_name):\n",
    "    \"\"\" Get the name of each column in the given table.\n",
    "    \n",
    "    Args:\n",
    "        table_name: Name of the table (string)\n",
    "    \n",
    "    Returns:\n",
    "        A list of column names\n",
    "    \"\"\"\n",
    "    cols_list = inspector.get_columns(table_name)\n",
    "    col_names = []\n",
    "    for column in cols_list:\n",
    "        col_names.append(column['name'])\n",
    "    return col_names\n",
    "\n",
    "get_columns_info('Employee')"
   ]
  },
  {
   "cell_type": "code",
   "execution_count": 227,
   "metadata": {
    "ExecuteTime": {
     "end_time": "2019-06-06T16:00:48.507467Z",
     "start_time": "2019-06-06T16:00:48.504278Z"
    },
    "collapsed": true
   },
   "outputs": [],
   "source": [
    "con = engine.connect()"
   ]
  },
  {
   "cell_type": "markdown",
   "metadata": {},
   "source": [
    "### Explore and Clean"
   ]
  },
  {
   "cell_type": "code",
   "execution_count": 228,
   "metadata": {
    "ExecuteTime": {
     "end_time": "2019-06-06T16:00:48.562215Z",
     "start_time": "2019-06-06T16:00:48.509227Z"
    }
   },
   "outputs": [
    {
     "name": "stdout",
     "output_type": "stream",
     "text": [
      "2019-06-06 11:00:48,518 INFO sqlalchemy.engine.base.Engine SELECT * FROM 'Product'\n",
      "2019-06-06 11:00:48,520 INFO sqlalchemy.engine.base.Engine ()\n",
      "2019-06-06 11:00:48,523 INFO sqlalchemy.engine.base.Engine PRAGMA table_info(\"Product\")\n",
      "2019-06-06 11:00:48,524 INFO sqlalchemy.engine.base.Engine ()\n",
      "2019-06-06 11:00:48,526 INFO sqlalchemy.engine.base.Engine SELECT * FROM 'OrderDetail'\n",
      "2019-06-06 11:00:48,527 INFO sqlalchemy.engine.base.Engine ()\n",
      "2019-06-06 11:00:48,536 INFO sqlalchemy.engine.base.Engine PRAGMA table_info(\"OrderDetail\")\n",
      "2019-06-06 11:00:48,537 INFO sqlalchemy.engine.base.Engine ()\n",
      "2019-06-06 11:00:48,539 INFO sqlalchemy.engine.base.Engine SELECT * FROM 'Order'\n",
      "2019-06-06 11:00:48,540 INFO sqlalchemy.engine.base.Engine ()\n",
      "2019-06-06 11:00:48,548 INFO sqlalchemy.engine.base.Engine PRAGMA table_info(\"Order\")\n",
      "2019-06-06 11:00:48,549 INFO sqlalchemy.engine.base.Engine ()\n"
     ]
    },
    {
     "data": {
      "text/html": [
       "<div>\n",
       "<style>\n",
       "    .dataframe thead tr:only-child th {\n",
       "        text-align: right;\n",
       "    }\n",
       "\n",
       "    .dataframe thead th {\n",
       "        text-align: left;\n",
       "    }\n",
       "\n",
       "    .dataframe tbody tr th {\n",
       "        vertical-align: top;\n",
       "    }\n",
       "</style>\n",
       "<table border=\"1\" class=\"dataframe\">\n",
       "  <thead>\n",
       "    <tr style=\"text-align: right;\">\n",
       "      <th></th>\n",
       "      <th>Id</th>\n",
       "      <th>ProductName</th>\n",
       "      <th>SupplierId</th>\n",
       "      <th>CategoryId</th>\n",
       "      <th>QuantityPerUnit</th>\n",
       "      <th>UnitPrice</th>\n",
       "      <th>UnitsInStock</th>\n",
       "      <th>UnitsOnOrder</th>\n",
       "      <th>ReorderLevel</th>\n",
       "      <th>Discontinued</th>\n",
       "    </tr>\n",
       "  </thead>\n",
       "  <tbody>\n",
       "    <tr>\n",
       "      <th>0</th>\n",
       "      <td>1</td>\n",
       "      <td>Chai</td>\n",
       "      <td>1</td>\n",
       "      <td>1</td>\n",
       "      <td>10 boxes x 20 bags</td>\n",
       "      <td>18.00</td>\n",
       "      <td>39</td>\n",
       "      <td>0</td>\n",
       "      <td>10</td>\n",
       "      <td>0</td>\n",
       "    </tr>\n",
       "    <tr>\n",
       "      <th>1</th>\n",
       "      <td>2</td>\n",
       "      <td>Chang</td>\n",
       "      <td>1</td>\n",
       "      <td>1</td>\n",
       "      <td>24 - 12 oz bottles</td>\n",
       "      <td>19.00</td>\n",
       "      <td>17</td>\n",
       "      <td>40</td>\n",
       "      <td>25</td>\n",
       "      <td>0</td>\n",
       "    </tr>\n",
       "    <tr>\n",
       "      <th>2</th>\n",
       "      <td>3</td>\n",
       "      <td>Aniseed Syrup</td>\n",
       "      <td>1</td>\n",
       "      <td>2</td>\n",
       "      <td>12 - 550 ml bottles</td>\n",
       "      <td>10.00</td>\n",
       "      <td>13</td>\n",
       "      <td>70</td>\n",
       "      <td>25</td>\n",
       "      <td>0</td>\n",
       "    </tr>\n",
       "    <tr>\n",
       "      <th>3</th>\n",
       "      <td>4</td>\n",
       "      <td>Chef Anton's Cajun Seasoning</td>\n",
       "      <td>2</td>\n",
       "      <td>2</td>\n",
       "      <td>48 - 6 oz jars</td>\n",
       "      <td>22.00</td>\n",
       "      <td>53</td>\n",
       "      <td>0</td>\n",
       "      <td>0</td>\n",
       "      <td>0</td>\n",
       "    </tr>\n",
       "    <tr>\n",
       "      <th>4</th>\n",
       "      <td>5</td>\n",
       "      <td>Chef Anton's Gumbo Mix</td>\n",
       "      <td>2</td>\n",
       "      <td>2</td>\n",
       "      <td>36 boxes</td>\n",
       "      <td>21.35</td>\n",
       "      <td>0</td>\n",
       "      <td>0</td>\n",
       "      <td>0</td>\n",
       "      <td>1</td>\n",
       "    </tr>\n",
       "  </tbody>\n",
       "</table>\n",
       "</div>"
      ],
      "text/plain": [
       "   Id                   ProductName  SupplierId  CategoryId  \\\n",
       "0   1                          Chai           1           1   \n",
       "1   2                         Chang           1           1   \n",
       "2   3                 Aniseed Syrup           1           2   \n",
       "3   4  Chef Anton's Cajun Seasoning           2           2   \n",
       "4   5        Chef Anton's Gumbo Mix           2           2   \n",
       "\n",
       "       QuantityPerUnit  UnitPrice  UnitsInStock  UnitsOnOrder  ReorderLevel  \\\n",
       "0   10 boxes x 20 bags      18.00            39             0            10   \n",
       "1   24 - 12 oz bottles      19.00            17            40            25   \n",
       "2  12 - 550 ml bottles      10.00            13            70            25   \n",
       "3       48 - 6 oz jars      22.00            53             0             0   \n",
       "4             36 boxes      21.35             0             0             0   \n",
       "\n",
       "   Discontinued  \n",
       "0             0  \n",
       "1             0  \n",
       "2             0  \n",
       "3             0  \n",
       "4             1  "
      ]
     },
     "execution_count": 228,
     "metadata": {},
     "output_type": "execute_result"
    }
   ],
   "source": [
    "def get_table_data(con, table_name):\n",
    "    \"\"\"Get the data from the given table\n",
    "    \n",
    "    Args:\n",
    "        con: Database connection\n",
    "        table_name: Name of the table (string)\n",
    "    \n",
    "    Returns:\n",
    "        Pandas Dataframe with the data from the table\n",
    "    \"\"\"\n",
    "    table = con.execute(\"SELECT * FROM '{}'\".format(table_name))\n",
    "    table_df = pd.DataFrame(table.fetchall())\n",
    "    col = get_column_names('{}'.format(table_name))\n",
    "    table_df.columns = col\n",
    "    return table_df\n",
    "\n",
    "\n",
    "products_df = get_table_data(con, 'Product')\n",
    "details_df = get_table_data(con, 'OrderDetail')\n",
    "orders_df = get_table_data(con, 'Order')\n",
    "\n",
    "products_df.head()"
   ]
  },
  {
   "cell_type": "code",
   "execution_count": 229,
   "metadata": {
    "ExecuteTime": {
     "end_time": "2019-06-06T16:00:48.575634Z",
     "start_time": "2019-06-06T16:00:48.563872Z"
    }
   },
   "outputs": [
    {
     "name": "stdout",
     "output_type": "stream",
     "text": [
      "         Id  OrderId  ProductId  UnitPrice  Quantity  Discount\n",
      "3  10249/14    10249         14       18.6         9       0.0\n",
      "4  10249/51    10249         51       42.4        40       0.0\n",
      "           Id  OrderId  ProductId  UnitPrice  Quantity  Discount\n",
      "30    10258/5    10258          5      17.00        65      0.20\n",
      "40    10262/5    10262          5      17.00        12      0.20\n",
      "111   10290/5    10290          5      17.00        20      0.00\n",
      "352   10382/5    10382          5      17.00        32      0.00\n",
      "1022  10635/5    10635          5      21.35        15      0.10\n",
      "1212  10708/5    10708          5      21.35         4      0.00\n",
      "1575  10848/5    10848          5      21.35        30      0.00\n",
      "1840  10958/5    10958          5      21.35        20      0.00\n",
      "2018  11030/5    11030          5      21.35        70      0.00\n",
      "2061  11047/5    11047          5      21.35        30      0.25\n"
     ]
    }
   ],
   "source": [
    "print(details_df.loc[details_df['OrderId'] == 10249])\n",
    "print(details_df.loc[details_df['ProductId'] == 5])"
   ]
  },
  {
   "cell_type": "markdown",
   "metadata": {},
   "source": [
    "Filtering details_df by OrderId shows that each record in the `OrderDetail` table describes one product within one order. So, each observation in `Order` table will have one or more observations in the `OrderDetail` table. This means we don't need the `Orders` table as it mainly describes details about the shippment and not what's in the order. \n",
    "\n",
    "When looking at all the observations of the same product in the `OrderDetail` table shows that the company didn't always use the price listed in the `Product` table's `UnitPrice`. The quantities and discount levels don't seem to be causing the difference and it's not the average price. So we'll assume the `Product` table's `UnitPrice` to be the suggested price and therefore isn't relevant for what we're trying to acomplish.\n",
    "\n",
    "This just leaves us with the `OrderDetail` table. We'll drop the columns we won't need to clean up the DataFrame."
   ]
  },
  {
   "cell_type": "code",
   "execution_count": 230,
   "metadata": {
    "ExecuteTime": {
     "end_time": "2019-06-06T16:00:48.588416Z",
     "start_time": "2019-06-06T16:00:48.577493Z"
    }
   },
   "outputs": [
    {
     "data": {
      "text/html": [
       "<div>\n",
       "<style>\n",
       "    .dataframe thead tr:only-child th {\n",
       "        text-align: right;\n",
       "    }\n",
       "\n",
       "    .dataframe thead th {\n",
       "        text-align: left;\n",
       "    }\n",
       "\n",
       "    .dataframe tbody tr th {\n",
       "        vertical-align: top;\n",
       "    }\n",
       "</style>\n",
       "<table border=\"1\" class=\"dataframe\">\n",
       "  <thead>\n",
       "    <tr style=\"text-align: right;\">\n",
       "      <th></th>\n",
       "      <th>OrderId</th>\n",
       "      <th>ProductId</th>\n",
       "      <th>UnitPrice</th>\n",
       "      <th>Quantity</th>\n",
       "      <th>Discount</th>\n",
       "    </tr>\n",
       "  </thead>\n",
       "  <tbody>\n",
       "    <tr>\n",
       "      <th>0</th>\n",
       "      <td>10248</td>\n",
       "      <td>11</td>\n",
       "      <td>14.0</td>\n",
       "      <td>12</td>\n",
       "      <td>0.0</td>\n",
       "    </tr>\n",
       "    <tr>\n",
       "      <th>1</th>\n",
       "      <td>10248</td>\n",
       "      <td>42</td>\n",
       "      <td>9.8</td>\n",
       "      <td>10</td>\n",
       "      <td>0.0</td>\n",
       "    </tr>\n",
       "    <tr>\n",
       "      <th>2</th>\n",
       "      <td>10248</td>\n",
       "      <td>72</td>\n",
       "      <td>34.8</td>\n",
       "      <td>5</td>\n",
       "      <td>0.0</td>\n",
       "    </tr>\n",
       "    <tr>\n",
       "      <th>3</th>\n",
       "      <td>10249</td>\n",
       "      <td>14</td>\n",
       "      <td>18.6</td>\n",
       "      <td>9</td>\n",
       "      <td>0.0</td>\n",
       "    </tr>\n",
       "    <tr>\n",
       "      <th>4</th>\n",
       "      <td>10249</td>\n",
       "      <td>51</td>\n",
       "      <td>42.4</td>\n",
       "      <td>40</td>\n",
       "      <td>0.0</td>\n",
       "    </tr>\n",
       "  </tbody>\n",
       "</table>\n",
       "</div>"
      ],
      "text/plain": [
       "   OrderId  ProductId  UnitPrice  Quantity  Discount\n",
       "0    10248         11       14.0        12       0.0\n",
       "1    10248         42        9.8        10       0.0\n",
       "2    10248         72       34.8         5       0.0\n",
       "3    10249         14       18.6         9       0.0\n",
       "4    10249         51       42.4        40       0.0"
      ]
     },
     "execution_count": 230,
     "metadata": {},
     "output_type": "execute_result"
    }
   ],
   "source": [
    "df = details_df.drop(['Id'], axis=1)\n",
    "df.head()"
   ]
  },
  {
   "cell_type": "code",
   "execution_count": 231,
   "metadata": {
    "ExecuteTime": {
     "end_time": "2019-06-06T16:00:48.596649Z",
     "start_time": "2019-06-06T16:00:48.590120Z"
    }
   },
   "outputs": [
    {
     "data": {
      "text/plain": [
       "0.00    1317\n",
       "0.05     185\n",
       "0.10     173\n",
       "0.20     161\n",
       "0.15     157\n",
       "0.25     154\n",
       "0.03       3\n",
       "0.02       2\n",
       "0.01       1\n",
       "0.04       1\n",
       "0.06       1\n",
       "Name: Discount, dtype: int64"
      ]
     },
     "execution_count": 231,
     "metadata": {},
     "output_type": "execute_result"
    }
   ],
   "source": [
    "df['ProductId'].value_counts()\n",
    "df['Discount'].value_counts()"
   ]
  },
  {
   "cell_type": "markdown",
   "metadata": {},
   "source": [
    "**Scrub Data**\n",
    "\n",
    "Looking at the values we have in each column, there are some discount values that don't have enough observations to make any statistical inferences. We'll drop all rows that contain the following values:\n",
    "- 0.01\n",
    "- 0.02\n",
    "- 0.03\n",
    "- 0.04\n",
    "- 0.06"
   ]
  },
  {
   "cell_type": "code",
   "execution_count": 232,
   "metadata": {
    "ExecuteTime": {
     "end_time": "2019-06-06T16:00:48.606237Z",
     "start_time": "2019-06-06T16:00:48.598564Z"
    }
   },
   "outputs": [
    {
     "data": {
      "text/plain": [
       "0.00    1317\n",
       "0.05     185\n",
       "0.10     173\n",
       "0.20     161\n",
       "0.15     157\n",
       "0.25     154\n",
       "Name: Discount, dtype: int64"
      ]
     },
     "execution_count": 232,
     "metadata": {},
     "output_type": "execute_result"
    }
   ],
   "source": [
    "drop_list = [0.01, 0.02, 0.03, 0.04, 0.06]\n",
    "df = df[~df['Discount'].isin(drop_list) ]\n",
    "df['Discount'].value_counts()"
   ]
  },
  {
   "cell_type": "markdown",
   "metadata": {},
   "source": [
    "### Experimental Design"
   ]
  },
  {
   "cell_type": "markdown",
   "metadata": {},
   "source": [
    "**Normality**"
   ]
  },
  {
   "cell_type": "markdown",
   "metadata": {},
   "source": [
    "**Independence**"
   ]
  },
  {
   "cell_type": "markdown",
   "metadata": {},
   "source": [
    "**Random**"
   ]
  },
  {
   "cell_type": "markdown",
   "metadata": {},
   "source": [
    "#### Get Samples"
   ]
  },
  {
   "cell_type": "code",
   "execution_count": 233,
   "metadata": {
    "ExecuteTime": {
     "end_time": "2019-06-06T16:00:48.716632Z",
     "start_time": "2019-06-06T16:00:48.703537Z"
    }
   },
   "outputs": [
    {
     "data": {
      "text/html": [
       "<div>\n",
       "<style>\n",
       "    .dataframe thead tr:only-child th {\n",
       "        text-align: right;\n",
       "    }\n",
       "\n",
       "    .dataframe thead th {\n",
       "        text-align: left;\n",
       "    }\n",
       "\n",
       "    .dataframe tbody tr th {\n",
       "        vertical-align: top;\n",
       "    }\n",
       "</style>\n",
       "<table border=\"1\" class=\"dataframe\">\n",
       "  <thead>\n",
       "    <tr style=\"text-align: right;\">\n",
       "      <th></th>\n",
       "      <th>OrderId</th>\n",
       "      <th>ProductId</th>\n",
       "      <th>UnitPrice</th>\n",
       "      <th>Quantity</th>\n",
       "      <th>Discount</th>\n",
       "    </tr>\n",
       "  </thead>\n",
       "  <tbody>\n",
       "    <tr>\n",
       "      <th>6</th>\n",
       "      <td>10250</td>\n",
       "      <td>51</td>\n",
       "      <td>42.4</td>\n",
       "      <td>35</td>\n",
       "      <td>0.15</td>\n",
       "    </tr>\n",
       "    <tr>\n",
       "      <th>7</th>\n",
       "      <td>10250</td>\n",
       "      <td>65</td>\n",
       "      <td>16.8</td>\n",
       "      <td>15</td>\n",
       "      <td>0.15</td>\n",
       "    </tr>\n",
       "    <tr>\n",
       "      <th>8</th>\n",
       "      <td>10251</td>\n",
       "      <td>22</td>\n",
       "      <td>16.8</td>\n",
       "      <td>6</td>\n",
       "      <td>0.05</td>\n",
       "    </tr>\n",
       "    <tr>\n",
       "      <th>9</th>\n",
       "      <td>10251</td>\n",
       "      <td>57</td>\n",
       "      <td>15.6</td>\n",
       "      <td>15</td>\n",
       "      <td>0.05</td>\n",
       "    </tr>\n",
       "    <tr>\n",
       "      <th>11</th>\n",
       "      <td>10252</td>\n",
       "      <td>20</td>\n",
       "      <td>64.8</td>\n",
       "      <td>40</td>\n",
       "      <td>0.05</td>\n",
       "    </tr>\n",
       "  </tbody>\n",
       "</table>\n",
       "</div>"
      ],
      "text/plain": [
       "    OrderId  ProductId  UnitPrice  Quantity  Discount\n",
       "6     10250         51       42.4        35      0.15\n",
       "7     10250         65       16.8        15      0.15\n",
       "8     10251         22       16.8         6      0.05\n",
       "9     10251         57       15.6        15      0.05\n",
       "11    10252         20       64.8        40      0.05"
      ]
     },
     "execution_count": 233,
     "metadata": {},
     "output_type": "execute_result"
    }
   ],
   "source": [
    "treatment = df.loc[df['Discount'] != 0]\n",
    "control = df.loc[df['Discount'] == 0]\n",
    "treatment['Discount'].value_counts()\n",
    "treatment.head()"
   ]
  },
  {
   "cell_type": "code",
   "execution_count": 234,
   "metadata": {
    "ExecuteTime": {
     "end_time": "2019-06-06T16:00:52.479934Z",
     "start_time": "2019-06-06T16:00:48.718484Z"
    }
   },
   "outputs": [
    {
     "data": {
      "text/plain": [
       "Text(0, 0.5, 'Proportion')"
      ]
     },
     "execution_count": 234,
     "metadata": {},
     "output_type": "execute_result"
    },
    {
     "data": {
      "image/png": "[encoded data removed]",
      "text/plain": [
       "<Figure size 864x648 with 1 Axes>"
      ]
     },
     "metadata": {},
     "output_type": "display_data"
    }
   ],
   "source": [
    "def get_pop_mean(group, size=10000):\n",
    "    \"\"\"Get the population mean by using the central limit theorem\n",
    "    \n",
    "    Args:\n",
    "        group: (pd.Series) observations, must be numerical\n",
    "        size: (int) size of distribution\n",
    "    \n",
    "    Returns:\n",
    "        float: population mean\n",
    "    \"\"\"\n",
    "    xbars = []\n",
    "    for i in range(size):\n",
    "        xbars.append(np.mean(group.sample(n=40)))\n",
    "    return xbars\n",
    "\n",
    "control_quantity_dist = get_pop_mean(control.Quantity)\n",
    "treatment_quantity_dist = get_pop_mean(treatment.Quantity)\n",
    "\n",
    "plt.figure(figsize=(12,9))\n",
    "sns.distplot(control_quantity_dist, label='Control Group')\n",
    "sns.distplot(treatment_quantity_dist, label='Treatment Group')\n",
    "plt.legend()\n",
    "plt.title('Sample Mean Distributions, Control vs. Treatment')\n",
    "plt.xlabel('Quantity of Products Ordered')\n",
    "plt.ylabel('Proportion')"
   ]
  },
  {
   "cell_type": "markdown",
   "metadata": {},
   "source": [
    "Visually inspecting the population mean distributions, the discounted group looks different from the control group but there is a fair amount of overlap between the two.\n",
    "\n",
    "#### T Test\n",
    "\n",
    "To make sure our two groups have a statistically significant difference, we'll run a t-test using the stats library.\n",
    "\n",
    "**Form Hypothesis**\n",
    "\n",
    "Now that we have our treament and control datasets, we can execute our hypothesis test.\n",
    "\n",
    "$H_o: \\mu_t = \\mu_c$\n",
    "\n",
    "$H_a: \\mu_t > \\mu_c$\n",
    "\n",
    "$\\alpha$ = 0.05\n",
    "\n",
    "**Conduct Experiment**\n",
    "\n",
    "We'll take a sample from our control and treatment groups and run a one-sided, two-sample hypothesis test with an alpha level of 0.05."
   ]
  },
  {
   "cell_type": "code",
   "execution_count": 235,
   "metadata": {
    "ExecuteTime": {
     "end_time": "2019-06-06T16:00:52.493692Z",
     "start_time": "2019-06-06T16:00:52.481790Z"
    }
   },
   "outputs": [
    {
     "name": "stdout",
     "output_type": "stream",
     "text": [
      "reject null hypothesis, mean of Discounted Quantities is greater than mean of Nondiscounted Quantities\n"
     ]
    }
   ],
   "source": [
    "sample_t = pd.DataFrame(treatment_quantity_dist).sample(n = 50, random_state=10)\n",
    "sample_c = pd.DataFrame(control_quantity_dist).sample(n = 50, random_state=10)\n",
    "results = stats.ttest_rel(sample_t, sample_c)\n",
    "alpha = 0.05\n",
    "if (results[0] > 0) & (results[1]/2 < alpha):\n",
    "    print(\"reject null hypothesis, mean of {} is greater than mean of {}\".format('Discounted Quantities','Nondiscounted Quantities'))\n",
    "else:\n",
    "    print(\"fail to reject null hypothesis\")"
   ]
  },
  {
   "cell_type": "markdown",
   "metadata": {},
   "source": [
    "#### Analyze Results\n",
    "We have significant evidence to reject the null hypothsis that the mean quanitites of discount orders is equal to the mean quantities on nondiscounted orders. \n",
    "\n",
    "#### ANOVA\n",
    "**Determine if the level of discount effects quantities purchased**\n",
    "\n",
    "Now that we have accepted that discounts do increase the quantity of items purchased, we need to figure out at what discount level is the effect most significant. We'll start with an ANOVA test to figure out if there is a difference in effect between the different levels of discounts.\n",
    "\n",
    "\n",
    "**Form Hypothesis**\n",
    "$H_o: \\mu_{0.05} = \\mu_{0.10} = \\mu_{0.15} = \\mu_{0.20} = \\mu_{0.25}$ \n",
    "\n",
    "$H_a: \\mu_{0.05} != \\mu_{0.10} != \\mu_{0.15} != \\mu_{0.20} != \\mu_{0.25}$ \n",
    "\n",
    "**Sample Different Discount Rates**\n",
    "\n"
   ]
  },
  {
   "cell_type": "code",
   "execution_count": 236,
   "metadata": {
    "ExecuteTime": {
     "end_time": "2019-06-06T16:00:52.530796Z",
     "start_time": "2019-06-06T16:00:52.499516Z"
    }
   },
   "outputs": [
    {
     "data": {
      "text/html": [
       "<div>\n",
       "<style>\n",
       "    .dataframe thead tr:only-child th {\n",
       "        text-align: right;\n",
       "    }\n",
       "\n",
       "    .dataframe thead th {\n",
       "        text-align: left;\n",
       "    }\n",
       "\n",
       "    .dataframe tbody tr th {\n",
       "        vertical-align: top;\n",
       "    }\n",
       "</style>\n",
       "<table border=\"1\" class=\"dataframe\">\n",
       "  <thead>\n",
       "    <tr style=\"text-align: right;\">\n",
       "      <th></th>\n",
       "      <th>0.05</th>\n",
       "      <th>0.10</th>\n",
       "      <th>0.15</th>\n",
       "      <th>0.20</th>\n",
       "      <th>0.25</th>\n",
       "    </tr>\n",
       "  </thead>\n",
       "  <tbody>\n",
       "    <tr>\n",
       "      <th>0</th>\n",
       "      <td>12</td>\n",
       "      <td>20</td>\n",
       "      <td>24</td>\n",
       "      <td>40</td>\n",
       "      <td>20</td>\n",
       "    </tr>\n",
       "    <tr>\n",
       "      <th>1</th>\n",
       "      <td>28</td>\n",
       "      <td>18</td>\n",
       "      <td>70</td>\n",
       "      <td>55</td>\n",
       "      <td>2</td>\n",
       "    </tr>\n",
       "    <tr>\n",
       "      <th>2</th>\n",
       "      <td>24</td>\n",
       "      <td>18</td>\n",
       "      <td>40</td>\n",
       "      <td>6</td>\n",
       "      <td>12</td>\n",
       "    </tr>\n",
       "    <tr>\n",
       "      <th>3</th>\n",
       "      <td>8</td>\n",
       "      <td>15</td>\n",
       "      <td>10</td>\n",
       "      <td>30</td>\n",
       "      <td>20</td>\n",
       "    </tr>\n",
       "    <tr>\n",
       "      <th>4</th>\n",
       "      <td>2</td>\n",
       "      <td>10</td>\n",
       "      <td>16</td>\n",
       "      <td>45</td>\n",
       "      <td>30</td>\n",
       "    </tr>\n",
       "  </tbody>\n",
       "</table>\n",
       "</div>"
      ],
      "text/plain": [
       "   0.05  0.10  0.15  0.20  0.25\n",
       "0    12    20    24    40    20\n",
       "1    28    18    70    55     2\n",
       "2    24    18    40     6    12\n",
       "3     8    15    10    30    20\n",
       "4     2    10    16    45    30"
      ]
     },
     "execution_count": 236,
     "metadata": {},
     "output_type": "execute_result"
    }
   ],
   "source": [
    "five = treatment.loc[treatment['Discount'] == 0.05]\n",
    "ten = treatment.loc[treatment['Discount'] == 0.10]\n",
    "fifteen = treatment.loc[treatment['Discount'] == 0.15]\n",
    "twenty = treatment.loc[treatment['Discount'] == 0.20]\n",
    "twentyfive = treatment.loc[treatment['Discount'] == 0.25]\n",
    "\n",
    "data = pd.DataFrame()\n",
    "\n",
    "for group, name in [(five, '0.05'), (ten, '0.10'), (fifteen, '0.15'), (twenty, '0.20'), (twentyfive, '0.25')]:\n",
    "    group = group.sample(n=50, random_state=10)\n",
    "    data[name] = group.Quantity.reset_index(drop=True)\n",
    "data.head()"
   ]
  },
  {
   "cell_type": "code",
   "execution_count": 237,
   "metadata": {
    "ExecuteTime": {
     "end_time": "2019-06-06T16:00:52.922015Z",
     "start_time": "2019-06-06T16:00:52.533513Z"
    }
   },
   "outputs": [
    {
     "name": "stderr",
     "output_type": "stream",
     "text": [
      "/Users/joe/anaconda3/lib/python3.6/site-packages/matplotlib/figure.py:445: UserWarning: Matplotlib is currently using module://ipykernel.pylab.backend_inline, which is a non-GUI backend, so cannot show the figure.\n",
      "  % get_backend())\n"
     ]
    },
    {
     "data": {
      "image/png": "[encoded data removed]",
      "text/plain": [
       "<Figure size 864x648 with 1 Axes>"
      ]
     },
     "metadata": {},
     "output_type": "display_data"
    }
   ],
   "source": [
    "fig, ax = plt.subplots(1, 1, figsize=(12,9))\n",
    "for i in data.columns:\n",
    "    data[i].plot(kind='density')\n",
    "plt.legend()\n",
    "plt.xlabel('Quantity of Items Purchased')\n",
    "fig.show()"
   ]
  },
  {
   "cell_type": "code",
   "execution_count": 238,
   "metadata": {
    "ExecuteTime": {
     "end_time": "2019-06-06T16:00:52.929602Z",
     "start_time": "2019-06-06T16:00:52.924088Z"
    }
   },
   "outputs": [
    {
     "data": {
      "text/plain": [
       "F_onewayResult(statistic=0.22583337048873584, pvalue=0.92379289841810175)"
      ]
     },
     "execution_count": 238,
     "metadata": {},
     "output_type": "execute_result"
    }
   ],
   "source": [
    "# One-way ANOVA test\n",
    "stats.f_oneway(data['0.05'], data['0.10'], data['0.15'], data['0.20'], data['0.25'])"
   ]
  },
  {
   "cell_type": "markdown",
   "metadata": {},
   "source": [
    "**Analyze Results**\n",
    "\n",
    "Our F-statistic of 0.2258 suggests the between-groups variance is roughly 1/4 of the within-group variance. We fail to reject the null hypothesis of equal mean values  due to the p value being > 0.05. \n",
    "\n",
    "#### Conclusion\n",
    "\n",
    "These results aren't surprising considering the density plots of our samples. They are visually close to identical so our recommendation is to stick with low levels of discounts as there is no evidence to say that increasing the discount level will increase the quantity bought, so it just reduces the revenue earned."
   ]
  },
  {
   "cell_type": "markdown",
   "metadata": {},
   "source": [
    "## Hypothesis Testing\n",
    "### Is the business seasonal?\n",
    "  * *Helpful Links*:\n",
    "\n",
    "  * *Data Needed*:\n",
    "    * Month\n",
    "    * Year\n",
    "    * Total Revenue"
   ]
  },
  {
   "cell_type": "code",
   "execution_count": 313,
   "metadata": {
    "ExecuteTime": {
     "end_time": "2019-06-07T20:44:35.072764Z",
     "start_time": "2019-06-07T20:44:35.036524Z"
    }
   },
   "outputs": [
    {
     "name": "stdout",
     "output_type": "stream",
     "text": [
      "2019-06-07 15:44:35,046 INFO sqlalchemy.engine.base.Engine SELECT * FROM 'Order'\n",
      "2019-06-07 15:44:35,047 INFO sqlalchemy.engine.base.Engine ()\n",
      "2019-06-07 15:44:35,055 INFO sqlalchemy.engine.base.Engine SELECT * FROM 'OrderDetail'\n",
      "2019-06-07 15:44:35,056 INFO sqlalchemy.engine.base.Engine ()\n"
     ]
    }
   ],
   "source": [
    "# Get data\n",
    "orders = get_table_data(con, 'Order')\n",
    "details = get_table_data(con, 'OrderDetail')\n",
    "# Drop unwanted calumns\n",
    "orders = orders.drop(['CustomerId', 'EmployeeId', 'RequiredDate', 'ShippedDate', 'ShipVia', 'Freight', 'ShipName', 'ShipAddress', 'ShipCity', 'ShipRegion', 'ShipPostalCode', 'ShipCountry'], axis=1)\n",
    "details = details.drop(['Id'], axis=1)\n",
    "\n",
    "# Data Manipulation\n",
    "orders['OrderDate'] = pd.to_datetime(orders['OrderDate'])\n",
    "orders['Year'] = orders['OrderDate'].dt.year\n",
    "orders['Month'] = orders['OrderDate'].dt.month\n",
    "details['Revenue'] = details['UnitPrice'] * details['Quantity'] * (1 - details['Discount'])\n",
    "details = details.drop(['UnitPrice', 'Quantity', 'Discount'], axis=1)\n"
   ]
  },
  {
   "cell_type": "markdown",
   "metadata": {},
   "source": [
    "#### Data Exploration\n",
    "\n",
    "Now we have all the data we need to run an expirment. We'll need to merge the two DataFrames but first we'll look at a bar graph to see if there is any visual evidence to our claim."
   ]
  },
  {
   "cell_type": "code",
   "execution_count": 339,
   "metadata": {
    "ExecuteTime": {
     "end_time": "2019-06-08T15:44:19.159491Z",
     "start_time": "2019-06-08T15:44:18.795071Z"
    }
   },
   "outputs": [
    {
     "data": {
      "text/plain": [
       "Text(0.5, 1.0, 'Number of Orders by Month')"
      ]
     },
     "execution_count": 339,
     "metadata": {},
     "output_type": "execute_result"
    },
    {
     "data": {
      "image/png": "[encoded data removed]",
      "text/plain": [
       "<Figure size 864x648 with 1 Axes>"
      ]
     },
     "metadata": {},
     "output_type": "display_data"
    }
   ],
   "source": [
    "orders_by_month = pd.DataFrame(orders.Month.value_counts())\n",
    "orders_by_month.sort_index(inplace=True)\n",
    "\n",
    "# plt.figure(figsize=(12,9))\n",
    "# sns.set_palette(sns.color_palette(\"Blues_d\"))\n",
    "# sns.set(rc={\"figure.figsize\": (12,9)}, palette='viridis')\n",
    "# sns.set_palette('viridis')\n",
    "\n",
    "sns.barplot(x=orders_by_month.index, y=orders_by_month['Month'], palette='viridis')\n",
    "# plt.bar(orders_by_month.index, orders_by_month['Month'])\n",
    "plt.xlabel('Months - January through December')\n",
    "plt.ylabel('Number of Orders')\n",
    "plt.title('Number of Orders by Month')"
   ]
  },
  {
   "cell_type": "markdown",
   "metadata": {},
   "source": [
    "There does seem to ba seasonality to the number of orders placed but that doesn't necessarily mean that revenues are higher in any given period. Our next step is to join our two DataFrames so we can access all the data we need in one DataFrame."
   ]
  },
  {
   "cell_type": "code",
   "execution_count": 315,
   "metadata": {
    "ExecuteTime": {
     "end_time": "2019-06-07T20:44:36.686803Z",
     "start_time": "2019-06-07T20:44:36.670207Z"
    }
   },
   "outputs": [
    {
     "data": {
      "text/html": [
       "<div>\n",
       "<style>\n",
       "    .dataframe thead tr:only-child th {\n",
       "        text-align: right;\n",
       "    }\n",
       "\n",
       "    .dataframe thead th {\n",
       "        text-align: left;\n",
       "    }\n",
       "\n",
       "    .dataframe tbody tr th {\n",
       "        vertical-align: top;\n",
       "    }\n",
       "</style>\n",
       "<table border=\"1\" class=\"dataframe\">\n",
       "  <thead>\n",
       "    <tr style=\"text-align: right;\">\n",
       "      <th></th>\n",
       "      <th>Id</th>\n",
       "      <th>OrderDate</th>\n",
       "      <th>Year</th>\n",
       "      <th>Month</th>\n",
       "      <th>ProductId</th>\n",
       "      <th>Revenue</th>\n",
       "    </tr>\n",
       "  </thead>\n",
       "  <tbody>\n",
       "    <tr>\n",
       "      <th>0</th>\n",
       "      <td>10248</td>\n",
       "      <td>2012-07-04</td>\n",
       "      <td>2012</td>\n",
       "      <td>7</td>\n",
       "      <td>11</td>\n",
       "      <td>168.0</td>\n",
       "    </tr>\n",
       "    <tr>\n",
       "      <th>1</th>\n",
       "      <td>10248</td>\n",
       "      <td>2012-07-04</td>\n",
       "      <td>2012</td>\n",
       "      <td>7</td>\n",
       "      <td>42</td>\n",
       "      <td>98.0</td>\n",
       "    </tr>\n",
       "    <tr>\n",
       "      <th>2</th>\n",
       "      <td>10248</td>\n",
       "      <td>2012-07-04</td>\n",
       "      <td>2012</td>\n",
       "      <td>7</td>\n",
       "      <td>72</td>\n",
       "      <td>174.0</td>\n",
       "    </tr>\n",
       "    <tr>\n",
       "      <th>3</th>\n",
       "      <td>10249</td>\n",
       "      <td>2012-07-05</td>\n",
       "      <td>2012</td>\n",
       "      <td>7</td>\n",
       "      <td>14</td>\n",
       "      <td>167.4</td>\n",
       "    </tr>\n",
       "    <tr>\n",
       "      <th>4</th>\n",
       "      <td>10249</td>\n",
       "      <td>2012-07-05</td>\n",
       "      <td>2012</td>\n",
       "      <td>7</td>\n",
       "      <td>51</td>\n",
       "      <td>1696.0</td>\n",
       "    </tr>\n",
       "  </tbody>\n",
       "</table>\n",
       "</div>"
      ],
      "text/plain": [
       "      Id  OrderDate  Year  Month  ProductId  Revenue\n",
       "0  10248 2012-07-04  2012      7         11    168.0\n",
       "1  10248 2012-07-04  2012      7         42     98.0\n",
       "2  10248 2012-07-04  2012      7         72    174.0\n",
       "3  10249 2012-07-05  2012      7         14    167.4\n",
       "4  10249 2012-07-05  2012      7         51   1696.0"
      ]
     },
     "execution_count": 315,
     "metadata": {},
     "output_type": "execute_result"
    }
   ],
   "source": [
    "details['Id'] = details['OrderId']\n",
    "details.drop(['OrderId'], axis=1, inplace=True)\n",
    "result = pd.merge(orders, details, how='inner', on='Id')\n",
    "result.head()"
   ]
  },
  {
   "cell_type": "code",
   "execution_count": 316,
   "metadata": {
    "ExecuteTime": {
     "end_time": "2019-06-07T20:44:37.556586Z",
     "start_time": "2019-06-07T20:44:37.111843Z"
    }
   },
   "outputs": [
    {
     "data": {
      "text/plain": [
       "Text(0.5, 1.0, 'Revenue by Month')"
      ]
     },
     "execution_count": 316,
     "metadata": {},
     "output_type": "execute_result"
    },
    {
     "data": {
      "image/png": "[encoded data removed]",
      "text/plain": [
       "<Figure size 864x648 with 1 Axes>"
      ]
     },
     "metadata": {},
     "output_type": "display_data"
    }
   ],
   "source": [
    "plt.figure(figsize=(12,9))\n",
    "result.groupby(['Year', 'Month'])['Revenue'].sum().plot(kind='bar')\n",
    "plt.ylabel('Revenue')\n",
    "plt.title('Revenue by Month')"
   ]
  },
  {
   "cell_type": "markdown",
   "metadata": {},
   "source": [
    "Looking at the results of revenue per month, we see there is a general trend of revenue growth. To make sure we aren't just capturing this overal growth, we'll calculate a regression line for the growth month over month and run ANOVA to analyze the variance between the projected revenue and the actual revenue.\n",
    "\n",
    "Additionally, May 2014 seems unusually low. I'll check to make sure that the whole month's sales were included and that the tracking didn't get cut off mid month.\n",
    "\n",
    "#### Scrubbing"
   ]
  },
  {
   "cell_type": "code",
   "execution_count": 317,
   "metadata": {
    "ExecuteTime": {
     "end_time": "2019-06-07T20:44:37.981691Z",
     "start_time": "2019-06-07T20:44:37.962972Z"
    }
   },
   "outputs": [
    {
     "data": {
      "text/plain": [
       "2014-05-06    32\n",
       "2014-05-05    12\n",
       "2014-05-01    10\n",
       "2014-05-04     5\n",
       "Name: OrderDate, dtype: int64"
      ]
     },
     "execution_count": 317,
     "metadata": {},
     "output_type": "execute_result"
    }
   ],
   "source": [
    "result.loc[(result['Year'] == 2014) & (result['Month'] == 5)]['OrderDate'].value_counts()"
   ]
  },
  {
   "cell_type": "markdown",
   "metadata": {},
   "source": [
    "There are only four days in which orders were placed with the last day being the 6th of the month. Most likely they stopped collecting data on that day, so we don't have the whole month's data to work with. We'll drop any observations that was in that month."
   ]
  },
  {
   "cell_type": "code",
   "execution_count": 318,
   "metadata": {
    "ExecuteTime": {
     "end_time": "2019-06-07T20:44:39.079645Z",
     "start_time": "2019-06-07T20:44:39.059607Z"
    }
   },
   "outputs": [
    {
     "data": {
      "text/plain": [
       "Series([], Name: OrderDate, dtype: int64)"
      ]
     },
     "execution_count": 318,
     "metadata": {},
     "output_type": "execute_result"
    }
   ],
   "source": [
    "unwanted_rows = result[(result['Year'] == 2014) & (result['Month'] == 5)]\n",
    "df = pd.concat([result, unwanted_rows])\n",
    "df.drop_duplicates(keep=False, inplace=True)\n",
    "unwanted_rows.OrderDate.value_counts()\n",
    "\n",
    "df.loc[(df['Year'] == 2014) & (df['Month'] == 5)]['OrderDate'].value_counts()\n"
   ]
  },
  {
   "cell_type": "code",
   "execution_count": 319,
   "metadata": {
    "ExecuteTime": {
     "end_time": "2019-06-07T20:44:39.520223Z",
     "start_time": "2019-06-07T20:44:39.504989Z"
    }
   },
   "outputs": [
    {
     "data": {
      "text/html": [
       "<div>\n",
       "<style>\n",
       "    .dataframe thead tr:only-child th {\n",
       "        text-align: right;\n",
       "    }\n",
       "\n",
       "    .dataframe thead th {\n",
       "        text-align: left;\n",
       "    }\n",
       "\n",
       "    .dataframe tbody tr th {\n",
       "        vertical-align: top;\n",
       "    }\n",
       "</style>\n",
       "<table border=\"1\" class=\"dataframe\">\n",
       "  <thead>\n",
       "    <tr style=\"text-align: right;\">\n",
       "      <th></th>\n",
       "      <th></th>\n",
       "      <th>Revenue</th>\n",
       "    </tr>\n",
       "    <tr>\n",
       "      <th>Year</th>\n",
       "      <th>Season</th>\n",
       "      <th></th>\n",
       "    </tr>\n",
       "  </thead>\n",
       "  <tbody>\n",
       "    <tr>\n",
       "      <th rowspan=\"3\" valign=\"top\">2012</th>\n",
       "      <th>Fall</th>\n",
       "      <td>109497.1700</td>\n",
       "    </tr>\n",
       "    <tr>\n",
       "      <th>Summer</th>\n",
       "      <td>53347.1700</td>\n",
       "    </tr>\n",
       "    <tr>\n",
       "      <th>Winter</th>\n",
       "      <td>45239.6300</td>\n",
       "    </tr>\n",
       "    <tr>\n",
       "      <th rowspan=\"4\" valign=\"top\">2013</th>\n",
       "      <th>Fall</th>\n",
       "      <td>165912.2775</td>\n",
       "    </tr>\n",
       "    <tr>\n",
       "      <th>Spring</th>\n",
       "      <td>145361.4625</td>\n",
       "    </tr>\n",
       "    <tr>\n",
       "      <th>Summer</th>\n",
       "      <td>134671.3300</td>\n",
       "    </tr>\n",
       "    <tr>\n",
       "      <th>Winter</th>\n",
       "      <td>171140.1335</td>\n",
       "    </tr>\n",
       "    <tr>\n",
       "      <th rowspan=\"2\" valign=\"top\">2014</th>\n",
       "      <th>Spring</th>\n",
       "      <td>228652.8375</td>\n",
       "    </tr>\n",
       "    <tr>\n",
       "      <th>Winter</th>\n",
       "      <td>193637.3980</td>\n",
       "    </tr>\n",
       "  </tbody>\n",
       "</table>\n",
       "</div>"
      ],
      "text/plain": [
       "                 Revenue\n",
       "Year Season             \n",
       "2012 Fall    109497.1700\n",
       "     Summer   53347.1700\n",
       "     Winter   45239.6300\n",
       "2013 Fall    165912.2775\n",
       "     Spring  145361.4625\n",
       "     Summer  134671.3300\n",
       "     Winter  171140.1335\n",
       "2014 Spring  228652.8375\n",
       "     Winter  193637.3980"
      ]
     },
     "execution_count": 319,
     "metadata": {},
     "output_type": "execute_result"
    }
   ],
   "source": [
    "# add a season column to later sort by\n",
    "seasons = {1: 'Winter',\n",
    "          2: 'Winter',\n",
    "          3: 'Spring',\n",
    "          4: 'Spring',\n",
    "          5: 'Spring',\n",
    "          6: 'Summer',\n",
    "          7: 'Summer',\n",
    "          8: 'Summer',\n",
    "          9: 'Fall',\n",
    "          10: 'Fall',\n",
    "          11: 'Fall',\n",
    "          12: 'Winter'}\n",
    "df['Season'] = df['Month'].map(seasons)\n",
    "pd.DataFrame(df.groupby(['Year', 'Season'])['Revenue'].sum())\n"
   ]
  },
  {
   "cell_type": "code",
   "execution_count": 320,
   "metadata": {
    "ExecuteTime": {
     "end_time": "2019-06-07T20:44:40.050845Z",
     "start_time": "2019-06-07T20:44:40.027264Z"
    }
   },
   "outputs": [
    {
     "name": "stderr",
     "output_type": "stream",
     "text": [
      "/Users/joe/anaconda3/lib/python3.6/site-packages/ipykernel_launcher.py:10: FutureWarning: reshape is deprecated and will raise in a subsequent release. Please use .values.reshape(...) instead\n",
      "  # Remove the CWD from sys.path while we load stuff.\n"
     ]
    },
    {
     "data": {
      "text/html": [
       "<table class=\"simpletable\">\n",
       "<caption>OLS Regression Results</caption>\n",
       "<tr>\n",
       "  <th>Dep. Variable:</th>            <td>y</td>        <th>  R-squared:         </th> <td>   0.918</td>\n",
       "</tr>\n",
       "<tr>\n",
       "  <th>Model:</th>                   <td>OLS</td>       <th>  Adj. R-squared:    </th> <td>   0.915</td>\n",
       "</tr>\n",
       "<tr>\n",
       "  <th>Method:</th>             <td>Least Squares</td>  <th>  F-statistic:       </th> <td>   236.4</td>\n",
       "</tr>\n",
       "<tr>\n",
       "  <th>Date:</th>             <td>Fri, 07 Jun 2019</td> <th>  Prob (F-statistic):</th> <td>6.66e-13</td>\n",
       "</tr>\n",
       "<tr>\n",
       "  <th>Time:</th>                 <td>15:44:40</td>     <th>  Log-Likelihood:    </th> <td> -246.58</td>\n",
       "</tr>\n",
       "<tr>\n",
       "  <th>No. Observations:</th>      <td>    22</td>      <th>  AIC:               </th> <td>   495.2</td>\n",
       "</tr>\n",
       "<tr>\n",
       "  <th>Df Residuals:</th>          <td>    21</td>      <th>  BIC:               </th> <td>   496.3</td>\n",
       "</tr>\n",
       "<tr>\n",
       "  <th>Df Model:</th>              <td>     1</td>      <th>                     </th>     <td> </td>   \n",
       "</tr>\n",
       "<tr>\n",
       "  <th>Covariance Type:</th>      <td>nonrobust</td>    <th>                     </th>     <td> </td>   \n",
       "</tr>\n",
       "</table>\n",
       "<table class=\"simpletable\">\n",
       "<tr>\n",
       "   <td></td>     <th>coef</th>     <th>std err</th>      <th>t</th>      <th>P>|t|</th>  <th>[0.025</th>    <th>0.975]</th>  \n",
       "</tr>\n",
       "<tr>\n",
       "  <th>x1</th> <td> 4880.3689</td> <td>  317.391</td> <td>   15.377</td> <td> 0.000</td> <td> 4220.318</td> <td> 5540.420</td>\n",
       "</tr>\n",
       "</table>\n",
       "<table class=\"simpletable\">\n",
       "<tr>\n",
       "  <th>Omnibus:</th>       <td> 0.940</td> <th>  Durbin-Watson:     </th> <td>   0.531</td>\n",
       "</tr>\n",
       "<tr>\n",
       "  <th>Prob(Omnibus):</th> <td> 0.625</td> <th>  Jarque-Bera (JB):  </th> <td>   0.896</td>\n",
       "</tr>\n",
       "<tr>\n",
       "  <th>Skew:</th>          <td>-0.413</td> <th>  Prob(JB):          </th> <td>   0.639</td>\n",
       "</tr>\n",
       "<tr>\n",
       "  <th>Kurtosis:</th>      <td> 2.456</td> <th>  Cond. No.          </th> <td>    1.00</td>\n",
       "</tr>\n",
       "</table>"
      ],
      "text/plain": [
       "<class 'statsmodels.iolib.summary.Summary'>\n",
       "\"\"\"\n",
       "                            OLS Regression Results                            \n",
       "==============================================================================\n",
       "Dep. Variable:                      y   R-squared:                       0.918\n",
       "Model:                            OLS   Adj. R-squared:                  0.915\n",
       "Method:                 Least Squares   F-statistic:                     236.4\n",
       "Date:                Fri, 07 Jun 2019   Prob (F-statistic):           6.66e-13\n",
       "Time:                        15:44:40   Log-Likelihood:                -246.58\n",
       "No. Observations:                  22   AIC:                             495.2\n",
       "Df Residuals:                      21   BIC:                             496.3\n",
       "Df Model:                           1                                         \n",
       "Covariance Type:            nonrobust                                         \n",
       "==============================================================================\n",
       "                 coef    std err          t      P>|t|      [0.025      0.975]\n",
       "------------------------------------------------------------------------------\n",
       "x1          4880.3689    317.391     15.377      0.000    4220.318    5540.420\n",
       "==============================================================================\n",
       "Omnibus:                        0.940   Durbin-Watson:                   0.531\n",
       "Prob(Omnibus):                  0.625   Jarque-Bera (JB):                0.896\n",
       "Skew:                          -0.413   Prob(JB):                        0.639\n",
       "Kurtosis:                       2.456   Cond. No.                         1.00\n",
       "==============================================================================\n",
       "\n",
       "Warnings:\n",
       "[1] Standard Errors assume that the covariance matrix of the errors is correctly specified.\n",
       "\"\"\""
      ]
     },
     "execution_count": 320,
     "metadata": {},
     "output_type": "execute_result"
    }
   ],
   "source": [
    "# group Revenue by Year and Month\n",
    "revenue = pd.DataFrame(df.groupby(['Year', 'Month'])['Revenue'].sum())\n",
    "# add a numeric index for regression\n",
    "revenue.reset_index(inplace=True)\n",
    "\n",
    "# regression model\n",
    "from sklearn.linear_model import LinearRegression\n",
    "\n",
    "from statsmodels.api import OLS\n",
    "reg = OLS(revenue['Revenue'].reshape(-1, 1),np.array(revenue.index).reshape(-1, 1)).fit()\n",
    "\n",
    "reg.summary()"
   ]
  },
  {
   "cell_type": "markdown",
   "metadata": {},
   "source": [
    "Now that we have our regression line and it is highly predictive of the data (there has been linear growth in the business), we'll use that to calculate the variance. Then we'll group the variances of each individual month into season and use that dataset to run our ANOVA test."
   ]
  },
  {
   "cell_type": "code",
   "execution_count": 321,
   "metadata": {
    "ExecuteTime": {
     "end_time": "2019-06-07T20:44:41.176583Z",
     "start_time": "2019-06-07T20:44:41.163769Z"
    }
   },
   "outputs": [
    {
     "data": {
      "text/html": [
       "<div>\n",
       "<style>\n",
       "    .dataframe thead tr:only-child th {\n",
       "        text-align: right;\n",
       "    }\n",
       "\n",
       "    .dataframe thead th {\n",
       "        text-align: left;\n",
       "    }\n",
       "\n",
       "    .dataframe tbody tr th {\n",
       "        vertical-align: top;\n",
       "    }\n",
       "</style>\n",
       "<table border=\"1\" class=\"dataframe\">\n",
       "  <thead>\n",
       "    <tr style=\"text-align: right;\">\n",
       "      <th></th>\n",
       "      <th>Year</th>\n",
       "      <th>Month</th>\n",
       "      <th>Revenue</th>\n",
       "      <th>Season</th>\n",
       "      <th>Variance</th>\n",
       "    </tr>\n",
       "  </thead>\n",
       "  <tbody>\n",
       "    <tr>\n",
       "      <th>0</th>\n",
       "      <td>2012</td>\n",
       "      <td>7</td>\n",
       "      <td>27861.895</td>\n",
       "      <td>Summer</td>\n",
       "      <td>27861.895000</td>\n",
       "    </tr>\n",
       "    <tr>\n",
       "      <th>1</th>\n",
       "      <td>2012</td>\n",
       "      <td>8</td>\n",
       "      <td>25485.275</td>\n",
       "      <td>Summer</td>\n",
       "      <td>20604.906108</td>\n",
       "    </tr>\n",
       "    <tr>\n",
       "      <th>2</th>\n",
       "      <td>2012</td>\n",
       "      <td>9</td>\n",
       "      <td>26381.400</td>\n",
       "      <td>Fall</td>\n",
       "      <td>16620.662215</td>\n",
       "    </tr>\n",
       "    <tr>\n",
       "      <th>3</th>\n",
       "      <td>2012</td>\n",
       "      <td>10</td>\n",
       "      <td>37515.725</td>\n",
       "      <td>Fall</td>\n",
       "      <td>22874.618323</td>\n",
       "    </tr>\n",
       "    <tr>\n",
       "      <th>4</th>\n",
       "      <td>2012</td>\n",
       "      <td>11</td>\n",
       "      <td>45600.045</td>\n",
       "      <td>Fall</td>\n",
       "      <td>26078.569431</td>\n",
       "    </tr>\n",
       "  </tbody>\n",
       "</table>\n",
       "</div>"
      ],
      "text/plain": [
       "   Year  Month    Revenue  Season      Variance\n",
       "0  2012      7  27861.895  Summer  27861.895000\n",
       "1  2012      8  25485.275  Summer  20604.906108\n",
       "2  2012      9  26381.400    Fall  16620.662215\n",
       "3  2012     10  37515.725    Fall  22874.618323\n",
       "4  2012     11  45600.045    Fall  26078.569431"
      ]
     },
     "execution_count": 321,
     "metadata": {},
     "output_type": "execute_result"
    }
   ],
   "source": [
    "revenue['Season'] = revenue['Month'].map(seasons)\n",
    "revenue['Variance'] = revenue['Revenue'] - reg.predict(revenue.index)\n",
    "revenue.head()"
   ]
  },
  {
   "cell_type": "code",
   "execution_count": 322,
   "metadata": {
    "ExecuteTime": {
     "end_time": "2019-06-07T20:44:41.667439Z",
     "start_time": "2019-06-07T20:44:41.624813Z"
    }
   },
   "outputs": [
    {
     "data": {
      "text/plain": [
       "F_onewayResult(statistic=array([ 0.3051157]), pvalue=array([ 0.8213299]))"
      ]
     },
     "execution_count": 322,
     "metadata": {},
     "output_type": "execute_result"
    }
   ],
   "source": [
    "spring = []\n",
    "summer = []\n",
    "fall = []\n",
    "winter = []\n",
    "for index, row in revenue.iterrows():\n",
    "    if row['Season'] == 'Spring':\n",
    "        spring.append(row['Variance'])\n",
    "    elif row['Season'] == 'Summer':\n",
    "        summer.append(row['Variance'])\n",
    "    elif row['Season'] == 'Fall':\n",
    "        fall.append(row['Variance'])\n",
    "    elif row['Season'] == 'Winter':\n",
    "        winter.append(row['Variance'])\n",
    "\n",
    "spring = pd.DataFrame(data=spring, columns=['Spring'])\n",
    "summer = pd.DataFrame(data=summer, columns=['Summer'])\n",
    "fall = pd.DataFrame(data=fall, columns=['Fall'])\n",
    "winter = pd.DataFrame(data=winter, columns=['Winter'])\n",
    "\n",
    "# One-way ANOVA test\n",
    "stats.f_oneway(spring, summer, fall, winter)"
   ]
  },
  {
   "cell_type": "markdown",
   "metadata": {
    "ExecuteTime": {
     "end_time": "2019-06-07T19:44:36.530980Z",
     "start_time": "2019-06-07T19:44:36.525257Z"
    }
   },
   "source": [
    "#### Conclusion\n",
    "\n",
    "With an F-statistic of `0.3051`, we know that most of the variation in the dataset is within the seasons and not between them. A large p-value of `0.8213` indicates that there isn't enough statistical proof to indicate that the there is a difference in revenue between the seasons. "
   ]
  },
  {
   "cell_type": "markdown",
   "metadata": {},
   "source": [
    "### Does supply region effect the reoder level of a product?"
   ]
  },
  {
   "cell_type": "code",
   "execution_count": 365,
   "metadata": {
    "ExecuteTime": {
     "end_time": "2019-06-08T16:31:09.594382Z",
     "start_time": "2019-06-08T16:31:09.556963Z"
    }
   },
   "outputs": [
    {
     "name": "stdout",
     "output_type": "stream",
     "text": [
      "2019-06-08 11:31:09,570 INFO sqlalchemy.engine.base.Engine SELECT * FROM 'Supplier'\n",
      "2019-06-08 11:31:09,572 INFO sqlalchemy.engine.base.Engine ()\n",
      "2019-06-08 11:31:09,576 INFO sqlalchemy.engine.base.Engine SELECT * FROM 'Product'\n",
      "2019-06-08 11:31:09,577 INFO sqlalchemy.engine.base.Engine ()\n"
     ]
    },
    {
     "data": {
      "text/html": [
       "<div>\n",
       "<style>\n",
       "    .dataframe thead tr:only-child th {\n",
       "        text-align: right;\n",
       "    }\n",
       "\n",
       "    .dataframe thead th {\n",
       "        text-align: left;\n",
       "    }\n",
       "\n",
       "    .dataframe tbody tr th {\n",
       "        vertical-align: top;\n",
       "    }\n",
       "</style>\n",
       "<table border=\"1\" class=\"dataframe\">\n",
       "  <thead>\n",
       "    <tr style=\"text-align: right;\">\n",
       "      <th></th>\n",
       "      <th>SupplierId</th>\n",
       "      <th>SupplierName</th>\n",
       "      <th>Region</th>\n",
       "      <th>ProductId</th>\n",
       "      <th>ProductName</th>\n",
       "      <th>ReorderLevel</th>\n",
       "    </tr>\n",
       "  </thead>\n",
       "  <tbody>\n",
       "    <tr>\n",
       "      <th>0</th>\n",
       "      <td>1</td>\n",
       "      <td>Exotic Liquids</td>\n",
       "      <td>British Isles</td>\n",
       "      <td>1</td>\n",
       "      <td>Chai</td>\n",
       "      <td>10</td>\n",
       "    </tr>\n",
       "    <tr>\n",
       "      <th>1</th>\n",
       "      <td>1</td>\n",
       "      <td>Exotic Liquids</td>\n",
       "      <td>British Isles</td>\n",
       "      <td>2</td>\n",
       "      <td>Chang</td>\n",
       "      <td>25</td>\n",
       "    </tr>\n",
       "    <tr>\n",
       "      <th>2</th>\n",
       "      <td>1</td>\n",
       "      <td>Exotic Liquids</td>\n",
       "      <td>British Isles</td>\n",
       "      <td>3</td>\n",
       "      <td>Aniseed Syrup</td>\n",
       "      <td>25</td>\n",
       "    </tr>\n",
       "    <tr>\n",
       "      <th>3</th>\n",
       "      <td>2</td>\n",
       "      <td>New Orleans Cajun Delights</td>\n",
       "      <td>North America</td>\n",
       "      <td>4</td>\n",
       "      <td>Chef Anton's Cajun Seasoning</td>\n",
       "      <td>0</td>\n",
       "    </tr>\n",
       "    <tr>\n",
       "      <th>4</th>\n",
       "      <td>2</td>\n",
       "      <td>New Orleans Cajun Delights</td>\n",
       "      <td>North America</td>\n",
       "      <td>5</td>\n",
       "      <td>Chef Anton's Gumbo Mix</td>\n",
       "      <td>0</td>\n",
       "    </tr>\n",
       "  </tbody>\n",
       "</table>\n",
       "</div>"
      ],
      "text/plain": [
       "   SupplierId                SupplierName         Region  ProductId  \\\n",
       "0           1              Exotic Liquids  British Isles          1   \n",
       "1           1              Exotic Liquids  British Isles          2   \n",
       "2           1              Exotic Liquids  British Isles          3   \n",
       "3           2  New Orleans Cajun Delights  North America          4   \n",
       "4           2  New Orleans Cajun Delights  North America          5   \n",
       "\n",
       "                    ProductName  ReorderLevel  \n",
       "0                          Chai            10  \n",
       "1                         Chang            25  \n",
       "2                 Aniseed Syrup            25  \n",
       "3  Chef Anton's Cajun Seasoning             0  \n",
       "4        Chef Anton's Gumbo Mix             0  "
      ]
     },
     "execution_count": 365,
     "metadata": {},
     "output_type": "execute_result"
    }
   ],
   "source": [
    "# Import supplier data\n",
    "supplier_df = get_table_data(con, 'Supplier')\n",
    "\n",
    "# Drop unneeded columns\n",
    "supplier_df.drop(['ContactName', 'ContactTitle', 'Address', 'City', 'PostalCode', 'Country', 'Phone', 'Fax', 'HomePage'], axis=1, inplace=True)\n",
    "supplier_df.rename(columns={'CompanyName':'SupplierName'}, inplace=True)\n",
    "\n",
    "# import product data\n",
    "product_df = get_table_data(con, 'Product')\n",
    "\n",
    "# Drop unneeded columns\n",
    "product_df.drop(['CategoryId', 'QuantityPerUnit', 'UnitPrice', 'UnitsInStock', 'UnitsOnOrder', 'Discontinued'], axis=1, inplace=True)\n",
    "\n",
    "# Merge and cleanup DataFrames\n",
    "df = supplier_df.merge(product_df, left_on='Id', right_on='SupplierId', how='left',suffixes=('', '_p'))\n",
    "df.drop(['SupplierId'], axis=1, inplace=True)\n",
    "df.rename(columns={'Id': 'SupplierId', 'Id_p': 'ProductId'}, inplace=True)\n",
    "df.head()"
   ]
  },
  {
   "cell_type": "code",
   "execution_count": 368,
   "metadata": {
    "ExecuteTime": {
     "end_time": "2019-06-08T16:37:33.563597Z",
     "start_time": "2019-06-08T16:37:33.557903Z"
    }
   },
   "outputs": [
    {
     "data": {
      "text/plain": [
       "0     24\n",
       "25    12\n",
       "15    10\n",
       "30     8\n",
       "20     8\n",
       "5      8\n",
       "10     7\n",
       "Name: ReorderLevel, dtype: int64"
      ]
     },
     "execution_count": 368,
     "metadata": {},
     "output_type": "execute_result"
    }
   ],
   "source": [
    "df.ReorderLevel.value_counts()"
   ]
  },
  {
   "cell_type": "code",
   "execution_count": 374,
   "metadata": {
    "ExecuteTime": {
     "end_time": "2019-06-08T16:42:54.592598Z",
     "start_time": "2019-06-08T16:42:54.584334Z"
    }
   },
   "outputs": [
    {
     "data": {
      "text/html": [
       "<div>\n",
       "<style>\n",
       "    .dataframe thead tr:only-child th {\n",
       "        text-align: right;\n",
       "    }\n",
       "\n",
       "    .dataframe thead th {\n",
       "        text-align: left;\n",
       "    }\n",
       "\n",
       "    .dataframe tbody tr th {\n",
       "        vertical-align: top;\n",
       "    }\n",
       "</style>\n",
       "<table border=\"1\" class=\"dataframe\">\n",
       "  <thead>\n",
       "    <tr style=\"text-align: right;\">\n",
       "      <th></th>\n",
       "      <th>ProductId</th>\n",
       "    </tr>\n",
       "    <tr>\n",
       "      <th>Region</th>\n",
       "      <th></th>\n",
       "    </tr>\n",
       "  </thead>\n",
       "  <tbody>\n",
       "    <tr>\n",
       "      <th>British Isles</th>\n",
       "      <td>7</td>\n",
       "    </tr>\n",
       "    <tr>\n",
       "      <th>Eastern Asia</th>\n",
       "      <td>6</td>\n",
       "    </tr>\n",
       "    <tr>\n",
       "      <th>NSW</th>\n",
       "      <td>3</td>\n",
       "    </tr>\n",
       "    <tr>\n",
       "      <th>North America</th>\n",
       "      <td>16</td>\n",
       "    </tr>\n",
       "    <tr>\n",
       "      <th>Northern Europe</th>\n",
       "      <td>9</td>\n",
       "    </tr>\n",
       "    <tr>\n",
       "      <th>Scandinavia</th>\n",
       "      <td>6</td>\n",
       "    </tr>\n",
       "    <tr>\n",
       "      <th>South America</th>\n",
       "      <td>1</td>\n",
       "    </tr>\n",
       "    <tr>\n",
       "      <th>South-East Asia</th>\n",
       "      <td>3</td>\n",
       "    </tr>\n",
       "    <tr>\n",
       "      <th>Southern Europe</th>\n",
       "      <td>7</td>\n",
       "    </tr>\n",
       "    <tr>\n",
       "      <th>Victoria</th>\n",
       "      <td>5</td>\n",
       "    </tr>\n",
       "    <tr>\n",
       "      <th>Western Europe</th>\n",
       "      <td>14</td>\n",
       "    </tr>\n",
       "  </tbody>\n",
       "</table>\n",
       "</div>"
      ],
      "text/plain": [
       "                 ProductId\n",
       "Region                    \n",
       "British Isles            7\n",
       "Eastern Asia             6\n",
       "NSW                      3\n",
       "North America           16\n",
       "Northern Europe          9\n",
       "Scandinavia              6\n",
       "South America            1\n",
       "South-East Asia          3\n",
       "Southern Europe          7\n",
       "Victoria                 5\n",
       "Western Europe          14"
      ]
     },
     "execution_count": 374,
     "metadata": {},
     "output_type": "execute_result"
    }
   ],
   "source": [
    "pd.DataFrame(df.groupby(['Region'])['ProductId'].count()) #.sum().plot(kind='bar')"
   ]
  },
  {
   "cell_type": "code",
   "execution_count": null,
   "metadata": {
    "collapsed": true
   },
   "outputs": [],
   "source": []
  },
  {
   "cell_type": "code",
   "execution_count": null,
   "metadata": {
    "collapsed": true
   },
   "outputs": [],
   "source": []
  },
  {
   "cell_type": "code",
   "execution_count": null,
   "metadata": {
    "collapsed": true
   },
   "outputs": [],
   "source": []
  },
  {
   "cell_type": "code",
   "execution_count": null,
   "metadata": {
    "collapsed": true
   },
   "outputs": [],
   "source": []
  },
  {
   "cell_type": "markdown",
   "metadata": {},
   "source": [
    "### Hypothesis #3"
   ]
  },
  {
   "cell_type": "markdown",
   "metadata": {},
   "source": [
    "## Conclusion"
   ]
  },
  {
   "cell_type": "markdown",
   "metadata": {},
   "source": [
    "## Future Work"
   ]
  },
  {
   "cell_type": "markdown",
   "metadata": {},
   "source": [
    "## Recap\n",
    "\n",
    "- Introduction\n",
    "- Discount Effect\n",
    "  - Get Data\n",
    "  - Explore + Clean\n",
    "  - Experimental Design\n",
    "    - Check Assumptions\n",
    "    - Get Samples\n",
    "    - T Test\n",
    "    - ANOVA\n",
    "  - Conclusion\n",
    "- Hypothesis Testing\n",
    "- Conclusion\n",
    "- Future Work\n",
    "- Recap"
   ]
  },
  {
   "cell_type": "code",
   "execution_count": null,
   "metadata": {
    "collapsed": true
   },
   "outputs": [],
   "source": []
  }
 ],
 "metadata": {
  "hide_input": false,
  "kernelspec": {
   "display_name": "Python 3",
   "language": "python",
   "name": "python3"
  },
  "language_info": {
   "codemirror_mode": {
    "name": "ipython",
    "version": 3
   },
   "file_extension": ".py",
   "mimetype": "text/x-python",
   "name": "python",
   "nbconvert_exporter": "python",
   "pygments_lexer": "ipython3",
   "version": "3.6.3"
  },
  "toc": {
   "base_numbering": 1,
   "nav_menu": {},
   "number_sections": false,
   "sideBar": true,
   "skip_h1_title": true,
   "title_cell": "Table of Contents",
   "title_sidebar": "Contents",
   "toc_cell": false,
   "toc_position": {},
   "toc_section_display": true,
   "toc_window_display": true
  },
  "varInspector": {
   "cols": {
    "lenName": 16,
    "lenType": 16,
    "lenVar": 40
   },
   "kernels_config": {
    "python": {
     "delete_cmd_postfix": "",
     "delete_cmd_prefix": "del ",
     "library": "var_list.py",
     "varRefreshCmd": "print(var_dic_list())"
    },
    "r": {
     "delete_cmd_postfix": ") ",
     "delete_cmd_prefix": "rm(",
     "library": "var_list.r",
     "varRefreshCmd": "cat(var_dic_list()) "
    }
   },
   "oldHeight": 122,
   "position": {
    "height": "40px",
    "left": "1170px",
    "right": "20px",
    "top": "120px",
    "width": "250px"
   },
   "types_to_exclude": [
    "module",
    "function",
    "builtin_function_or_method",
    "instance",
    "_Feature"
   ],
   "varInspector_section_display": "none",
   "window_display": true
  }
 },
 "nbformat": 4,
 "nbformat_minor": 2
}
